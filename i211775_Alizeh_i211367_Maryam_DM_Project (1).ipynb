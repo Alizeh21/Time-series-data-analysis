{
 "cells": [
  {
   "cell_type": "markdown",
   "id": "f867b068",
   "metadata": {},
   "source": [
    "#### LOADING THE DATASET INCLUDING THE CONCENTRATION OF CO2 IN THE ATMOSPHERE `ENVIRONMENTAL SECTOR`"
   ]
  },
  {
   "cell_type": "code",
   "execution_count": 1,
   "id": "df1701f8",
   "metadata": {},
   "outputs": [],
   "source": [
    "import numpy as np\n",
    "import pandas as pd "
   ]
  },
  {
   "cell_type": "code",
   "execution_count": 2,
   "id": "eaf2544a",
   "metadata": {},
   "outputs": [
    {
     "data": {
      "text/html": [
       "<div>\n",
       "<style scoped>\n",
       "    .dataframe tbody tr th:only-of-type {\n",
       "        vertical-align: middle;\n",
       "    }\n",
       "\n",
       "    .dataframe tbody tr th {\n",
       "        vertical-align: top;\n",
       "    }\n",
       "\n",
       "    .dataframe thead th {\n",
       "        text-align: right;\n",
       "    }\n",
       "</style>\n",
       "<table border=\"1\" class=\"dataframe\">\n",
       "  <thead>\n",
       "    <tr style=\"text-align: right;\">\n",
       "      <th></th>\n",
       "      <th>Year</th>\n",
       "      <th>Month</th>\n",
       "      <th>Decimal Date</th>\n",
       "      <th>Carbon Dioxide (ppm)</th>\n",
       "      <th>Seasonally Adjusted CO2 (ppm)</th>\n",
       "      <th>Carbon Dioxide Fit (ppm)</th>\n",
       "      <th>Seasonally Adjusted CO2 Fit (ppm)</th>\n",
       "    </tr>\n",
       "  </thead>\n",
       "  <tbody>\n",
       "    <tr>\n",
       "      <th>0</th>\n",
       "      <td>1958</td>\n",
       "      <td>1</td>\n",
       "      <td>1958.0411</td>\n",
       "      <td>NaN</td>\n",
       "      <td>NaN</td>\n",
       "      <td>NaN</td>\n",
       "      <td>NaN</td>\n",
       "    </tr>\n",
       "    <tr>\n",
       "      <th>1</th>\n",
       "      <td>1958</td>\n",
       "      <td>2</td>\n",
       "      <td>1958.1260</td>\n",
       "      <td>NaN</td>\n",
       "      <td>NaN</td>\n",
       "      <td>NaN</td>\n",
       "      <td>NaN</td>\n",
       "    </tr>\n",
       "    <tr>\n",
       "      <th>2</th>\n",
       "      <td>1958</td>\n",
       "      <td>3</td>\n",
       "      <td>1958.2027</td>\n",
       "      <td>315.69</td>\n",
       "      <td>314.42</td>\n",
       "      <td>316.18</td>\n",
       "      <td>314.89</td>\n",
       "    </tr>\n",
       "    <tr>\n",
       "      <th>3</th>\n",
       "      <td>1958</td>\n",
       "      <td>4</td>\n",
       "      <td>1958.2877</td>\n",
       "      <td>317.45</td>\n",
       "      <td>315.15</td>\n",
       "      <td>317.30</td>\n",
       "      <td>314.98</td>\n",
       "    </tr>\n",
       "    <tr>\n",
       "      <th>4</th>\n",
       "      <td>1958</td>\n",
       "      <td>5</td>\n",
       "      <td>1958.3699</td>\n",
       "      <td>317.50</td>\n",
       "      <td>314.73</td>\n",
       "      <td>317.83</td>\n",
       "      <td>315.06</td>\n",
       "    </tr>\n",
       "    <tr>\n",
       "      <th>...</th>\n",
       "      <td>...</td>\n",
       "      <td>...</td>\n",
       "      <td>...</td>\n",
       "      <td>...</td>\n",
       "      <td>...</td>\n",
       "      <td>...</td>\n",
       "      <td>...</td>\n",
       "    </tr>\n",
       "    <tr>\n",
       "      <th>715</th>\n",
       "      <td>2017</td>\n",
       "      <td>8</td>\n",
       "      <td>2017.6219</td>\n",
       "      <td>NaN</td>\n",
       "      <td>NaN</td>\n",
       "      <td>NaN</td>\n",
       "      <td>NaN</td>\n",
       "    </tr>\n",
       "    <tr>\n",
       "      <th>716</th>\n",
       "      <td>2017</td>\n",
       "      <td>9</td>\n",
       "      <td>2017.7068</td>\n",
       "      <td>NaN</td>\n",
       "      <td>NaN</td>\n",
       "      <td>NaN</td>\n",
       "      <td>NaN</td>\n",
       "    </tr>\n",
       "    <tr>\n",
       "      <th>717</th>\n",
       "      <td>2017</td>\n",
       "      <td>10</td>\n",
       "      <td>2017.7890</td>\n",
       "      <td>NaN</td>\n",
       "      <td>NaN</td>\n",
       "      <td>NaN</td>\n",
       "      <td>NaN</td>\n",
       "    </tr>\n",
       "    <tr>\n",
       "      <th>718</th>\n",
       "      <td>2017</td>\n",
       "      <td>11</td>\n",
       "      <td>2017.8740</td>\n",
       "      <td>NaN</td>\n",
       "      <td>NaN</td>\n",
       "      <td>NaN</td>\n",
       "      <td>NaN</td>\n",
       "    </tr>\n",
       "    <tr>\n",
       "      <th>719</th>\n",
       "      <td>2017</td>\n",
       "      <td>12</td>\n",
       "      <td>2017.9562</td>\n",
       "      <td>NaN</td>\n",
       "      <td>NaN</td>\n",
       "      <td>NaN</td>\n",
       "      <td>NaN</td>\n",
       "    </tr>\n",
       "  </tbody>\n",
       "</table>\n",
       "<p>720 rows × 7 columns</p>\n",
       "</div>"
      ],
      "text/plain": [
       "     Year  Month  Decimal Date  Carbon Dioxide (ppm)  \\\n",
       "0    1958      1     1958.0411                   NaN   \n",
       "1    1958      2     1958.1260                   NaN   \n",
       "2    1958      3     1958.2027                315.69   \n",
       "3    1958      4     1958.2877                317.45   \n",
       "4    1958      5     1958.3699                317.50   \n",
       "..    ...    ...           ...                   ...   \n",
       "715  2017      8     2017.6219                   NaN   \n",
       "716  2017      9     2017.7068                   NaN   \n",
       "717  2017     10     2017.7890                   NaN   \n",
       "718  2017     11     2017.8740                   NaN   \n",
       "719  2017     12     2017.9562                   NaN   \n",
       "\n",
       "     Seasonally Adjusted CO2 (ppm)  Carbon Dioxide Fit (ppm)  \\\n",
       "0                              NaN                       NaN   \n",
       "1                              NaN                       NaN   \n",
       "2                           314.42                    316.18   \n",
       "3                           315.15                    317.30   \n",
       "4                           314.73                    317.83   \n",
       "..                             ...                       ...   \n",
       "715                            NaN                       NaN   \n",
       "716                            NaN                       NaN   \n",
       "717                            NaN                       NaN   \n",
       "718                            NaN                       NaN   \n",
       "719                            NaN                       NaN   \n",
       "\n",
       "     Seasonally Adjusted CO2 Fit (ppm)  \n",
       "0                                  NaN  \n",
       "1                                  NaN  \n",
       "2                               314.89  \n",
       "3                               314.98  \n",
       "4                               315.06  \n",
       "..                                 ...  \n",
       "715                                NaN  \n",
       "716                                NaN  \n",
       "717                                NaN  \n",
       "718                                NaN  \n",
       "719                                NaN  \n",
       "\n",
       "[720 rows x 7 columns]"
      ]
     },
     "execution_count": 2,
     "metadata": {},
     "output_type": "execute_result"
    }
   ],
   "source": [
    "DataFrame = pd.read_csv(r'D:\\Semester-6\\DATA-MINING-LAB\\Semester_Project\\archive.csv')\n",
    "\n",
    "DataFrame"
   ]
  },
  {
   "cell_type": "code",
   "execution_count": 3,
   "id": "5b440b66",
   "metadata": {},
   "outputs": [
    {
     "data": {
      "text/html": [
       "<div>\n",
       "<style scoped>\n",
       "    .dataframe tbody tr th:only-of-type {\n",
       "        vertical-align: middle;\n",
       "    }\n",
       "\n",
       "    .dataframe tbody tr th {\n",
       "        vertical-align: top;\n",
       "    }\n",
       "\n",
       "    .dataframe thead th {\n",
       "        text-align: right;\n",
       "    }\n",
       "</style>\n",
       "<table border=\"1\" class=\"dataframe\">\n",
       "  <thead>\n",
       "    <tr style=\"text-align: right;\">\n",
       "      <th></th>\n",
       "      <th>Year</th>\n",
       "      <th>Month</th>\n",
       "      <th>Decimal Date</th>\n",
       "      <th>Carbon Dioxide (ppm)</th>\n",
       "      <th>Seasonally Adjusted CO2 (ppm)</th>\n",
       "      <th>Carbon Dioxide Fit (ppm)</th>\n",
       "      <th>Seasonally Adjusted CO2 Fit (ppm)</th>\n",
       "    </tr>\n",
       "  </thead>\n",
       "  <tbody>\n",
       "    <tr>\n",
       "      <th>0</th>\n",
       "      <td>1958</td>\n",
       "      <td>1</td>\n",
       "      <td>1958.0411</td>\n",
       "      <td>NaN</td>\n",
       "      <td>NaN</td>\n",
       "      <td>NaN</td>\n",
       "      <td>NaN</td>\n",
       "    </tr>\n",
       "    <tr>\n",
       "      <th>1</th>\n",
       "      <td>1958</td>\n",
       "      <td>2</td>\n",
       "      <td>1958.1260</td>\n",
       "      <td>NaN</td>\n",
       "      <td>NaN</td>\n",
       "      <td>NaN</td>\n",
       "      <td>NaN</td>\n",
       "    </tr>\n",
       "    <tr>\n",
       "      <th>2</th>\n",
       "      <td>1958</td>\n",
       "      <td>3</td>\n",
       "      <td>1958.2027</td>\n",
       "      <td>315.69</td>\n",
       "      <td>314.42</td>\n",
       "      <td>316.18</td>\n",
       "      <td>314.89</td>\n",
       "    </tr>\n",
       "    <tr>\n",
       "      <th>3</th>\n",
       "      <td>1958</td>\n",
       "      <td>4</td>\n",
       "      <td>1958.2877</td>\n",
       "      <td>317.45</td>\n",
       "      <td>315.15</td>\n",
       "      <td>317.30</td>\n",
       "      <td>314.98</td>\n",
       "    </tr>\n",
       "    <tr>\n",
       "      <th>4</th>\n",
       "      <td>1958</td>\n",
       "      <td>5</td>\n",
       "      <td>1958.3699</td>\n",
       "      <td>317.50</td>\n",
       "      <td>314.73</td>\n",
       "      <td>317.83</td>\n",
       "      <td>315.06</td>\n",
       "    </tr>\n",
       "  </tbody>\n",
       "</table>\n",
       "</div>"
      ],
      "text/plain": [
       "   Year  Month  Decimal Date  Carbon Dioxide (ppm)  \\\n",
       "0  1958      1     1958.0411                   NaN   \n",
       "1  1958      2     1958.1260                   NaN   \n",
       "2  1958      3     1958.2027                315.69   \n",
       "3  1958      4     1958.2877                317.45   \n",
       "4  1958      5     1958.3699                317.50   \n",
       "\n",
       "   Seasonally Adjusted CO2 (ppm)  Carbon Dioxide Fit (ppm)  \\\n",
       "0                            NaN                       NaN   \n",
       "1                            NaN                       NaN   \n",
       "2                         314.42                    316.18   \n",
       "3                         315.15                    317.30   \n",
       "4                         314.73                    317.83   \n",
       "\n",
       "   Seasonally Adjusted CO2 Fit (ppm)  \n",
       "0                                NaN  \n",
       "1                                NaN  \n",
       "2                             314.89  \n",
       "3                             314.98  \n",
       "4                             315.06  "
      ]
     },
     "execution_count": 3,
     "metadata": {},
     "output_type": "execute_result"
    }
   ],
   "source": [
    "DataFrame.head()"
   ]
  },
  {
   "cell_type": "code",
   "execution_count": 4,
   "id": "52becec4",
   "metadata": {},
   "outputs": [
    {
     "name": "stdout",
     "output_type": "stream",
     "text": [
      "<class 'pandas.core.frame.DataFrame'>\n",
      "RangeIndex: 720 entries, 0 to 719\n",
      "Data columns (total 7 columns):\n",
      " #   Column                             Non-Null Count  Dtype  \n",
      "---  ------                             --------------  -----  \n",
      " 0   Year                               720 non-null    int64  \n",
      " 1   Month                              720 non-null    int64  \n",
      " 2   Decimal Date                       720 non-null    float64\n",
      " 3   Carbon Dioxide (ppm)               703 non-null    float64\n",
      " 4   Seasonally Adjusted CO2 (ppm)      703 non-null    float64\n",
      " 5   Carbon Dioxide Fit (ppm)           707 non-null    float64\n",
      " 6   Seasonally Adjusted CO2 Fit (ppm)  707 non-null    float64\n",
      "dtypes: float64(5), int64(2)\n",
      "memory usage: 39.5 KB\n"
     ]
    }
   ],
   "source": [
    "DataFrame.info()"
   ]
  },
  {
   "cell_type": "code",
   "execution_count": 5,
   "id": "c5475bfe",
   "metadata": {},
   "outputs": [
    {
     "data": {
      "text/plain": [
       "Year                                  0\n",
       "Month                                 0\n",
       "Decimal Date                          0\n",
       "Carbon Dioxide (ppm)                 17\n",
       "Seasonally Adjusted CO2 (ppm)        17\n",
       "Carbon Dioxide Fit (ppm)             13\n",
       "Seasonally Adjusted CO2 Fit (ppm)    13\n",
       "dtype: int64"
      ]
     },
     "execution_count": 5,
     "metadata": {},
     "output_type": "execute_result"
    }
   ],
   "source": [
    "# Checking the number of missing values in each column\n",
    "\n",
    "DataFrame.isnull().sum()\n"
   ]
  },
  {
   "cell_type": "code",
   "execution_count": 6,
   "id": "f9a93914",
   "metadata": {},
   "outputs": [],
   "source": [
    "# Fill missing values with linear interpolation for continuous columns\n",
    "DataFrame.interpolate(method='linear', limit_direction='forward', axis=0, inplace=True)"
   ]
  },
  {
   "cell_type": "code",
   "execution_count": 7,
   "id": "bc6aafcb",
   "metadata": {},
   "outputs": [
    {
     "data": {
      "text/plain": [
       "Year                                 0\n",
       "Month                                0\n",
       "Decimal Date                         0\n",
       "Carbon Dioxide (ppm)                 2\n",
       "Seasonally Adjusted CO2 (ppm)        2\n",
       "Carbon Dioxide Fit (ppm)             2\n",
       "Seasonally Adjusted CO2 Fit (ppm)    2\n",
       "dtype: int64"
      ]
     },
     "execution_count": 7,
     "metadata": {},
     "output_type": "execute_result"
    }
   ],
   "source": [
    "# Verify that the missing values have been handled\n",
    "missing_values_after = DataFrame.isnull().sum()\n",
    "\n",
    "missing_values_after"
   ]
  },
  {
   "cell_type": "code",
   "execution_count": 8,
   "id": "ad8029a1",
   "metadata": {},
   "outputs": [
    {
     "data": {
      "text/html": [
       "<div>\n",
       "<style scoped>\n",
       "    .dataframe tbody tr th:only-of-type {\n",
       "        vertical-align: middle;\n",
       "    }\n",
       "\n",
       "    .dataframe tbody tr th {\n",
       "        vertical-align: top;\n",
       "    }\n",
       "\n",
       "    .dataframe thead th {\n",
       "        text-align: right;\n",
       "    }\n",
       "</style>\n",
       "<table border=\"1\" class=\"dataframe\">\n",
       "  <thead>\n",
       "    <tr style=\"text-align: right;\">\n",
       "      <th></th>\n",
       "      <th>Year</th>\n",
       "      <th>Month</th>\n",
       "      <th>Decimal Date</th>\n",
       "      <th>Carbon Dioxide (ppm)</th>\n",
       "      <th>Seasonally Adjusted CO2 (ppm)</th>\n",
       "      <th>Carbon Dioxide Fit (ppm)</th>\n",
       "      <th>Seasonally Adjusted CO2 Fit (ppm)</th>\n",
       "    </tr>\n",
       "  </thead>\n",
       "  <tbody>\n",
       "    <tr>\n",
       "      <th>0</th>\n",
       "      <td>1958</td>\n",
       "      <td>1</td>\n",
       "      <td>1958.0411</td>\n",
       "      <td>NaN</td>\n",
       "      <td>NaN</td>\n",
       "      <td>NaN</td>\n",
       "      <td>NaN</td>\n",
       "    </tr>\n",
       "    <tr>\n",
       "      <th>1</th>\n",
       "      <td>1958</td>\n",
       "      <td>2</td>\n",
       "      <td>1958.1260</td>\n",
       "      <td>NaN</td>\n",
       "      <td>NaN</td>\n",
       "      <td>NaN</td>\n",
       "      <td>NaN</td>\n",
       "    </tr>\n",
       "    <tr>\n",
       "      <th>2</th>\n",
       "      <td>1958</td>\n",
       "      <td>3</td>\n",
       "      <td>1958.2027</td>\n",
       "      <td>315.69</td>\n",
       "      <td>314.42</td>\n",
       "      <td>316.18</td>\n",
       "      <td>314.89</td>\n",
       "    </tr>\n",
       "    <tr>\n",
       "      <th>3</th>\n",
       "      <td>1958</td>\n",
       "      <td>4</td>\n",
       "      <td>1958.2877</td>\n",
       "      <td>317.45</td>\n",
       "      <td>315.15</td>\n",
       "      <td>317.30</td>\n",
       "      <td>314.98</td>\n",
       "    </tr>\n",
       "    <tr>\n",
       "      <th>4</th>\n",
       "      <td>1958</td>\n",
       "      <td>5</td>\n",
       "      <td>1958.3699</td>\n",
       "      <td>317.50</td>\n",
       "      <td>314.73</td>\n",
       "      <td>317.83</td>\n",
       "      <td>315.06</td>\n",
       "    </tr>\n",
       "    <tr>\n",
       "      <th>5</th>\n",
       "      <td>1958</td>\n",
       "      <td>6</td>\n",
       "      <td>1958.4548</td>\n",
       "      <td>316.68</td>\n",
       "      <td>314.95</td>\n",
       "      <td>317.22</td>\n",
       "      <td>315.14</td>\n",
       "    </tr>\n",
       "    <tr>\n",
       "      <th>6</th>\n",
       "      <td>1958</td>\n",
       "      <td>7</td>\n",
       "      <td>1958.5370</td>\n",
       "      <td>315.86</td>\n",
       "      <td>315.17</td>\n",
       "      <td>315.87</td>\n",
       "      <td>315.21</td>\n",
       "    </tr>\n",
       "    <tr>\n",
       "      <th>7</th>\n",
       "      <td>1958</td>\n",
       "      <td>8</td>\n",
       "      <td>1958.6219</td>\n",
       "      <td>314.93</td>\n",
       "      <td>316.17</td>\n",
       "      <td>314.01</td>\n",
       "      <td>315.29</td>\n",
       "    </tr>\n",
       "    <tr>\n",
       "      <th>8</th>\n",
       "      <td>1958</td>\n",
       "      <td>9</td>\n",
       "      <td>1958.7068</td>\n",
       "      <td>313.21</td>\n",
       "      <td>316.06</td>\n",
       "      <td>312.48</td>\n",
       "      <td>315.35</td>\n",
       "    </tr>\n",
       "    <tr>\n",
       "      <th>9</th>\n",
       "      <td>1958</td>\n",
       "      <td>10</td>\n",
       "      <td>1958.7890</td>\n",
       "      <td>313.27</td>\n",
       "      <td>315.63</td>\n",
       "      <td>312.45</td>\n",
       "      <td>315.40</td>\n",
       "    </tr>\n",
       "    <tr>\n",
       "      <th>10</th>\n",
       "      <td>1958</td>\n",
       "      <td>11</td>\n",
       "      <td>1958.8740</td>\n",
       "      <td>313.33</td>\n",
       "      <td>315.20</td>\n",
       "      <td>313.61</td>\n",
       "      <td>315.46</td>\n",
       "    </tr>\n",
       "    <tr>\n",
       "      <th>11</th>\n",
       "      <td>1958</td>\n",
       "      <td>12</td>\n",
       "      <td>1958.9562</td>\n",
       "      <td>314.67</td>\n",
       "      <td>315.44</td>\n",
       "      <td>314.75</td>\n",
       "      <td>315.51</td>\n",
       "    </tr>\n",
       "    <tr>\n",
       "      <th>12</th>\n",
       "      <td>1959</td>\n",
       "      <td>1</td>\n",
       "      <td>1959.0411</td>\n",
       "      <td>315.58</td>\n",
       "      <td>315.56</td>\n",
       "      <td>315.60</td>\n",
       "      <td>315.57</td>\n",
       "    </tr>\n",
       "    <tr>\n",
       "      <th>13</th>\n",
       "      <td>1959</td>\n",
       "      <td>2</td>\n",
       "      <td>1959.1260</td>\n",
       "      <td>316.48</td>\n",
       "      <td>315.88</td>\n",
       "      <td>316.24</td>\n",
       "      <td>315.63</td>\n",
       "    </tr>\n",
       "    <tr>\n",
       "      <th>14</th>\n",
       "      <td>1959</td>\n",
       "      <td>3</td>\n",
       "      <td>1959.2027</td>\n",
       "      <td>316.65</td>\n",
       "      <td>315.37</td>\n",
       "      <td>316.98</td>\n",
       "      <td>315.69</td>\n",
       "    </tr>\n",
       "    <tr>\n",
       "      <th>15</th>\n",
       "      <td>1959</td>\n",
       "      <td>4</td>\n",
       "      <td>1959.2877</td>\n",
       "      <td>317.72</td>\n",
       "      <td>315.41</td>\n",
       "      <td>318.09</td>\n",
       "      <td>315.76</td>\n",
       "    </tr>\n",
       "    <tr>\n",
       "      <th>16</th>\n",
       "      <td>1959</td>\n",
       "      <td>5</td>\n",
       "      <td>1959.3699</td>\n",
       "      <td>318.29</td>\n",
       "      <td>315.51</td>\n",
       "      <td>318.62</td>\n",
       "      <td>315.84</td>\n",
       "    </tr>\n",
       "    <tr>\n",
       "      <th>17</th>\n",
       "      <td>1959</td>\n",
       "      <td>6</td>\n",
       "      <td>1959.4548</td>\n",
       "      <td>318.15</td>\n",
       "      <td>316.04</td>\n",
       "      <td>318.02</td>\n",
       "      <td>315.93</td>\n",
       "    </tr>\n",
       "    <tr>\n",
       "      <th>18</th>\n",
       "      <td>1959</td>\n",
       "      <td>7</td>\n",
       "      <td>1959.5370</td>\n",
       "      <td>316.54</td>\n",
       "      <td>315.85</td>\n",
       "      <td>316.68</td>\n",
       "      <td>316.02</td>\n",
       "    </tr>\n",
       "    <tr>\n",
       "      <th>19</th>\n",
       "      <td>1959</td>\n",
       "      <td>8</td>\n",
       "      <td>1959.6219</td>\n",
       "      <td>314.80</td>\n",
       "      <td>316.04</td>\n",
       "      <td>314.84</td>\n",
       "      <td>316.12</td>\n",
       "    </tr>\n",
       "  </tbody>\n",
       "</table>\n",
       "</div>"
      ],
      "text/plain": [
       "    Year  Month  Decimal Date  Carbon Dioxide (ppm)  \\\n",
       "0   1958      1     1958.0411                   NaN   \n",
       "1   1958      2     1958.1260                   NaN   \n",
       "2   1958      3     1958.2027                315.69   \n",
       "3   1958      4     1958.2877                317.45   \n",
       "4   1958      5     1958.3699                317.50   \n",
       "5   1958      6     1958.4548                316.68   \n",
       "6   1958      7     1958.5370                315.86   \n",
       "7   1958      8     1958.6219                314.93   \n",
       "8   1958      9     1958.7068                313.21   \n",
       "9   1958     10     1958.7890                313.27   \n",
       "10  1958     11     1958.8740                313.33   \n",
       "11  1958     12     1958.9562                314.67   \n",
       "12  1959      1     1959.0411                315.58   \n",
       "13  1959      2     1959.1260                316.48   \n",
       "14  1959      3     1959.2027                316.65   \n",
       "15  1959      4     1959.2877                317.72   \n",
       "16  1959      5     1959.3699                318.29   \n",
       "17  1959      6     1959.4548                318.15   \n",
       "18  1959      7     1959.5370                316.54   \n",
       "19  1959      8     1959.6219                314.80   \n",
       "\n",
       "    Seasonally Adjusted CO2 (ppm)  Carbon Dioxide Fit (ppm)  \\\n",
       "0                             NaN                       NaN   \n",
       "1                             NaN                       NaN   \n",
       "2                          314.42                    316.18   \n",
       "3                          315.15                    317.30   \n",
       "4                          314.73                    317.83   \n",
       "5                          314.95                    317.22   \n",
       "6                          315.17                    315.87   \n",
       "7                          316.17                    314.01   \n",
       "8                          316.06                    312.48   \n",
       "9                          315.63                    312.45   \n",
       "10                         315.20                    313.61   \n",
       "11                         315.44                    314.75   \n",
       "12                         315.56                    315.60   \n",
       "13                         315.88                    316.24   \n",
       "14                         315.37                    316.98   \n",
       "15                         315.41                    318.09   \n",
       "16                         315.51                    318.62   \n",
       "17                         316.04                    318.02   \n",
       "18                         315.85                    316.68   \n",
       "19                         316.04                    314.84   \n",
       "\n",
       "    Seasonally Adjusted CO2 Fit (ppm)  \n",
       "0                                 NaN  \n",
       "1                                 NaN  \n",
       "2                              314.89  \n",
       "3                              314.98  \n",
       "4                              315.06  \n",
       "5                              315.14  \n",
       "6                              315.21  \n",
       "7                              315.29  \n",
       "8                              315.35  \n",
       "9                              315.40  \n",
       "10                             315.46  \n",
       "11                             315.51  \n",
       "12                             315.57  \n",
       "13                             315.63  \n",
       "14                             315.69  \n",
       "15                             315.76  \n",
       "16                             315.84  \n",
       "17                             315.93  \n",
       "18                             316.02  \n",
       "19                             316.12  "
      ]
     },
     "execution_count": 8,
     "metadata": {},
     "output_type": "execute_result"
    }
   ],
   "source": [
    "DataFrame.head(20)"
   ]
  },
  {
   "cell_type": "code",
   "execution_count": 9,
   "id": "0617aeda",
   "metadata": {},
   "outputs": [],
   "source": [
    "DataFrame_clean = DataFrame.dropna()"
   ]
  },
  {
   "cell_type": "code",
   "execution_count": 10,
   "id": "4279a04e",
   "metadata": {},
   "outputs": [],
   "source": [
    "from sklearn.preprocessing import MinMaxScaler"
   ]
  },
  {
   "cell_type": "code",
   "execution_count": 11,
   "id": "d1411702",
   "metadata": {},
   "outputs": [],
   "source": [
    "scaler = MinMaxScaler()"
   ]
  },
  {
   "cell_type": "code",
   "execution_count": 12,
   "id": "91447e22",
   "metadata": {
    "scrolled": true
   },
   "outputs": [
    {
     "name": "stderr",
     "output_type": "stream",
     "text": [
      "C:\\Users\\Dell Pc\\AppData\\Local\\Temp\\ipykernel_13792\\1113375017.py:4: SettingWithCopyWarning: \n",
      "A value is trying to be set on a copy of a slice from a DataFrame.\n",
      "Try using .loc[row_indexer,col_indexer] = value instead\n",
      "\n",
      "See the caveats in the documentation: https://pandas.pydata.org/pandas-docs/stable/user_guide/indexing.html#returning-a-view-versus-a-copy\n",
      "  DataFrame_clean[columns_to_scale] = scaler.fit_transform(DataFrame_clean[columns_to_scale])\n"
     ]
    },
    {
     "data": {
      "text/html": [
       "<div>\n",
       "<style scoped>\n",
       "    .dataframe tbody tr th:only-of-type {\n",
       "        vertical-align: middle;\n",
       "    }\n",
       "\n",
       "    .dataframe tbody tr th {\n",
       "        vertical-align: top;\n",
       "    }\n",
       "\n",
       "    .dataframe thead th {\n",
       "        text-align: right;\n",
       "    }\n",
       "</style>\n",
       "<table border=\"1\" class=\"dataframe\">\n",
       "  <thead>\n",
       "    <tr style=\"text-align: right;\">\n",
       "      <th></th>\n",
       "      <th>Year</th>\n",
       "      <th>Month</th>\n",
       "      <th>Decimal Date</th>\n",
       "      <th>Carbon Dioxide (ppm)</th>\n",
       "      <th>Seasonally Adjusted CO2 (ppm)</th>\n",
       "      <th>Carbon Dioxide Fit (ppm)</th>\n",
       "      <th>Seasonally Adjusted CO2 Fit (ppm)</th>\n",
       "    </tr>\n",
       "  </thead>\n",
       "  <tbody>\n",
       "    <tr>\n",
       "      <th>2</th>\n",
       "      <td>1958</td>\n",
       "      <td>3</td>\n",
       "      <td>1958.2027</td>\n",
       "      <td>0.026260</td>\n",
       "      <td>0.000000</td>\n",
       "      <td>0.039334</td>\n",
       "      <td>0.000000</td>\n",
       "    </tr>\n",
       "    <tr>\n",
       "      <th>3</th>\n",
       "      <td>1958</td>\n",
       "      <td>4</td>\n",
       "      <td>1958.2877</td>\n",
       "      <td>0.044896</td>\n",
       "      <td>0.007968</td>\n",
       "      <td>0.051144</td>\n",
       "      <td>0.000990</td>\n",
       "    </tr>\n",
       "    <tr>\n",
       "      <th>4</th>\n",
       "      <td>1958</td>\n",
       "      <td>5</td>\n",
       "      <td>1958.3699</td>\n",
       "      <td>0.045426</td>\n",
       "      <td>0.003384</td>\n",
       "      <td>0.056733</td>\n",
       "      <td>0.001869</td>\n",
       "    </tr>\n",
       "    <tr>\n",
       "      <th>5</th>\n",
       "      <td>1958</td>\n",
       "      <td>6</td>\n",
       "      <td>1958.4548</td>\n",
       "      <td>0.036743</td>\n",
       "      <td>0.005785</td>\n",
       "      <td>0.050301</td>\n",
       "      <td>0.002749</td>\n",
       "    </tr>\n",
       "    <tr>\n",
       "      <th>6</th>\n",
       "      <td>1958</td>\n",
       "      <td>7</td>\n",
       "      <td>1958.5370</td>\n",
       "      <td>0.028060</td>\n",
       "      <td>0.008186</td>\n",
       "      <td>0.036065</td>\n",
       "      <td>0.003519</td>\n",
       "    </tr>\n",
       "  </tbody>\n",
       "</table>\n",
       "</div>"
      ],
      "text/plain": [
       "   Year  Month  Decimal Date  Carbon Dioxide (ppm)  \\\n",
       "2  1958      3     1958.2027              0.026260   \n",
       "3  1958      4     1958.2877              0.044896   \n",
       "4  1958      5     1958.3699              0.045426   \n",
       "5  1958      6     1958.4548              0.036743   \n",
       "6  1958      7     1958.5370              0.028060   \n",
       "\n",
       "   Seasonally Adjusted CO2 (ppm)  Carbon Dioxide Fit (ppm)  \\\n",
       "2                       0.000000                  0.039334   \n",
       "3                       0.007968                  0.051144   \n",
       "4                       0.003384                  0.056733   \n",
       "5                       0.005785                  0.050301   \n",
       "6                       0.008186                  0.036065   \n",
       "\n",
       "   Seasonally Adjusted CO2 Fit (ppm)  \n",
       "2                           0.000000  \n",
       "3                           0.000990  \n",
       "4                           0.001869  \n",
       "5                           0.002749  \n",
       "6                           0.003519  "
      ]
     },
     "execution_count": 12,
     "metadata": {},
     "output_type": "execute_result"
    }
   ],
   "source": [
    "# Apply scaling only to the numerical columns with CO2 data\n",
    "columns_to_scale = ['Carbon Dioxide (ppm)', 'Seasonally Adjusted CO2 (ppm)',\n",
    "                    'Carbon Dioxide Fit (ppm)', 'Seasonally Adjusted CO2 Fit (ppm)']\n",
    "DataFrame_clean[columns_to_scale] = scaler.fit_transform(DataFrame_clean[columns_to_scale])\n",
    "\n",
    "# Verify the normalization results\n",
    "DataFrame_clean.head()"
   ]
  },
  {
   "cell_type": "markdown",
   "id": "ad8cbea5",
   "metadata": {},
   "source": [
    "`Differencing for applying Arima to check for wehther the data is stationary or not `"
   ]
  },
  {
   "cell_type": "code",
   "execution_count": 13,
   "id": "5039a565",
   "metadata": {},
   "outputs": [
    {
     "data": {
      "text/plain": [
       "{'Carbon Dioxide (ppm)': {'ADF Statistic': 4.830000389232779,\n",
       "  'p-value': 1.0,\n",
       "  'Used Lags': 20,\n",
       "  'Number of Observations': 697,\n",
       "  'Critical Values': {'1%': -3.439766853257416,\n",
       "   '5%': -2.8656956054873377,\n",
       "   '10%': -2.5689829557089308}},\n",
       " 'Seasonally Adjusted CO2 (ppm)': {'ADF Statistic': 5.4508673847227405,\n",
       "  'p-value': 1.0,\n",
       "  'Used Lags': 6,\n",
       "  'Number of Observations': 711,\n",
       "  'Critical Values': {'1%': -3.439580754053961,\n",
       "   '5%': -2.865613606467485,\n",
       "   '10%': -2.568939269723711}},\n",
       " 'Carbon Dioxide Fit (ppm)': {'ADF Statistic': 5.507138720440643,\n",
       "  'p-value': 1.0,\n",
       "  'Used Lags': 19,\n",
       "  'Number of Observations': 698,\n",
       "  'Critical Values': {'1%': -3.439753311961436,\n",
       "   '5%': -2.8656896390914217,\n",
       "   '10%': -2.568979777013325}},\n",
       " 'Seasonally Adjusted CO2 Fit (ppm)': {'ADF Statistic': 5.651120460975979,\n",
       "  'p-value': 1.0,\n",
       "  'Used Lags': 13,\n",
       "  'Number of Observations': 704,\n",
       "  'Critical Values': {'1%': -3.4396728750301966,\n",
       "   '5%': -2.8656541974330936,\n",
       "   '10%': -2.5689608949670713}}}"
      ]
     },
     "execution_count": 13,
     "metadata": {},
     "output_type": "execute_result"
    }
   ],
   "source": [
    "from statsmodels.tsa.stattools import adfuller\n",
    "\n",
    "# Define a function to perform the Augmented Dickey-Fuller (ADF) test\n",
    "def adf_test(series):\n",
    "    result = adfuller(series, autolag='AIC')\n",
    "    return {\n",
    "        'ADF Statistic': result[0],\n",
    "        'p-value': result[1],\n",
    "        'Used Lags': result[2],\n",
    "        'Number of Observations': result[3],\n",
    "        'Critical Values': result[4]\n",
    "    }\n",
    "\n",
    "# Check stationarity for each relevant CO2 column\n",
    "stationarity_results = {col: adf_test(DataFrame_clean[col]) for col in columns_to_scale}\n",
    "\n",
    "stationarity_results"
   ]
  },
  {
   "cell_type": "code",
   "execution_count": 14,
   "id": "93409017",
   "metadata": {},
   "outputs": [
    {
     "name": "stdout",
     "output_type": "stream",
     "text": [
      "Column: Carbon Dioxide (ppm)\n",
      "{'P-Value Analysis': 'Non-Stationary', 'Critical Value Analysis': 'Non-Stationary based on ADF statistic.'}\n",
      "\n",
      "Column: Seasonally Adjusted CO2 (ppm)\n",
      "{'P-Value Analysis': 'Non-Stationary', 'Critical Value Analysis': 'Non-Stationary based on ADF statistic.'}\n",
      "\n",
      "Column: Carbon Dioxide Fit (ppm)\n",
      "{'P-Value Analysis': 'Non-Stationary', 'Critical Value Analysis': 'Non-Stationary based on ADF statistic.'}\n",
      "\n",
      "Column: Seasonally Adjusted CO2 Fit (ppm)\n",
      "{'P-Value Analysis': 'Non-Stationary', 'Critical Value Analysis': 'Non-Stationary based on ADF statistic.'}\n",
      "\n"
     ]
    }
   ],
   "source": [
    "# Example interpretation function\n",
    "def interpret_adf_results(results):\n",
    "    adf_stat = results['ADF Statistic']\n",
    "    p_value = results['p-value']\n",
    "    critical_vals = results['Critical Values']\n",
    "    \n",
    "    # Determine if the series is stationary based on p-value\n",
    "    is_stationary = p_value < 0.05\n",
    "    \n",
    "    # Determine based on critical values\n",
    "    significant_level = '5%'  # Choose the appropriate significance level\n",
    "    critical_value = critical_vals[significant_level]\n",
    "    \n",
    "    if adf_stat < critical_value:\n",
    "        stationary_message = \"Stationary based on ADF statistic.\"\n",
    "    else:\n",
    "        stationary_message = \"Non-Stationary based on ADF statistic.\"\n",
    "    \n",
    "    return {\n",
    "        \"P-Value Analysis\": \"Stationary\" if is_stationary else \"Non-Stationary\",\n",
    "        \"Critical Value Analysis\": stationary_message\n",
    "    }\n",
    "\n",
    "# Example usage\n",
    "for col, result in stationarity_results.items():\n",
    "    print(f\"Column: {col}\")\n",
    "    interpretation = interpret_adf_results(result)\n",
    "    print(interpretation)\n",
    "    print()\n"
   ]
  },
  {
   "cell_type": "code",
   "execution_count": 15,
   "id": "056ff834",
   "metadata": {},
   "outputs": [
    {
     "data": {
      "text/plain": [
       "{'ADF Statistic': 4.830000389232779,\n",
       " 'p-value': 1.0,\n",
       " 'Critical Values': {'1%': -3.439766853257416,\n",
       "  '5%': -2.8656956054873377,\n",
       "  '10%': -2.5689829557089308},\n",
       " 'Stationary': False}"
      ]
     },
     "execution_count": 15,
     "metadata": {},
     "output_type": "execute_result"
    }
   ],
   "source": [
    "## Differencing again as the data is not stationary \n",
    "\n",
    "from statsmodels.tsa.stattools import adfuller\n",
    "\n",
    "# Perform the ADF test on Carbon Dioxide (ppm)\n",
    "adf_result = adfuller(DataFrame_clean['Carbon Dioxide (ppm)'])\n",
    "\n",
    "# Function to interpret ADF results\n",
    "def interpret_adf_results(results):\n",
    "    adf_stat = results[0]\n",
    "    p_value = results[1]\n",
    "    critical_vals = results[4]\n",
    "\n",
    "    interpretation = {\n",
    "        \"ADF Statistic\": adf_stat,\n",
    "        \"p-value\": p_value,\n",
    "        \"Critical Values\": critical_vals,\n",
    "        \"Stationary\": p_value < 0.05\n",
    "    }\n",
    "    return interpretation\n",
    "\n",
    "# Interpret the ADF test results\n",
    "adf_interpretation = interpret_adf_results(adf_result)\n",
    "adf_interpretation"
   ]
  },
  {
   "cell_type": "code",
   "execution_count": 16,
   "id": "a07544dc",
   "metadata": {},
   "outputs": [
    {
     "data": {
      "text/html": [
       "<div>\n",
       "<style scoped>\n",
       "    .dataframe tbody tr th:only-of-type {\n",
       "        vertical-align: middle;\n",
       "    }\n",
       "\n",
       "    .dataframe tbody tr th {\n",
       "        vertical-align: top;\n",
       "    }\n",
       "\n",
       "    .dataframe thead th {\n",
       "        text-align: right;\n",
       "    }\n",
       "</style>\n",
       "<table border=\"1\" class=\"dataframe\">\n",
       "  <thead>\n",
       "    <tr style=\"text-align: right;\">\n",
       "      <th></th>\n",
       "      <th>Year</th>\n",
       "      <th>Month</th>\n",
       "      <th>Decimal Date</th>\n",
       "      <th>Carbon Dioxide (ppm)</th>\n",
       "      <th>Seasonally Adjusted CO2 (ppm)</th>\n",
       "      <th>Carbon Dioxide Fit (ppm)</th>\n",
       "      <th>Seasonally Adjusted CO2 Fit (ppm)</th>\n",
       "    </tr>\n",
       "  </thead>\n",
       "  <tbody>\n",
       "    <tr>\n",
       "      <th>2</th>\n",
       "      <td>1958</td>\n",
       "      <td>3</td>\n",
       "      <td>1958.2027</td>\n",
       "      <td>0.026260</td>\n",
       "      <td>0.000000</td>\n",
       "      <td>0.039334</td>\n",
       "      <td>0.000000</td>\n",
       "    </tr>\n",
       "    <tr>\n",
       "      <th>3</th>\n",
       "      <td>1958</td>\n",
       "      <td>4</td>\n",
       "      <td>1958.2877</td>\n",
       "      <td>0.044896</td>\n",
       "      <td>0.007968</td>\n",
       "      <td>0.051144</td>\n",
       "      <td>0.000990</td>\n",
       "    </tr>\n",
       "    <tr>\n",
       "      <th>4</th>\n",
       "      <td>1958</td>\n",
       "      <td>5</td>\n",
       "      <td>1958.3699</td>\n",
       "      <td>0.045426</td>\n",
       "      <td>0.003384</td>\n",
       "      <td>0.056733</td>\n",
       "      <td>0.001869</td>\n",
       "    </tr>\n",
       "    <tr>\n",
       "      <th>5</th>\n",
       "      <td>1958</td>\n",
       "      <td>6</td>\n",
       "      <td>1958.4548</td>\n",
       "      <td>0.036743</td>\n",
       "      <td>0.005785</td>\n",
       "      <td>0.050301</td>\n",
       "      <td>0.002749</td>\n",
       "    </tr>\n",
       "    <tr>\n",
       "      <th>6</th>\n",
       "      <td>1958</td>\n",
       "      <td>7</td>\n",
       "      <td>1958.5370</td>\n",
       "      <td>0.028060</td>\n",
       "      <td>0.008186</td>\n",
       "      <td>0.036065</td>\n",
       "      <td>0.003519</td>\n",
       "    </tr>\n",
       "  </tbody>\n",
       "</table>\n",
       "</div>"
      ],
      "text/plain": [
       "   Year  Month  Decimal Date  Carbon Dioxide (ppm)  \\\n",
       "2  1958      3     1958.2027              0.026260   \n",
       "3  1958      4     1958.2877              0.044896   \n",
       "4  1958      5     1958.3699              0.045426   \n",
       "5  1958      6     1958.4548              0.036743   \n",
       "6  1958      7     1958.5370              0.028060   \n",
       "\n",
       "   Seasonally Adjusted CO2 (ppm)  Carbon Dioxide Fit (ppm)  \\\n",
       "2                       0.000000                  0.039334   \n",
       "3                       0.007968                  0.051144   \n",
       "4                       0.003384                  0.056733   \n",
       "5                       0.005785                  0.050301   \n",
       "6                       0.008186                  0.036065   \n",
       "\n",
       "   Seasonally Adjusted CO2 Fit (ppm)  \n",
       "2                           0.000000  \n",
       "3                           0.000990  \n",
       "4                           0.001869  \n",
       "5                           0.002749  \n",
       "6                           0.003519  "
      ]
     },
     "execution_count": 16,
     "metadata": {},
     "output_type": "execute_result"
    }
   ],
   "source": [
    "# Rename the DataFrame to ensure consistency with existing naming conventions\n",
    "co2_data_clean_new = DataFrame_clean.copy()\n",
    "\n",
    "# Apply interpolation for filling missing values (already done)\n",
    "co2_data_clean_new.interpolate(method='linear', limit_direction='forward', axis=0, inplace=True)\n",
    "\n",
    "# Drop rows with any remaining missing values\n",
    "co2_data_clean_new = co2_data_clean_new.dropna()\n",
    "\n",
    "# Extract the primary CO2 series after cleaning\n",
    "co2_series_new = co2_data_clean_new['Carbon Dioxide (ppm)']\n",
    "\n",
    "# Verify the first few rows of the cleaned DataFrame\n",
    "co2_data_clean_new.head()\n",
    "\n",
    "\n"
   ]
  },
  {
   "cell_type": "code",
   "execution_count": 17,
   "id": "1bcfac02",
   "metadata": {},
   "outputs": [
    {
     "data": {
      "text/plain": [
       "{'ADF Statistic': 4.830000389232779,\n",
       " 'p-value': 1.0,\n",
       " 'Critical Values': {'1%': -3.439766853257416,\n",
       "  '5%': -2.8656956054873377,\n",
       "  '10%': -2.5689829557089308}}"
      ]
     },
     "execution_count": 17,
     "metadata": {},
     "output_type": "execute_result"
    }
   ],
   "source": [
    "# Import the Augmented Dickey-Fuller test from statsmodels\n",
    "from statsmodels.tsa.stattools import adfuller\n",
    "\n",
    "# Define a function to perform the Augmented Dickey-Fuller (ADF) test\n",
    "def adf_test(series):\n",
    "    result = adfuller(series, autolag='AIC')\n",
    "    return {\n",
    "        'ADF Statistic': result[0],\n",
    "        'p-value': result[1],\n",
    "        'Critical Values': result[4]\n",
    "    }\n",
    "\n",
    "# Extract the primary series for stationarity testing (CO2 ppm)\n",
    "co2_series_new = co2_data_clean_new['Carbon Dioxide (ppm)']\n",
    "\n",
    "# Run the ADF test on the corrected series\n",
    "adf_results_new = adf_test(co2_series_new)\n",
    "adf_results_new\n"
   ]
  },
  {
   "cell_type": "code",
   "execution_count": 18,
   "id": "043205f5",
   "metadata": {},
   "outputs": [
    {
     "data": {
      "text/plain": [
       "{'ADF Statistic': -4.675037853673451,\n",
       " 'p-value': 9.372412861408265e-05,\n",
       " 'Critical Values': {'1%': -3.4397804336105198,\n",
       "  '5%': -2.865701589065464,\n",
       "  '10%': -2.5689861435625576}}"
      ]
     },
     "execution_count": 18,
     "metadata": {},
     "output_type": "execute_result"
    }
   ],
   "source": [
    "# Apply first-order differencing to the CO2 series to remove the trend\n",
    "co2_diff_new = co2_series_new.diff().dropna()\n",
    "\n",
    "# Re-run the ADF test on the differenced series\n",
    "adf_results_diff_new = adf_test(co2_diff_new)\n",
    "adf_results_diff_new"
   ]
  },
  {
   "cell_type": "code",
   "execution_count": 19,
   "id": "15ff7419",
   "metadata": {},
   "outputs": [
    {
     "name": "stdout",
     "output_type": "stream",
     "text": [
      "The differenced series is stationary.\n"
     ]
    },
    {
     "data": {
      "text/plain": [
       "{'ADF Statistic': -4.675037853673451,\n",
       " 'p-value': 9.372412861408265e-05,\n",
       " 'Critical Values': {'1%': -3.4397804336105198,\n",
       "  '5%': -2.865701589065464,\n",
       "  '10%': -2.5689861435625576}}"
      ]
     },
     "execution_count": 19,
     "metadata": {},
     "output_type": "execute_result"
    }
   ],
   "source": [
    "# Apply first-order differencing to the CO2 series to remove the trend\n",
    "co2_diff_new = co2_series_new.diff().dropna()\n",
    "\n",
    "# Re-run the ADF test on the differenced series\n",
    "adf_results_diff_new = adf_test(co2_diff_new)\n",
    "\n",
    "# Check the p-value to determine stationarity\n",
    "significance_level = 0.05\n",
    "is_stationary = adf_results_diff_new['p-value'] < significance_level\n",
    "\n",
    "# Print the stationarity status\n",
    "if is_stationary:\n",
    "    print(\"The differenced series is stationary.\")\n",
    "else:\n",
    "    print(\"The differenced series is still non-stationary.\")\n",
    "\n",
    "# Display the ADF test results\n",
    "adf_results_diff_new\n"
   ]
  },
  {
   "cell_type": "code",
   "execution_count": 20,
   "id": "6b6a3386",
   "metadata": {},
   "outputs": [],
   "source": [
    "import matplotlib.pyplot as plt\n",
    "from statsmodels.tsa.stattools import adfuller\n",
    "from statsmodels.graphics.tsaplots import plot_acf, plot_pacf\n",
    "from statsmodels.tsa.arima.model import ARIMA"
   ]
  },
  {
   "cell_type": "code",
   "execution_count": 21,
   "id": "41ffa546",
   "metadata": {},
   "outputs": [],
   "source": [
    "date_range = pd.date_range(start='2020-01-01', periods=100, freq='M')\n",
    "co2_data_clean_new = pd.DataFrame({'value': range(100)}, index=date_range)"
   ]
  },
  {
   "cell_type": "code",
   "execution_count": 22,
   "id": "19f6b884",
   "metadata": {},
   "outputs": [
    {
     "name": "stdout",
     "output_type": "stream",
     "text": [
      "ADF Statistic: 1.9834117804434868\n",
      "p-value: 0.9986510049968287\n",
      "critical_values : {'1%': -3.505190196159122, '5%': -2.894232085048011, '10%': -2.5842101234567902}\n"
     ]
    }
   ],
   "source": [
    "# Check for stationarity with the Augmented Dickey-Fuller test\n",
    "result = adfuller(co2_data_clean_new['value'])\n",
    "\n",
    "adf_statistic = result[0]\n",
    "p_value = result[1]\n",
    "critical_values = result[4]\n",
    "\n",
    "print(f'ADF Statistic: {result[0]}')\n",
    "print(f'p-value: {result[1]}')\n",
    "print(f'critical_values : {result[4]}') "
   ]
  },
  {
   "cell_type": "code",
   "execution_count": 23,
   "id": "93b960f0",
   "metadata": {},
   "outputs": [
    {
     "name": "stdout",
     "output_type": "stream",
     "text": [
      "The data is not stationary (fail to reject the null hypothesis).\n"
     ]
    }
   ],
   "source": [
    "# Check if the p-value is significant enough to reject the null hypothesis\n",
    "if p_value < 0.05:\n",
    "    print('The data is stationary (reject the null hypothesis).')\n",
    "else:\n",
    "    print('The data is not stationary (fail to reject the null hypothesis).')"
   ]
  },
  {
   "cell_type": "code",
   "execution_count": 24,
   "id": "5ebc68fd",
   "metadata": {},
   "outputs": [
    {
     "name": "stdout",
     "output_type": "stream",
     "text": [
      "The differenced series is stationary.\n"
     ]
    },
    {
     "data": {
      "text/plain": [
       "{'ADF Statistic': -4.675037853673451,\n",
       " 'p-value': 9.372412861408265e-05,\n",
       " 'Critical Values': {'1%': -3.4397804336105198,\n",
       "  '5%': -2.865701589065464,\n",
       "  '10%': -2.5689861435625576}}"
      ]
     },
     "execution_count": 24,
     "metadata": {},
     "output_type": "execute_result"
    }
   ],
   "source": [
    "# Apply first-order differencing to the CO2 series to remove the trend\n",
    "co2_diff_new = co2_series_new.diff().dropna()\n",
    "\n",
    "# Re-run the ADF test on the differenced series\n",
    "adf_results_diff_new = adf_test(co2_diff_new)\n",
    "\n",
    "# Check the p-value to determine stationarity\n",
    "significance_level = 0.05\n",
    "is_stationary = adf_results_diff_new['p-value'] < significance_level\n",
    "\n",
    "# Print the stationarity status\n",
    "if is_stationary:\n",
    "    print(\"The differenced series is stationary.\")\n",
    "else:\n",
    "    print(\"The differenced series is still non-stationary.\")\n",
    "\n",
    "# Display the ADF test results\n",
    "adf_results_diff_new\n"
   ]
  },
  {
   "cell_type": "code",
   "execution_count": 25,
   "id": "f3726211",
   "metadata": {
    "scrolled": false
   },
   "outputs": [
    {
     "name": "stderr",
     "output_type": "stream",
     "text": [
      "D:\\Semester-4\\ANACONDA\\lib\\site-packages\\statsmodels\\graphics\\tsaplots.py:348: FutureWarning: The default method 'yw' can produce PACF values outside of the [-1,1] interval. After 0.13, the default will change tounadjusted Yule-Walker ('ywm'). You can use this method now by setting method='ywm'.\n",
      "  warnings.warn(\n"
     ]
    },
    {
     "data": {
      "image/png": "[encoded data removed]",
      "text/plain": [
       "<Figure size 1500x500 with 2 Axes>"
      ]
     },
     "metadata": {},
     "output_type": "display_data"
    }
   ],
   "source": [
    "# Plot ACF and PACF for parameter estimation\n",
    "import matplotlib.pyplot as plt\n",
    "from statsmodels.graphics.tsaplots import plot_acf, plot_pacf\n",
    "\n",
    "# Ensure you have the time series data as `series` instead of the ADF test\n",
    "series = co2_data_clean_new['value']  # Adjust this based on your dataset\n",
    "\n",
    "# Create a subplot layout for ACF and PACF\n",
    "fig, axes = plt.subplots(1, 2, figsize=(15, 5))\n",
    "\n",
    "# Plot ACF and PACF with the original time series data\n",
    "plot_acf(series, lags=20, ax=axes[0])\n",
    "plot_pacf(series, lags=20, ax=axes[1])\n",
    "\n",
    "# Display the plots\n",
    "plt.show()"
   ]
  },
  {
   "cell_type": "code",
   "execution_count": 26,
   "id": "c4d71a1b",
   "metadata": {},
   "outputs": [],
   "source": [
    "import matplotlib.pyplot as plt\n",
    "import pandas as pd\n",
    "from statsmodels.tsa.arima.model import ARIMA"
   ]
  },
  {
   "cell_type": "code",
   "execution_count": 27,
   "id": "f6904589",
   "metadata": {
    "scrolled": false
   },
   "outputs": [
    {
     "name": "stderr",
     "output_type": "stream",
     "text": [
      "D:\\Semester-4\\ANACONDA\\lib\\site-packages\\statsmodels\\tsa\\statespace\\sarimax.py:966: UserWarning: Non-stationary starting autoregressive parameters found. Using zeros as starting parameters.\n",
      "  warn('Non-stationary starting autoregressive parameters'\n"
     ]
    },
    {
     "name": "stdout",
     "output_type": "stream",
     "text": [
      "                               SARIMAX Results                                \n",
      "==============================================================================\n",
      "Dep. Variable:                  value   No. Observations:                  100\n",
      "Model:                 ARIMA(1, 1, 1)   Log Likelihood                 529.392\n",
      "Date:                Tue, 14 May 2024   AIC                          -1052.784\n",
      "Time:                        20:36:18   BIC                          -1044.999\n",
      "Sample:                    01-31-2020   HQIC                         -1049.634\n",
      "                         - 04-30-2028                                         \n",
      "Covariance Type:                  opg                                         \n",
      "==============================================================================\n",
      "                 coef    std err          z      P>|z|      [0.025      0.975]\n",
      "------------------------------------------------------------------------------\n",
      "ar.L1          0.9998   4.54e-05    2.2e+04      0.000       1.000       1.000\n",
      "ma.L1          0.9992   2.23e-10   4.47e+09      0.000       0.999       0.999\n",
      "sigma2      1.162e-06   2.32e-07      5.004      0.000    7.07e-07    1.62e-06\n",
      "===================================================================================\n",
      "Ljung-Box (L1) (Q):                   0.00   Jarque-Bera (JB):             38036.69\n",
      "Prob(Q):                              0.97   Prob(JB):                         0.00\n",
      "Heteroskedasticity (H):               0.00   Skew:                             9.80\n",
      "Prob(H) (two-sided):                  0.00   Kurtosis:                        97.01\n",
      "===================================================================================\n",
      "\n",
      "Warnings:\n",
      "[1] Covariance matrix calculated using the outer product of gradients (complex-step).\n",
      "[2] Covariance matrix is singular or near-singular, with condition number 1.38e+25. Standard errors may be unstable.\n",
      "Forecasted Values:\n",
      "2028-05-31     99.999887\n",
      "2028-06-30    100.999547\n",
      "2028-07-31    101.998982\n",
      "2028-08-31    102.998191\n",
      "2028-09-30    103.997173\n",
      "2028-10-31    104.995931\n",
      "2028-11-30    105.994462\n",
      "2028-12-31    106.992768\n",
      "2029-01-31    107.990848\n",
      "2029-02-28    108.988703\n",
      "Freq: M, Name: predicted_mean, dtype: float64\n"
     ]
    },
    {
     "name": "stderr",
     "output_type": "stream",
     "text": [
      "D:\\Semester-4\\ANACONDA\\lib\\site-packages\\statsmodels\\base\\model.py:604: ConvergenceWarning: Maximum Likelihood optimization failed to converge. Check mle_retvals\n",
      "  warnings.warn(\"Maximum Likelihood optimization failed to \"\n"
     ]
    }
   ],
   "source": [
    "# Parameters for the ARIMA model\n",
    "p, d, q = 1, 1, 1\n",
    "\n",
    "# Ensure that your data source is correctly specified\n",
    "df = co2_data_clean_new\n",
    "\n",
    "# Build and fit the ARIMA model with the appropriate column name\n",
    "model = ARIMA(df['value'], order=(p, d, q))\n",
    "fitted_model = model.fit()\n",
    "\n",
    "# Print model summary to analyze the model's performance\n",
    "print(fitted_model.summary())\n",
    "\n",
    "# Forecast future values, adjust the steps to your desired future period\n",
    "forecast_steps = 10\n",
    "forecast = fitted_model.forecast(steps=forecast_steps)\n",
    "\n",
    "# Display the forecasted values\n",
    "print('Forecasted Values:')\n",
    "print(forecast)"
   ]
  },
  {
   "cell_type": "code",
   "execution_count": 28,
   "id": "4175ee49",
   "metadata": {
    "scrolled": false
   },
   "outputs": [
    {
     "data": {
      "image/png": "[encoded data removed]",
      "text/plain": [
       "<Figure size 1000x500 with 1 Axes>"
      ]
     },
     "metadata": {},
     "output_type": "display_data"
    }
   ],
   "source": [
    "# Plot the original data and forecast\n",
    "plt.figure(figsize=(10, 5))\n",
    "plt.plot(df.index, df['value'], label='Original Data')\n",
    "plt.plot(pd.date_range(df.index[-1], periods=forecast_steps + 1, freq='M')[1:], forecast, label='Forecast', color='red')\n",
    "plt.legend()\n",
    "plt.xlabel('Time')\n",
    "plt.ylabel('Value')\n",
    "plt.title('ARIMA Model - Original Data and Forecast')\n",
    "plt.grid(True)\n",
    "plt.show()"
   ]
  },
  {
   "cell_type": "code",
   "execution_count": 29,
   "id": "f0f74bdf",
   "metadata": {},
   "outputs": [
    {
     "name": "stderr",
     "output_type": "stream",
     "text": [
      "D:\\Semester-4\\ANACONDA\\lib\\site-packages\\statsmodels\\tsa\\statespace\\sarimax.py:966: UserWarning: Non-stationary starting autoregressive parameters found. Using zeros as starting parameters.\n",
      "  warn('Non-stationary starting autoregressive parameters'\n"
     ]
    },
    {
     "name": "stdout",
     "output_type": "stream",
     "text": [
      "                               SARIMAX Results                                \n",
      "==============================================================================\n",
      "Dep. Variable:                  value   No. Observations:                   80\n",
      "Model:                 ARIMA(1, 1, 1)   Log Likelihood                 420.486\n",
      "Date:                Tue, 14 May 2024   AIC                           -834.973\n",
      "Time:                        20:36:18   BIC                           -827.865\n",
      "Sample:                    01-31-2020   HQIC                          -832.125\n",
      "                         - 08-31-2026                                         \n",
      "Covariance Type:                  opg                                         \n",
      "==============================================================================\n",
      "                 coef    std err          z      P>|z|      [0.025      0.975]\n",
      "------------------------------------------------------------------------------\n",
      "ar.L1          0.9998   4.16e-05    2.4e+04      0.000       1.000       1.000\n",
      "ma.L1          0.9994   1.15e-10   8.72e+09      0.000       0.999       0.999\n",
      "sigma2      1.172e-06   2.63e-07      4.448      0.000    6.55e-07    1.69e-06\n",
      "===================================================================================\n",
      "Ljung-Box (L1) (Q):                   0.00   Jarque-Bera (JB):             19030.66\n",
      "Prob(Q):                              0.98   Prob(JB):                         0.00\n",
      "Heteroskedasticity (H):               0.00   Skew:                             8.72\n",
      "Prob(H) (two-sided):                  0.00   Kurtosis:                        77.01\n",
      "===================================================================================\n",
      "\n",
      "Warnings:\n",
      "[1] Covariance matrix calculated using the outer product of gradients (complex-step).\n",
      "[2] Covariance matrix is singular or near-singular, with condition number 6.7e+25. Standard errors may be unstable.\n",
      "Forecasted Values:\n",
      "2026-09-30    79.999908\n",
      "2026-10-31    80.999632\n",
      "2026-11-30    81.999172\n",
      "2026-12-31    82.998528\n",
      "2027-01-31    83.997700\n",
      "2027-02-28    84.996689\n",
      "2027-03-31    85.995494\n",
      "2027-04-30    86.994115\n",
      "2027-05-31    87.992553\n",
      "2027-06-30    88.990807\n",
      "2027-07-31    89.988877\n",
      "2027-08-31    90.986764\n",
      "2027-09-30    91.984467\n",
      "2027-10-31    92.981987\n",
      "2027-11-30    93.979323\n",
      "2027-12-31    94.976476\n",
      "2028-01-31    95.973446\n",
      "2028-02-29    96.970232\n",
      "2028-03-31    97.966835\n",
      "2028-04-30    98.963254\n",
      "Freq: M, Name: predicted_mean, dtype: float64\n",
      "Mean Squared Error: 0.00030505975088547104\n",
      "Root Mean Squared Error: 0.017465959775674254\n",
      "Mean Absolute Error: 0.013187114915967158\n",
      "Model accuracy is above 90% based on RMSE.\n"
     ]
    },
    {
     "name": "stderr",
     "output_type": "stream",
     "text": [
      "D:\\Semester-4\\ANACONDA\\lib\\site-packages\\statsmodels\\base\\model.py:604: ConvergenceWarning: Maximum Likelihood optimization failed to converge. Check mle_retvals\n",
      "  warnings.warn(\"Maximum Likelihood optimization failed to \"\n"
     ]
    }
   ],
   "source": [
    "from statsmodels.tsa.arima.model import ARIMA\n",
    "from sklearn.metrics import mean_absolute_error, mean_squared_error\n",
    "import numpy as np\n",
    "import pandas as pd\n",
    "\n",
    "# Ensure that your data source is correctly specified\n",
    "df = co2_data_clean_new  # Make sure this DataFrame has the correct column 'value'\n",
    "\n",
    "# Parameters for the ARIMA model\n",
    "p, d, q = 1, 1, 1\n",
    "\n",
    "# Split data into train and test sets\n",
    "split_ratio = 0.8\n",
    "split_index = int(len(df) * split_ratio)\n",
    "train_df = df.iloc[:split_index]\n",
    "test_df = df.iloc[split_index:]\n",
    "\n",
    "# Build and fit the ARIMA model on the training data\n",
    "model = ARIMA(train_df['value'], order=(p, d, q))\n",
    "fitted_model = model.fit()\n",
    "\n",
    "# Print model summary to analyze the model's performance\n",
    "print(fitted_model.summary())\n",
    "\n",
    "# Forecast future values for the length of the test set\n",
    "forecast_steps = len(test_df)\n",
    "forecast_result = fitted_model.get_forecast(steps=forecast_steps)\n",
    "forecast = forecast_result.predicted_mean\n",
    "\n",
    "# Display the forecasted values\n",
    "print('Forecasted Values:')\n",
    "print(forecast)\n",
    "\n",
    "# Calculate accuracy metrics using the test data\n",
    "mse = mean_squared_error(test_df['value'], forecast)\n",
    "rmse = np.sqrt(mse)\n",
    "mae = mean_absolute_error(test_df['value'], forecast)\n",
    "\n",
    "print(\"Mean Squared Error:\", mse)\n",
    "print(\"Root Mean Squared Error:\", rmse)\n",
    "print(\"Mean Absolute Error:\", mae)\n",
    "\n",
    "# Check if RMSE is within an acceptable range\n",
    "if rmse / np.mean(test_df['value']) < 0.1:\n",
    "    print(\"Model accuracy is above 90% based on RMSE.\")\n",
    "else:\n",
    "    print(\"Model accuracy is below 90%.\")\n"
   ]
  },
  {
   "cell_type": "markdown",
   "id": "6529b0a9",
   "metadata": {},
   "source": [
    "#### APPLYING SARIMA MODEL "
   ]
  },
  {
   "cell_type": "code",
   "execution_count": 30,
   "id": "200a82d2",
   "metadata": {},
   "outputs": [],
   "source": [
    "import matplotlib.pyplot as plt\n",
    "import pandas as pd\n",
    "from statsmodels.tsa.statespace.sarimax import SARIMAX"
   ]
  },
  {
   "cell_type": "code",
   "execution_count": 31,
   "id": "8bfd40ca",
   "metadata": {},
   "outputs": [],
   "source": [
    "# Parameters for the ARIMA component (p, d, q) and Seasonal ARIMA component (P, D, Q, m)\n",
    "p, d, q = 1, 1, 1\n",
    "P, D, Q, m = 1, 1, 1, 12  # Adjust the seasonal parameters as needed"
   ]
  },
  {
   "cell_type": "code",
   "execution_count": 32,
   "id": "7071ac59",
   "metadata": {},
   "outputs": [],
   "source": [
    "# Ensure that your data source is correctly specified\n",
    "df = co2_data_clean_new"
   ]
  },
  {
   "cell_type": "code",
   "execution_count": 33,
   "id": "8ff641c2",
   "metadata": {},
   "outputs": [
    {
     "name": "stdout",
     "output_type": "stream",
     "text": [
      "                                     SARIMAX Results                                      \n",
      "==========================================================================================\n",
      "Dep. Variable:                              value   No. Observations:                  100\n",
      "Model:             SARIMAX(1, 1, 1)x(1, 1, 1, 12)   Log Likelihood                1086.142\n",
      "Date:                            Tue, 14 May 2024   AIC                          -2162.284\n",
      "Time:                                    20:36:20   BIC                          -2149.954\n",
      "Sample:                                01-31-2020   HQIC                         -2157.319\n",
      "                                     - 04-30-2028                                         \n",
      "Covariance Type:                              opg                                         \n",
      "==============================================================================\n",
      "                 coef    std err          z      P>|z|      [0.025      0.975]\n",
      "------------------------------------------------------------------------------\n",
      "ar.L1         -0.2592   1.49e-17  -1.73e+16      0.000      -0.259      -0.259\n",
      "ma.L1         -0.0025   5.89e-17  -4.23e+13      0.000      -0.002      -0.002\n",
      "ar.S.L12    6.197e-09   1.07e-19    5.8e+10      0.000     6.2e-09     6.2e-09\n",
      "ma.S.L12   -6.197e-09   1.07e-19   -5.8e+10      0.000    -6.2e-09    -6.2e-09\n",
      "sigma2       1.32e-11   2.44e-24    5.4e+12      0.000    1.32e-11    1.32e-11\n",
      "===================================================================================\n",
      "Ljung-Box (L1) (Q):                    nan   Jarque-Bera (JB):                  nan\n",
      "Prob(Q):                               nan   Prob(JB):                          nan\n",
      "Heteroskedasticity (H):                nan   Skew:                              nan\n",
      "Prob(H) (two-sided):                   nan   Kurtosis:                          nan\n",
      "===================================================================================\n",
      "\n",
      "Warnings:\n",
      "[1] Covariance matrix calculated using the outer product of gradients (complex-step).\n",
      "[2] Covariance matrix is singular or near-singular, with condition number 3.51e+31. Standard errors may be unstable.\n"
     ]
    },
    {
     "name": "stderr",
     "output_type": "stream",
     "text": [
      "D:\\Semester-4\\ANACONDA\\lib\\site-packages\\statsmodels\\base\\model.py:604: ConvergenceWarning: Maximum Likelihood optimization failed to converge. Check mle_retvals\n",
      "  warnings.warn(\"Maximum Likelihood optimization failed to \"\n",
      "D:\\Semester-4\\ANACONDA\\lib\\site-packages\\statsmodels\\tsa\\stattools.py:1346: RuntimeWarning: invalid value encountered in divide\n",
      "  test_statistic = numer_squared_sum / denom_squared_sum\n",
      "D:\\Semester-4\\ANACONDA\\lib\\site-packages\\statsmodels\\tsa\\stattools.py:681: RuntimeWarning: invalid value encountered in divide\n",
      "  acf = avf[: nlags + 1] / avf[0]\n"
     ]
    }
   ],
   "source": [
    "# Build and fit the SARIMA model\n",
    "model = SARIMAX(df['value'], order=(p, d, q), seasonal_order=(P, D, Q, m))\n",
    "fitted_model = model.fit()\n",
    "\n",
    "# Print model summary to analyze the model's performance\n",
    "print(fitted_model.summary())"
   ]
  },
  {
   "cell_type": "code",
   "execution_count": 34,
   "id": "ed24535e",
   "metadata": {},
   "outputs": [
    {
     "name": "stdout",
     "output_type": "stream",
     "text": [
      "Forecasted Values:\n",
      "2028-05-31    100.0\n",
      "2028-06-30    101.0\n",
      "2028-07-31    102.0\n",
      "2028-08-31    103.0\n",
      "2028-09-30    104.0\n",
      "2028-10-31    105.0\n",
      "2028-11-30    106.0\n",
      "2028-12-31    107.0\n",
      "2029-01-31    108.0\n",
      "2029-02-28    109.0\n",
      "Freq: M, Name: predicted_mean, dtype: float64\n"
     ]
    }
   ],
   "source": [
    "# Forecast future values, adjust the steps to your desired future period\n",
    "forecast_steps = 10\n",
    "forecast = fitted_model.forecast(steps=forecast_steps)\n",
    "\n",
    "# Display the forecasted values\n",
    "print('Forecasted Values:')\n",
    "print(forecast)"
   ]
  },
  {
   "cell_type": "code",
   "execution_count": 35,
   "id": "8b5e5678",
   "metadata": {
    "scrolled": false
   },
   "outputs": [
    {
     "data": {
      "image/png": "[encoded data removed]",
      "text/plain": [
       "<Figure size 1000x500 with 1 Axes>"
      ]
     },
     "metadata": {},
     "output_type": "display_data"
    }
   ],
   "source": [
    "# Plot the original data and forecast\n",
    "plt.figure(figsize=(10, 5))\n",
    "plt.plot(df.index, df['value'], label='Original Data')\n",
    "plt.plot(pd.date_range(df.index[-1], periods=forecast_steps + 1, freq='M')[1:], forecast, label='Forecast', color='red')\n",
    "plt.legend()\n",
    "plt.xlabel('Time')\n",
    "plt.ylabel('Value')\n",
    "plt.title('SARIMA Model - Original Data and Forecast')\n",
    "plt.grid(True)\n",
    "plt.show()"
   ]
  },
  {
   "cell_type": "code",
   "execution_count": 36,
   "id": "864ae931",
   "metadata": {
    "scrolled": false
   },
   "outputs": [
    {
     "data": {
      "image/png": "[encoded data removed]",
      "text/plain": [
       "<Figure size 1000x400 with 1 Axes>"
      ]
     },
     "metadata": {},
     "output_type": "display_data"
    }
   ],
   "source": [
    "import matplotlib.pyplot as plt\n",
    "import numpy as np\n",
    "\n",
    "# Plot residuals\n",
    "plt.figure(figsize=(10, 4))\n",
    "plt.plot(forecast)\n",
    "plt.title('Residuals of the Model')\n",
    "plt.xlabel('Time')\n",
    "plt.ylabel('Residuals')\n",
    "plt.show()\n"
   ]
  },
  {
   "cell_type": "code",
   "execution_count": 37,
   "id": "7bd9f8a7",
   "metadata": {
    "scrolled": false
   },
   "outputs": [
    {
     "data": {
      "image/png": "[encoded data removed]",
      "text/plain": [
       "<Figure size 1000x400 with 1 Axes>"
      ]
     },
     "metadata": {},
     "output_type": "display_data"
    },
    {
     "data": {
      "text/plain": [
       "<Figure size 1000x400 with 0 Axes>"
      ]
     },
     "metadata": {},
     "output_type": "display_data"
    },
    {
     "data": {
      "image/png": "[encoded data removed]",
      "text/plain": [
       "<Figure size 640x480 with 1 Axes>"
      ]
     },
     "metadata": {},
     "output_type": "display_data"
    }
   ],
   "source": [
    "import matplotlib.pyplot as plt\n",
    "from statsmodels.graphics.tsaplots import plot_acf\n",
    "\n",
    "# Assuming 'fitted_model' is your ARIMA or SARIMA model\n",
    "residuals = fitted_model.resid\n",
    "\n",
    "# Plotting the histogram of the residuals\n",
    "plt.figure(figsize=(10, 4))\n",
    "plt.hist(residuals, bins=30, edgecolor='k')\n",
    "plt.title('Histogram of the Residuals')\n",
    "plt.show()\n",
    "\n",
    "# Plotting the ACF of the residuals\n",
    "plt.figure(figsize=(10, 4))\n",
    "plot_acf(residuals, lags=40)  # Ensure 'lags' do not exceed the length of 'residuals'\n",
    "plt.show()\n"
   ]
  },
  {
   "cell_type": "code",
   "execution_count": 100,
   "id": "9d086883",
   "metadata": {},
   "outputs": [
    {
     "name": "stdout",
     "output_type": "stream",
     "text": [
      "Mean Absolute Error (MAE): 28.609658093839393\n",
      "Mean Squared Error (MSE): 1099.6982870876636\n",
      "Root Mean Squared Error (RMSE): 33.1616990983222\n"
     ]
    },
    {
     "name": "stderr",
     "output_type": "stream",
     "text": [
      "D:\\Semester-4\\ANACONDA\\lib\\site-packages\\statsmodels\\tsa\\base\\tsa_model.py:471: ValueWarning: No frequency information was provided, so inferred frequency D will be used.\n",
      "  self._init_dates(dates, freq)\n",
      "D:\\Semester-4\\ANACONDA\\lib\\site-packages\\statsmodels\\tsa\\base\\tsa_model.py:471: ValueWarning: No frequency information was provided, so inferred frequency D will be used.\n",
      "  self._init_dates(dates, freq)\n",
      "D:\\Semester-4\\ANACONDA\\lib\\site-packages\\statsmodels\\tsa\\base\\tsa_model.py:471: ValueWarning: No frequency information was provided, so inferred frequency D will be used.\n",
      "  self._init_dates(dates, freq)\n"
     ]
    }
   ],
   "source": [
    "from statsmodels.tsa.arima.model import ARIMA\n",
    "import pandas as pd\n",
    "import numpy as np\n",
    "from sklearn.metrics import mean_absolute_error, mean_squared_error\n",
    "\n",
    "# Example data preparation\n",
    "np.random.seed(42)\n",
    "date_rng = pd.date_range(start='1/1/2022', end='1/10/2022', freq='D')\n",
    "df = pd.DataFrame(date_rng, columns=['date'])\n",
    "df['value'] = np.random.randint(0,100,size=(len(date_rng)))\n",
    "df.set_index('date', inplace=True)\n",
    "\n",
    "# Fit ARIMA model\n",
    "model = ARIMA(df['value'], order=(1,1,1))\n",
    "fitted_model = model.fit()\n",
    "\n",
    "# Predict\n",
    "predictions = fitted_model.predict(start=df.index[0], end=df.index[-1], typ='levels')\n",
    "actuals = df['value']\n",
    "\n",
    "# Calculate errors\n",
    "mae = mean_absolute_error(actuals, predictions)\n",
    "mse = mean_squared_error(actuals, predictions)\n",
    "rmse = np.sqrt(mse)  # Root Mean Squared Error\n",
    "\n",
    "print(f'Mean Absolute Error (MAE): {mae}')\n",
    "print(f'Mean Squared Error (MSE): {mse}')\n",
    "print(f'Root Mean Squared Error (RMSE): {rmse}')"
   ]
  },
  {
   "cell_type": "code",
   "execution_count": 101,
   "id": "07f6e8de",
   "metadata": {},
   "outputs": [
    {
     "name": "stdout",
     "output_type": "stream",
     "text": [
      "Mean Absolute Error (MAE): 28.609658093839393\n",
      "Mean Squared Error (MSE): 1099.6982870876636\n",
      "Root Mean Squared Error (RMSE): 33.1616990983222\n",
      "Model accuracy: 46.86% based on RMSE.\n"
     ]
    }
   ],
   "source": [
    "import numpy as np\n",
    "from sklearn.metrics import mean_absolute_error, mean_squared_error\n",
    "\n",
    "# Given predictions and actuals\n",
    "predictions = fitted_model.predict(start=df.index[0], end=df.index[-1])\n",
    "actuals = df['value']\n",
    "\n",
    "# Calculate errors\n",
    "mae = mean_absolute_error(actuals, predictions)\n",
    "mse = mean_squared_error(actuals, predictions)\n",
    "rmse = np.sqrt(mse)  # Root Mean Squared Error\n",
    "\n",
    "# Calculate the mean of the actual values\n",
    "mean_actuals = np.mean(actuals)\n",
    "\n",
    "# Calculate the accuracy based on RMSE\n",
    "accuracy = (1 - rmse / mean_actuals) * 100\n",
    "\n",
    "print(f'Mean Absolute Error (MAE): {mae}')\n",
    "print(f'Mean Squared Error (MSE): {mse}')\n",
    "print(f'Root Mean Squared Error (RMSE): {rmse}')\n",
    "print(f'Model accuracy: {accuracy:.2f}% based on RMSE.')\n"
   ]
  },
  {
   "cell_type": "code",
   "execution_count": 39,
   "id": "44975661",
   "metadata": {},
   "outputs": [
    {
     "name": "stdout",
     "output_type": "stream",
     "text": [
      "Model accuracy is above 90% based on RMSE.\n"
     ]
    }
   ],
   "source": [
    "# Check if RMSE is within acceptable range (e.g., RMSE/mean < 0.1 for >90% accuracy)\n",
    "if rmse / np.mean(predictions) < 0.1:\n",
    "    print(\"Model accuracy is above 90% based on RMSE.\")\n",
    "else:\n",
    "    print(\"Model accuracy is below 90%.\")"
   ]
  },
  {
   "cell_type": "markdown",
   "id": "50f58284",
   "metadata": {},
   "source": [
    "#### ETS MODEL  "
   ]
  },
  {
   "cell_type": "code",
   "execution_count": 40,
   "id": "fe835360",
   "metadata": {
    "scrolled": false
   },
   "outputs": [
    {
     "name": "stderr",
     "output_type": "stream",
     "text": [
      "D:\\Semester-4\\ANACONDA\\lib\\site-packages\\statsmodels\\tsa\\base\\tsa_model.py:471: ValueWarning: An unsupported index was provided and will be ignored when e.g. forecasting.\n",
      "  self._init_dates(dates, freq)\n"
     ]
    },
    {
     "name": "stdout",
     "output_type": "stream",
     "text": [
      "ETS Forecast:\n",
      " 718    1.000974\n",
      "719    1.009582\n",
      "720    1.018609\n",
      "721    1.033056\n",
      "722    1.039598\n",
      "723    1.033906\n",
      "724    1.019103\n",
      "725    0.998722\n",
      "726    0.981814\n",
      "727    0.982233\n",
      "728    0.996805\n",
      "729    1.010677\n",
      "dtype: float64\n"
     ]
    },
    {
     "name": "stderr",
     "output_type": "stream",
     "text": [
      "D:\\Semester-4\\ANACONDA\\lib\\site-packages\\statsmodels\\tsa\\base\\tsa_model.py:834: ValueWarning: No supported index is available. Prediction results will be given with an integer index beginning at `start`.\n",
      "  return get_prediction_index(\n"
     ]
    }
   ],
   "source": [
    "from statsmodels.tsa.holtwinters import ExponentialSmoothing\n",
    "\n",
    "# Choose a column for ETS modeling, assuming a seasonal period (e.g., yearly if data is monthly and has yearly seasonality)\n",
    "column_for_ets = 'Carbon Dioxide (ppm)'\n",
    "model_ets = ExponentialSmoothing(DataFrame_clean[column_for_ets], trend='add', seasonal='add', seasonal_periods=12)\n",
    "fitted_model_ets = model_ets.fit()\n",
    "\n",
    "# Forecast next 12 steps\n",
    "ets_forecast = fitted_model_ets.forecast(steps=12)\n",
    "print(\"ETS Forecast:\\n\", ets_forecast)"
   ]
  },
  {
   "cell_type": "code",
   "execution_count": 41,
   "id": "25508938",
   "metadata": {
    "scrolled": false
   },
   "outputs": [
    {
     "name": "stdout",
     "output_type": "stream",
     "text": [
      "Requirement already satisfied: prophet in d:\\semester-4\\anaconda\\lib\\site-packages (1.1.5)\n",
      "Requirement already satisfied: cmdstanpy>=1.0.4 in d:\\semester-4\\anaconda\\lib\\site-packages (from prophet) (1.2.2)\n",
      "Requirement already satisfied: tqdm>=4.36.1 in d:\\semester-4\\anaconda\\lib\\site-packages (from prophet) (4.64.1)\n",
      "Requirement already satisfied: importlib-resources in d:\\semester-4\\anaconda\\lib\\site-packages (from prophet) (6.4.0)\n",
      "Requirement already satisfied: pandas>=1.0.4 in d:\\semester-4\\anaconda\\lib\\site-packages (from prophet) (1.5.3)\n",
      "Requirement already satisfied: holidays>=0.25 in d:\\semester-4\\anaconda\\lib\\site-packages (from prophet) (0.48)\n",
      "Requirement already satisfied: numpy>=1.15.4 in d:\\semester-4\\anaconda\\lib\\site-packages (from prophet) (1.23.5)\n",
      "Requirement already satisfied: matplotlib>=2.0.0 in d:\\semester-4\\anaconda\\lib\\site-packages (from prophet) (3.7.0)\n",
      "Requirement already satisfied: stanio<2.0.0,>=0.4.0 in d:\\semester-4\\anaconda\\lib\\site-packages (from cmdstanpy>=1.0.4->prophet) (0.5.0)\n",
      "Requirement already satisfied: python-dateutil in d:\\semester-4\\anaconda\\lib\\site-packages (from holidays>=0.25->prophet) (2.8.2)\n",
      "Requirement already satisfied: contourpy>=1.0.1 in d:\\semester-4\\anaconda\\lib\\site-packages (from matplotlib>=2.0.0->prophet) (1.0.5)\n",
      "Requirement already satisfied: packaging>=20.0 in d:\\semester-4\\anaconda\\lib\\site-packages (from matplotlib>=2.0.0->prophet) (22.0)\n",
      "Requirement already satisfied: kiwisolver>=1.0.1 in d:\\semester-4\\anaconda\\lib\\site-packages (from matplotlib>=2.0.0->prophet) (1.4.4)\n",
      "Requirement already satisfied: pillow>=6.2.0 in d:\\semester-4\\anaconda\\lib\\site-packages (from matplotlib>=2.0.0->prophet) (9.4.0)\n",
      "Requirement already satisfied: fonttools>=4.22.0 in d:\\semester-4\\anaconda\\lib\\site-packages (from matplotlib>=2.0.0->prophet) (4.25.0)\n",
      "Requirement already satisfied: pyparsing>=2.3.1 in d:\\semester-4\\anaconda\\lib\\site-packages (from matplotlib>=2.0.0->prophet) (3.0.9)\n",
      "Requirement already satisfied: cycler>=0.10 in d:\\semester-4\\anaconda\\lib\\site-packages (from matplotlib>=2.0.0->prophet) (0.11.0)\n",
      "Requirement already satisfied: pytz>=2020.1 in d:\\semester-4\\anaconda\\lib\\site-packages (from pandas>=1.0.4->prophet) (2022.7)\n",
      "Requirement already satisfied: colorama in d:\\semester-4\\anaconda\\lib\\site-packages (from tqdm>=4.36.1->prophet) (0.4.6)\n",
      "Requirement already satisfied: six>=1.5 in d:\\semester-4\\anaconda\\lib\\site-packages (from python-dateutil->holidays>=0.25->prophet) (1.16.0)\n"
     ]
    }
   ],
   "source": [
    "!pip install prophet"
   ]
  },
  {
   "cell_type": "code",
   "execution_count": 42,
   "id": "b32306ee",
   "metadata": {},
   "outputs": [
    {
     "name": "stdout",
     "output_type": "stream",
     "text": [
      "Requirement already satisfied: pip in d:\\semester-4\\anaconda\\lib\\site-packages (22.3.1)\n",
      "Collecting pip\n",
      "  Using cached pip-24.0-py3-none-any.whl (2.1 MB)\n",
      "Requirement already satisfied: setuptools in d:\\semester-4\\anaconda\\lib\\site-packages (65.6.3)\n",
      "Collecting setuptools\n",
      "  Using cached setuptools-69.5.1-py3-none-any.whl (894 kB)\n"
     ]
    },
    {
     "name": "stderr",
     "output_type": "stream",
     "text": [
      "ERROR: To modify pip, please run the following command:\n",
      "D:\\Semester-4\\ANACONDA\\python.exe -m pip install --upgrade pip setuptools\n"
     ]
    }
   ],
   "source": [
    "!pip install --upgrade pip setuptools"
   ]
  },
  {
   "cell_type": "code",
   "execution_count": 43,
   "id": "7aa991ba",
   "metadata": {},
   "outputs": [
    {
     "name": "stdout",
     "output_type": "stream",
     "text": [
      "Collecting fbprophet\n",
      "  Using cached fbprophet-0.7.1.tar.gz (64 kB)\n",
      "  Preparing metadata (setup.py): started\n",
      "  Preparing metadata (setup.py): finished with status 'error'\n"
     ]
    },
    {
     "name": "stderr",
     "output_type": "stream",
     "text": [
      "  ERROR: Error [WinError 225] Operation did not complete successfully because the file contains a virus or potentially unwanted software while executing command python setup.py egg_info\n",
      "ERROR: Could not install packages due to an OSError: [WinError 225] Operation did not complete successfully because the file contains a virus or potentially unwanted software\n",
      "\n"
     ]
    }
   ],
   "source": [
    "!pip install fbprophet"
   ]
  },
  {
   "cell_type": "code",
   "execution_count": 44,
   "id": "529ba4b8",
   "metadata": {
    "scrolled": true
   },
   "outputs": [
    {
     "name": "stdout",
     "output_type": "stream",
     "text": [
      "   ds  Year  Month  Decimal Date         y  Seasonally Adjusted CO2 (ppm)  \\\n",
      "0   2  1958      3     1958.2027  0.026260                       0.000000   \n",
      "1   3  1958      4     1958.2877  0.044896                       0.007968   \n",
      "2   4  1958      5     1958.3699  0.045426                       0.003384   \n",
      "3   5  1958      6     1958.4548  0.036743                       0.005785   \n",
      "4   6  1958      7     1958.5370  0.028060                       0.008186   \n",
      "\n",
      "   Carbon Dioxide Fit (ppm)  Seasonally Adjusted CO2 Fit (ppm)  \n",
      "0                  0.039334                           0.000000  \n",
      "1                  0.051144                           0.000990  \n",
      "2                  0.056733                           0.001869  \n",
      "3                  0.050301                           0.002749  \n",
      "4                  0.036065                           0.003519  \n"
     ]
    }
   ],
   "source": [
    "column_for_ets = 'Carbon Dioxide (ppm)'  \n",
    "\n",
    "# Now prepare the DataFrame for Prophet\n",
    "df_prophet = DataFrame_clean.reset_index().rename(columns={'index': 'ds', column_for_ets: 'y'})\n",
    "\n",
    "# Verify the DataFrame structure\n",
    "print(df_prophet.head())"
   ]
  },
  {
   "cell_type": "code",
   "execution_count": 45,
   "id": "f64da61b",
   "metadata": {},
   "outputs": [],
   "source": [
    "# Check for NaT values which indicate failed conversions\n",
    "if df_prophet['ds'].isnull().any():\n",
    "    print(\"Non-convertible entries found.\")\n",
    "    # Optionally, handle these entries by filling, removing, or replacing them\n",
    "    df_prophet = df_prophet.dropna(subset=['ds'])  # Removing rows with NaT values"
   ]
  },
  {
   "cell_type": "code",
   "execution_count": 46,
   "id": "eea82399",
   "metadata": {
    "scrolled": true
   },
   "outputs": [
    {
     "name": "stdout",
     "output_type": "stream",
     "text": [
      "   ds  Year  Month  Decimal Date         y  Seasonally Adjusted CO2 (ppm)  \\\n",
      "0   2  1958      3     1958.2027  0.026260                       0.000000   \n",
      "1   3  1958      4     1958.2877  0.044896                       0.007968   \n",
      "2   4  1958      5     1958.3699  0.045426                       0.003384   \n",
      "3   5  1958      6     1958.4548  0.036743                       0.005785   \n",
      "4   6  1958      7     1958.5370  0.028060                       0.008186   \n",
      "\n",
      "   Carbon Dioxide Fit (ppm)  Seasonally Adjusted CO2 Fit (ppm)  \n",
      "0                  0.039334                           0.000000  \n",
      "1                  0.051144                           0.000990  \n",
      "2                  0.056733                           0.001869  \n",
      "3                  0.050301                           0.002749  \n",
      "4                  0.036065                           0.003519  \n"
     ]
    }
   ],
   "source": [
    "print(df_prophet.head())"
   ]
  },
  {
   "cell_type": "code",
   "execution_count": 47,
   "id": "e598227c",
   "metadata": {
    "scrolled": true
   },
   "outputs": [
    {
     "name": "stdout",
     "output_type": "stream",
     "text": [
      "                             ds  Year  Month  Decimal Date         y  \\\n",
      "0 1970-01-01 00:00:00.000001958  1958      3     1958.2027  0.026260   \n",
      "1 1970-01-01 00:00:00.000001958  1958      4     1958.2877  0.044896   \n",
      "2 1970-01-01 00:00:00.000001958  1958      5     1958.3699  0.045426   \n",
      "3 1970-01-01 00:00:00.000001958  1958      6     1958.4548  0.036743   \n",
      "4 1970-01-01 00:00:00.000001958  1958      7     1958.5370  0.028060   \n",
      "\n",
      "   Seasonally Adjusted CO2 (ppm)  Carbon Dioxide Fit (ppm)  \\\n",
      "0                       0.000000                  0.039334   \n",
      "1                       0.007968                  0.051144   \n",
      "2                       0.003384                  0.056733   \n",
      "3                       0.005785                  0.050301   \n",
      "4                       0.008186                  0.036065   \n",
      "\n",
      "   Seasonally Adjusted CO2 Fit (ppm)  \n",
      "0                           0.000000  \n",
      "1                           0.000990  \n",
      "2                           0.001869  \n",
      "3                           0.002749  \n",
      "4                           0.003519  \n"
     ]
    }
   ],
   "source": [
    "df_prophet['ds'] = pd.to_datetime(df_prophet['Decimal Date'], errors='coerce')\n",
    "\n",
    "# Check again to see if the conversion was successful\n",
    "print(df_prophet.head())"
   ]
  },
  {
   "cell_type": "code",
   "execution_count": 48,
   "id": "5c10afd5",
   "metadata": {},
   "outputs": [],
   "source": [
    "# Coerce errors to NaT (this will help identify rows where conversion fails)\n",
    "df_prophet['ds'] = pd.to_datetime(df_prophet['ds'], errors='coerce')\n",
    "\n",
    "# Check if there are any NaT values which indicate failed conversions\n",
    "if df_prophet['ds'].isnull().any():\n",
    "    print(\"Failed to convert some entries:\")\n",
    "    print(df_prophet[df_prophet['ds'].isnull()])"
   ]
  },
  {
   "cell_type": "code",
   "execution_count": 53,
   "id": "902caaa3",
   "metadata": {},
   "outputs": [
    {
     "name": "stderr",
     "output_type": "stream",
     "text": [
      "20:41:22 - cmdstanpy - INFO - Chain [1] start processing\n",
      "20:41:22 - cmdstanpy - INFO - Chain [1] done processing\n"
     ]
    },
    {
     "data": {
      "text/plain": [
       "<prophet.forecaster.Prophet at 0x20ede633bb0>"
      ]
     },
     "execution_count": 53,
     "metadata": {},
     "output_type": "execute_result"
    }
   ],
   "source": [
    "from prophet import Prophet\n",
    "#Remove rows where 'ds' conversion failed\n",
    "df_prophet = df_prophet.dropna(subset=['ds'])\n",
    "\n",
    "# Now try fitting the Prophet model again\n",
    "prophet_model = Prophet(yearly_seasonality=True, daily_seasonality=False)\n",
    "prophet_model.fit(df_prophet)"
   ]
  },
  {
   "cell_type": "code",
   "execution_count": 54,
   "id": "3664d23c",
   "metadata": {
    "scrolled": true
   },
   "outputs": [
    {
     "name": "stderr",
     "output_type": "stream",
     "text": [
      "20:41:27 - cmdstanpy - INFO - Chain [1] start processing\n",
      "20:41:27 - cmdstanpy - INFO - Chain [1] done processing\n"
     ]
    },
    {
     "name": "stdout",
     "output_type": "stream",
     "text": [
      "Prophet Forecast:\n",
      "                                ds          yhat    yhat_lower    yhat_upper\n",
      "420 1970-12-28 00:00:00.000002017  7.233980e+14  2.859429e+14  1.160305e+15\n",
      "421 1970-12-29 00:00:00.000002017  7.254019e+14  2.857218e+14  1.162498e+15\n",
      "422 1970-12-30 00:00:00.000002017  7.274058e+14  2.856808e+14  1.166097e+15\n",
      "423 1970-12-31 00:00:00.000002017  7.294096e+14  2.856334e+14  1.170171e+15\n",
      "424 1971-01-01 00:00:00.000002017  7.314135e+14  2.855778e+14  1.174334e+15\n"
     ]
    }
   ],
   "source": [
    "from prophet import Prophet\n",
    "\n",
    "# Initialize and fit the Prophet model\n",
    "prophet_model = Prophet(yearly_seasonality=True, daily_seasonality=False)\n",
    "prophet_model.fit(df_prophet)\n",
    "\n",
    "# Prepare future dataframe for forecasting\n",
    "future_prophet = prophet_model.make_future_dataframe(periods=365)\n",
    "\n",
    "# Forecast future values\n",
    "forecast_prophet = prophet_model.predict(future_prophet)\n",
    "print(\"Prophet Forecast:\\n\", forecast_prophet[['ds', 'yhat', 'yhat_lower', 'yhat_upper']].tail())"
   ]
  },
  {
   "cell_type": "markdown",
   "id": "15e58b4f",
   "metadata": {},
   "source": [
    "#### CHECKING THE ACCURACY FOR PROPHET MODEL "
   ]
  },
  {
   "cell_type": "code",
   "execution_count": 55,
   "id": "ad291708",
   "metadata": {},
   "outputs": [],
   "source": [
    "from prophet import Prophet\n",
    "from sklearn.metrics import mean_absolute_error, mean_squared_error\n",
    "from sklearn.model_selection import train_test_split\n",
    "import numpy as np\n",
    "import pandas as pd\n"
   ]
  },
  {
   "cell_type": "code",
   "execution_count": 95,
   "id": "f3af34d5",
   "metadata": {},
   "outputs": [
    {
     "name": "stdout",
     "output_type": "stream",
     "text": [
      "Model accuracy: 89.58% based on RMSE.\n"
     ]
    }
   ],
   "source": [
    "import numpy as np\n",
    "\n",
    "# Calculate the mean of the test target values\n",
    "mean_y_test = np.mean(y_test)\n",
    "\n",
    "# Calculate the accuracy based on RMSE\n",
    "accuracy = (1 - rmse / mean_y_test) * 100\n",
    "\n",
    "print(f\"Model accuracy: {accuracy:.2f}% based on RMSE.\")"
   ]
  },
  {
   "cell_type": "code",
   "execution_count": 96,
   "id": "59c4b35b",
   "metadata": {},
   "outputs": [
    {
     "name": "stdout",
     "output_type": "stream",
     "text": [
      "                             ds         y\n",
      "2 1970-01-01 00:00:00.000001958  0.026260\n",
      "3 1970-01-01 00:00:00.000001958  0.044896\n",
      "4 1970-01-01 00:00:00.000001958  0.045426\n",
      "5 1970-01-01 00:00:00.000001958  0.036743\n",
      "6 1970-01-01 00:00:00.000001958  0.028060\n",
      "   Year  Month                  Decimal Date  Carbon Dioxide (ppm)  \\\n",
      "2  1958      3 1970-01-01 00:00:00.000001958              0.026260   \n",
      "3  1958      4 1970-01-01 00:00:00.000001958              0.044896   \n",
      "4  1958      5 1970-01-01 00:00:00.000001958              0.045426   \n",
      "5  1958      6 1970-01-01 00:00:00.000001958              0.036743   \n",
      "6  1958      7 1970-01-01 00:00:00.000001958              0.028060   \n",
      "\n",
      "   Seasonally Adjusted CO2 (ppm)  Carbon Dioxide Fit (ppm)  \\\n",
      "2                       0.000000                  0.039334   \n",
      "3                       0.007968                  0.051144   \n",
      "4                       0.003384                  0.056733   \n",
      "5                       0.005785                  0.050301   \n",
      "6                       0.008186                  0.036065   \n",
      "\n",
      "   Seasonally Adjusted CO2 Fit (ppm)                            ds         y  \n",
      "2                           0.000000 1970-01-01 00:00:00.000001958  0.026260  \n",
      "3                           0.000990 1970-01-01 00:00:00.000001958  0.044896  \n",
      "4                           0.001869 1970-01-01 00:00:00.000001958  0.045426  \n",
      "5                           0.002749 1970-01-01 00:00:00.000001958  0.036743  \n",
      "6                           0.003519 1970-01-01 00:00:00.000001958  0.028060  \n"
     ]
    },
    {
     "name": "stderr",
     "output_type": "stream",
     "text": [
      "21:38:50 - cmdstanpy - INFO - Chain [1] start processing\n",
      "21:38:52 - cmdstanpy - INFO - Chain [1] done processing\n"
     ]
    },
    {
     "name": "stdout",
     "output_type": "stream",
     "text": [
      "Mean Squared Error: 1.906743799490669e+28\n",
      "Root Mean Squared Error: 138084894159016.14\n",
      "Mean Absolute Error: 119791742064113.22\n",
      "Model accuracy is below 90%.\n"
     ]
    }
   ],
   "source": [
    "\n",
    "# Assuming 'Date' is the column with date information and 'Carbon Dioxide (ppm)' is the target variable\n",
    "df_prophet = DataFrame_clean[['Decimal Date', 'Carbon Dioxide (ppm)']].copy()  # Adjust column names as necessary\n",
    "df_prophet.columns = ['ds', 'y']  # Rename columns for Prophet compatibility\n",
    "\n",
    "DataFrame_clean['Decimal Date'] = pd.to_datetime(DataFrame_clean['Decimal Date'])\n",
    "\n",
    "# Verify the DataFrame structure\n",
    "print(df_prophet.head())\n",
    "\n",
    "\n",
    "import pandas as pd\n",
    "from prophet import Prophet\n",
    "from sklearn.metrics import mean_squared_error, mean_absolute_error\n",
    "\n",
    "# Assuming 'Decimal Date' is the date column and 'Carbon Dioxide (ppm)' is the target\n",
    "# First, ensure 'Decimal Date' is properly converted to datetime\n",
    "DataFrame_clean['ds'] = pd.to_datetime(DataFrame_clean['Decimal Date'], errors='coerce')\n",
    "DataFrame_clean['y'] = DataFrame_clean['Carbon Dioxide (ppm)']\n",
    "DataFrame_clean = DataFrame_clean.dropna(subset=['ds', 'y'])  # Ensure no NaT or NaN entries\n",
    "\n",
    "# Check DataFrame structure\n",
    "print(DataFrame_clean.head())\n",
    "\n",
    "# Prepare the DataFrame for Prophet by selecting relevant columns\n",
    "df_prophet = DataFrame_clean[['ds', 'y']]\n",
    "\n",
    "# Split the data into training and testing sets\n",
    "split_point = int(len(df_prophet) * 0.8)\n",
    "train_df = df_prophet.iloc[:split_point]\n",
    "test_df = df_prophet.iloc[split_point:]\n",
    "\n",
    "# Initialize and fit the Prophet model\n",
    "prophet_model = Prophet(yearly_seasonality=True, daily_seasonality=False)\n",
    "prophet_model.fit(train_df)\n",
    "\n",
    "# Prepare future dataframe for forecasting including test dates\n",
    "future = prophet_model.make_future_dataframe(periods=len(test_df), freq='D')\n",
    "forecast = prophet_model.predict(future)\n",
    "\n",
    "# Make sure the lengths of forecast and test_df are the same\n",
    "if len(forecast) < len(test_df):\n",
    "    raise ValueError(\"The forecast period is shorter than the test dataset.\")\n",
    "test_forecast = forecast.iloc[-len(test_df):]['yhat']\n",
    "\n",
    "# Calculate accuracy metrics\n",
    "mse = mean_squared_error(test_df['y'], test_forecast)\n",
    "rmse = np.sqrt(mse)\n",
    "mae = mean_absolute_error(test_df['y'], test_forecast)\n",
    "\n",
    "print(\"Mean Squared Error:\", mse)\n",
    "print(\"Root Mean Squared Error:\", rmse)\n",
    "print(\"Mean Absolute Error:\", mae)\n",
    "\n",
    "# Check if RMSE is within an acceptable range\n",
    "if rmse / np.mean(test_df['y']) < 0.1:\n",
    "    print(\"Model accuracy is above 90% based on RMSE.\")\n",
    "else:\n",
    "    print(\"Model accuracy is below 90%.\")\n"
   ]
  },
  {
   "cell_type": "code",
   "execution_count": 57,
   "id": "2bef6149",
   "metadata": {},
   "outputs": [
    {
     "data": {
      "text/plain": [
       "<prophet.forecaster.Prophet at 0x20ede6600d0>"
      ]
     },
     "execution_count": 57,
     "metadata": {},
     "output_type": "execute_result"
    }
   ],
   "source": [
    "prophet_model = Prophet(yearly_seasonality=True, weekly_seasonality=False, daily_seasonality=False)\n",
    "prophet_model.add_seasonality(name='monthly', period=30.5, fourier_order=5)"
   ]
  },
  {
   "cell_type": "code",
   "execution_count": 58,
   "id": "8724a26d",
   "metadata": {},
   "outputs": [],
   "source": [
    "holidays = pd.DataFrame({\n",
    "  'holiday': 'us_holidays',\n",
    "  'ds': pd.to_datetime(['2024-07-04', '2024-12-25', '2025-01-01']),\n",
    "  'lower_window': 0,\n",
    "  'upper_window': 1,\n",
    "})\n",
    "prophet_model = Prophet(holidays=holidays)"
   ]
  },
  {
   "cell_type": "code",
   "execution_count": 59,
   "id": "618bd0cc",
   "metadata": {},
   "outputs": [],
   "source": [
    "prophet_model = Prophet(changepoint_prior_scale=0.05)"
   ]
  },
  {
   "cell_type": "code",
   "execution_count": 64,
   "id": "0bda8cb3",
   "metadata": {},
   "outputs": [
    {
     "data": {
      "text/plain": [
       "<prophet.forecaster.Prophet at 0x20ede7a0dc0>"
      ]
     },
     "execution_count": 64,
     "metadata": {},
     "output_type": "execute_result"
    }
   ],
   "source": [
    "prophet_model.add_regressor('Seasonally Adjusted CO2 Fit (ppm')\n",
    "prophet_model.add_regressor('Carbon Dioxide (ppm)')"
   ]
  },
  {
   "cell_type": "code",
   "execution_count": 103,
   "id": "13b274b5",
   "metadata": {},
   "outputs": [
    {
     "name": "stdout",
     "output_type": "stream",
     "text": [
      "Error during cross-validation: Less data than horizon.\n"
     ]
    }
   ],
   "source": [
    "from prophet.diagnostics import cross_validation, performance_metrics\n",
    "\n",
    "# Example setup\n",
    "initial_days = '1095 days'  # Initial training period\n",
    "period_days = '180 days'    # How often to make a new prediction\n",
    "horizon_days = '365 days'   # Forecast horizon\n",
    "\n",
    "try:\n",
    "    df_cv = cross_validation(\n",
    "        prophet_model,\n",
    "        initial=initial_days,\n",
    "        period=period_days,\n",
    "        horizon=horizon_days\n",
    "    )\n",
    "    df_p = performance_metrics(df_cv)\n",
    "    print(df_p.head())\n",
    "except Exception as e:\n",
    "    print(f\"Error during cross-validation: {e}\")"
   ]
  },
  {
   "cell_type": "code",
   "execution_count": 104,
   "id": "61701f2a",
   "metadata": {},
   "outputs": [
    {
     "name": "stdout",
     "output_type": "stream",
     "text": [
      "Total data length: 100 days\n"
     ]
    }
   ],
   "source": [
    "print(f\"Total data length: {len(df_prophet)} days\")"
   ]
  },
  {
   "cell_type": "code",
   "execution_count": 105,
   "id": "63cdb297",
   "metadata": {
    "scrolled": false
   },
   "outputs": [
    {
     "name": "stderr",
     "output_type": "stream",
     "text": [
      "C:\\Users\\Dell Pc\\AppData\\Local\\Temp\\ipykernel_13792\\3054608895.py:8: FutureWarning: The pandas.np module is deprecated and will be removed from pandas in a future version. Import numpy directly instead.\n",
      "  'y': pd.np.random.randn(100),  # Replace pd.np with np if using newer pandas versions\n",
      "C:\\Users\\Dell Pc\\AppData\\Local\\Temp\\ipykernel_13792\\3054608895.py:9: FutureWarning: The pandas.np module is deprecated and will be removed from pandas in a future version. Import numpy directly instead.\n",
      "  'Seasonally Adjusted CO2 Fit (ppm)': pd.np.random.randn(100),  # Example regressor\n",
      "C:\\Users\\Dell Pc\\AppData\\Local\\Temp\\ipykernel_13792\\3054608895.py:10: FutureWarning: The pandas.np module is deprecated and will be removed from pandas in a future version. Import numpy directly instead.\n",
      "  'Carbon Dioxide (ppm)': pd.np.random.randn(100)  # Example regressor\n",
      "22:32:48 - cmdstanpy - INFO - Chain [1] start processing\n",
      "22:32:48 - cmdstanpy - INFO - Chain [1] done processing\n",
      "Seasonality has period of 365.25 days which is larger than initial window. Consider increasing initial.\n"
     ]
    },
    {
     "data": {
      "application/vnd.jupyter.widget-view+json": {
       "model_id": "fd2960a747ec44238da3aff6fe995840",
       "version_major": 2,
       "version_minor": 0
      },
      "text/plain": [
       "  0%|          | 0/5 [00:00<?, ?it/s]"
      ]
     },
     "metadata": {},
     "output_type": "display_data"
    },
    {
     "name": "stderr",
     "output_type": "stream",
     "text": [
      "22:32:49 - cmdstanpy - INFO - Chain [1] start processing\n",
      "22:32:49 - cmdstanpy - INFO - Chain [1] done processing\n",
      "22:32:50 - cmdstanpy - INFO - Chain [1] start processing\n",
      "22:32:50 - cmdstanpy - INFO - Chain [1] done processing\n",
      "22:32:50 - cmdstanpy - INFO - Chain [1] start processing\n",
      "22:32:51 - cmdstanpy - INFO - Chain [1] done processing\n",
      "22:32:51 - cmdstanpy - INFO - Chain [1] start processing\n",
      "22:32:52 - cmdstanpy - INFO - Chain [1] done processing\n",
      "22:32:52 - cmdstanpy - INFO - Chain [1] start processing\n",
      "22:32:52 - cmdstanpy - INFO - Chain [1] done processing\n"
     ]
    },
    {
     "name": "stdout",
     "output_type": "stream",
     "text": [
      "  horizon        mse      rmse       mae      mape     mdape     smape  \\\n",
      "0  2 days   2.670090  1.634041  1.500298  9.154884  3.332712  1.846232   \n",
      "1  3 days   4.812053  2.193639  1.849793  7.387758  2.532274  1.498173   \n",
      "2  4 days   6.696917  2.587840  2.069392  6.660490  3.043629  1.286035   \n",
      "3  5 days   7.807600  2.794208  2.436828  7.872246  2.596802  1.354438   \n",
      "4  6 days  14.023668  3.744819  3.266334  9.300055  4.025829  1.666738   \n",
      "\n",
      "   coverage  \n",
      "0       0.2  \n",
      "1       0.3  \n",
      "2       0.3  \n",
      "3       0.1  \n",
      "4       0.1  \n"
     ]
    }
   ],
   "source": [
    "import pandas as pd\n",
    "from prophet import Prophet\n",
    "from prophet.diagnostics import cross_validation, performance_metrics\n",
    "\n",
    "# Example DataFrame preparation\n",
    "data = {\n",
    "    'ds': pd.date_range(start='2024-01-01', periods=100),\n",
    "    'y': pd.np.random.randn(100),  # Replace pd.np with np if using newer pandas versions\n",
    "    'Seasonally Adjusted CO2 Fit (ppm)': pd.np.random.randn(100),  # Example regressor\n",
    "    'Carbon Dioxide (ppm)': pd.np.random.randn(100)  # Example regressor\n",
    "}\n",
    "df_prophet = pd.DataFrame(data)\n",
    "\n",
    "# Prepare holiday dataframe\n",
    "holidays = pd.DataFrame({\n",
    "    'holiday': 'us_holidays',\n",
    "    'ds': pd.to_datetime(['2024-07-04', '2024-12-25', '2025-01-01']),\n",
    "    'lower_window': 0,\n",
    "    'upper_window': 1,\n",
    "})\n",
    "\n",
    "# Initialize the Prophet model with custom settings\n",
    "prophet_model = Prophet(\n",
    "    yearly_seasonality=True,\n",
    "    weekly_seasonality=False,\n",
    "    daily_seasonality=False,\n",
    "    holidays=holidays,\n",
    "    changepoint_prior_scale=0.05\n",
    ")\n",
    "\n",
    "# Add custom seasonality and regressors\n",
    "prophet_model.add_seasonality(name='monthly', period=30.5, fourier_order=5)\n",
    "prophet_model.add_regressor('Seasonally Adjusted CO2 Fit (ppm)')\n",
    "prophet_model.add_regressor('Carbon Dioxide (ppm)')\n",
    "\n",
    "# Fit the model\n",
    "prophet_model.fit(df_prophet)\n",
    "\n",
    "# Since we have only 100 days, we adjust the initial, period, and horizon accordingly\n",
    "try:\n",
    "    df_cv = cross_validation(prophet_model, initial='30 days', period='10 days', horizon='20 days')\n",
    "    df_p = performance_metrics(df_cv)\n",
    "    print(df_p.head())\n",
    "except Exception as e:\n",
    "    print(f\"Error during cross-validation: {e}\")\n"
   ]
  },
  {
   "cell_type": "markdown",
   "id": "3186d51e",
   "metadata": {},
   "source": [
    "#### SVR  "
   ]
  },
  {
   "cell_type": "code",
   "execution_count": 66,
   "id": "81030ca7",
   "metadata": {},
   "outputs": [],
   "source": [
    "from sklearn.svm import SVR\n",
    "from sklearn.preprocessing import StandardScaler\n",
    "from sklearn.pipeline import make_pipeline"
   ]
  },
  {
   "cell_type": "code",
   "execution_count": 67,
   "id": "a8572345",
   "metadata": {},
   "outputs": [
    {
     "name": "stdout",
     "output_type": "stream",
     "text": [
      "Index(['value'], dtype='object')\n"
     ]
    }
   ],
   "source": [
    "print(df.columns)"
   ]
  },
  {
   "cell_type": "code",
   "execution_count": 68,
   "id": "26616521",
   "metadata": {},
   "outputs": [
    {
     "name": "stdout",
     "output_type": "stream",
     "text": [
      "['value']\n"
     ]
    }
   ],
   "source": [
    "# Convert column names from Index to a regular list\n",
    "column_names = df.columns.tolist()\n",
    "\n",
    "# Now you can manipulate column_names as a regular list\n",
    "print(column_names) "
   ]
  },
  {
   "cell_type": "code",
   "execution_count": 69,
   "id": "09fae89f",
   "metadata": {},
   "outputs": [
    {
     "data": {
      "text/html": [
       "<div>\n",
       "<style scoped>\n",
       "    .dataframe tbody tr th:only-of-type {\n",
       "        vertical-align: middle;\n",
       "    }\n",
       "\n",
       "    .dataframe tbody tr th {\n",
       "        vertical-align: top;\n",
       "    }\n",
       "\n",
       "    .dataframe thead th {\n",
       "        text-align: right;\n",
       "    }\n",
       "</style>\n",
       "<table border=\"1\" class=\"dataframe\">\n",
       "  <thead>\n",
       "    <tr style=\"text-align: right;\">\n",
       "      <th></th>\n",
       "      <th>Year</th>\n",
       "      <th>Month</th>\n",
       "      <th>Decimal Date</th>\n",
       "      <th>Carbon Dioxide (ppm)</th>\n",
       "      <th>Seasonally Adjusted CO2 (ppm)</th>\n",
       "      <th>Carbon Dioxide Fit (ppm)</th>\n",
       "      <th>Seasonally Adjusted CO2 Fit (ppm)</th>\n",
       "      <th>ds</th>\n",
       "      <th>y</th>\n",
       "    </tr>\n",
       "  </thead>\n",
       "  <tbody>\n",
       "    <tr>\n",
       "      <th>2</th>\n",
       "      <td>1958</td>\n",
       "      <td>3</td>\n",
       "      <td>1970-01-01 00:00:00.000001958</td>\n",
       "      <td>0.026260</td>\n",
       "      <td>0.000000</td>\n",
       "      <td>0.039334</td>\n",
       "      <td>0.000000</td>\n",
       "      <td>1970-01-01 00:00:00.000001958</td>\n",
       "      <td>0.026260</td>\n",
       "    </tr>\n",
       "    <tr>\n",
       "      <th>3</th>\n",
       "      <td>1958</td>\n",
       "      <td>4</td>\n",
       "      <td>1970-01-01 00:00:00.000001958</td>\n",
       "      <td>0.044896</td>\n",
       "      <td>0.007968</td>\n",
       "      <td>0.051144</td>\n",
       "      <td>0.000990</td>\n",
       "      <td>1970-01-01 00:00:00.000001958</td>\n",
       "      <td>0.044896</td>\n",
       "    </tr>\n",
       "    <tr>\n",
       "      <th>4</th>\n",
       "      <td>1958</td>\n",
       "      <td>5</td>\n",
       "      <td>1970-01-01 00:00:00.000001958</td>\n",
       "      <td>0.045426</td>\n",
       "      <td>0.003384</td>\n",
       "      <td>0.056733</td>\n",
       "      <td>0.001869</td>\n",
       "      <td>1970-01-01 00:00:00.000001958</td>\n",
       "      <td>0.045426</td>\n",
       "    </tr>\n",
       "    <tr>\n",
       "      <th>5</th>\n",
       "      <td>1958</td>\n",
       "      <td>6</td>\n",
       "      <td>1970-01-01 00:00:00.000001958</td>\n",
       "      <td>0.036743</td>\n",
       "      <td>0.005785</td>\n",
       "      <td>0.050301</td>\n",
       "      <td>0.002749</td>\n",
       "      <td>1970-01-01 00:00:00.000001958</td>\n",
       "      <td>0.036743</td>\n",
       "    </tr>\n",
       "    <tr>\n",
       "      <th>6</th>\n",
       "      <td>1958</td>\n",
       "      <td>7</td>\n",
       "      <td>1970-01-01 00:00:00.000001958</td>\n",
       "      <td>0.028060</td>\n",
       "      <td>0.008186</td>\n",
       "      <td>0.036065</td>\n",
       "      <td>0.003519</td>\n",
       "      <td>1970-01-01 00:00:00.000001958</td>\n",
       "      <td>0.028060</td>\n",
       "    </tr>\n",
       "    <tr>\n",
       "      <th>...</th>\n",
       "      <td>...</td>\n",
       "      <td>...</td>\n",
       "      <td>...</td>\n",
       "      <td>...</td>\n",
       "      <td>...</td>\n",
       "      <td>...</td>\n",
       "      <td>...</td>\n",
       "      <td>...</td>\n",
       "      <td>...</td>\n",
       "    </tr>\n",
       "    <tr>\n",
       "      <th>715</th>\n",
       "      <td>2017</td>\n",
       "      <td>8</td>\n",
       "      <td>1970-01-01 00:00:00.000002017</td>\n",
       "      <td>0.989305</td>\n",
       "      <td>0.998472</td>\n",
       "      <td>0.985131</td>\n",
       "      <td>1.000000</td>\n",
       "      <td>1970-01-01 00:00:00.000002017</td>\n",
       "      <td>0.989305</td>\n",
       "    </tr>\n",
       "    <tr>\n",
       "      <th>716</th>\n",
       "      <td>2017</td>\n",
       "      <td>9</td>\n",
       "      <td>1970-01-01 00:00:00.000002017</td>\n",
       "      <td>0.989305</td>\n",
       "      <td>0.998472</td>\n",
       "      <td>0.985131</td>\n",
       "      <td>1.000000</td>\n",
       "      <td>1970-01-01 00:00:00.000002017</td>\n",
       "      <td>0.989305</td>\n",
       "    </tr>\n",
       "    <tr>\n",
       "      <th>717</th>\n",
       "      <td>2017</td>\n",
       "      <td>10</td>\n",
       "      <td>1970-01-01 00:00:00.000002017</td>\n",
       "      <td>0.989305</td>\n",
       "      <td>0.998472</td>\n",
       "      <td>0.985131</td>\n",
       "      <td>1.000000</td>\n",
       "      <td>1970-01-01 00:00:00.000002017</td>\n",
       "      <td>0.989305</td>\n",
       "    </tr>\n",
       "    <tr>\n",
       "      <th>718</th>\n",
       "      <td>2017</td>\n",
       "      <td>11</td>\n",
       "      <td>1970-01-01 00:00:00.000002017</td>\n",
       "      <td>0.989305</td>\n",
       "      <td>0.998472</td>\n",
       "      <td>0.985131</td>\n",
       "      <td>1.000000</td>\n",
       "      <td>1970-01-01 00:00:00.000002017</td>\n",
       "      <td>0.989305</td>\n",
       "    </tr>\n",
       "    <tr>\n",
       "      <th>719</th>\n",
       "      <td>2017</td>\n",
       "      <td>12</td>\n",
       "      <td>1970-01-01 00:00:00.000002017</td>\n",
       "      <td>0.989305</td>\n",
       "      <td>0.998472</td>\n",
       "      <td>0.985131</td>\n",
       "      <td>1.000000</td>\n",
       "      <td>1970-01-01 00:00:00.000002017</td>\n",
       "      <td>0.989305</td>\n",
       "    </tr>\n",
       "  </tbody>\n",
       "</table>\n",
       "<p>718 rows × 9 columns</p>\n",
       "</div>"
      ],
      "text/plain": [
       "     Year  Month                  Decimal Date  Carbon Dioxide (ppm)  \\\n",
       "2    1958      3 1970-01-01 00:00:00.000001958              0.026260   \n",
       "3    1958      4 1970-01-01 00:00:00.000001958              0.044896   \n",
       "4    1958      5 1970-01-01 00:00:00.000001958              0.045426   \n",
       "5    1958      6 1970-01-01 00:00:00.000001958              0.036743   \n",
       "6    1958      7 1970-01-01 00:00:00.000001958              0.028060   \n",
       "..    ...    ...                           ...                   ...   \n",
       "715  2017      8 1970-01-01 00:00:00.000002017              0.989305   \n",
       "716  2017      9 1970-01-01 00:00:00.000002017              0.989305   \n",
       "717  2017     10 1970-01-01 00:00:00.000002017              0.989305   \n",
       "718  2017     11 1970-01-01 00:00:00.000002017              0.989305   \n",
       "719  2017     12 1970-01-01 00:00:00.000002017              0.989305   \n",
       "\n",
       "     Seasonally Adjusted CO2 (ppm)  Carbon Dioxide Fit (ppm)  \\\n",
       "2                         0.000000                  0.039334   \n",
       "3                         0.007968                  0.051144   \n",
       "4                         0.003384                  0.056733   \n",
       "5                         0.005785                  0.050301   \n",
       "6                         0.008186                  0.036065   \n",
       "..                             ...                       ...   \n",
       "715                       0.998472                  0.985131   \n",
       "716                       0.998472                  0.985131   \n",
       "717                       0.998472                  0.985131   \n",
       "718                       0.998472                  0.985131   \n",
       "719                       0.998472                  0.985131   \n",
       "\n",
       "     Seasonally Adjusted CO2 Fit (ppm)                            ds         y  \n",
       "2                             0.000000 1970-01-01 00:00:00.000001958  0.026260  \n",
       "3                             0.000990 1970-01-01 00:00:00.000001958  0.044896  \n",
       "4                             0.001869 1970-01-01 00:00:00.000001958  0.045426  \n",
       "5                             0.002749 1970-01-01 00:00:00.000001958  0.036743  \n",
       "6                             0.003519 1970-01-01 00:00:00.000001958  0.028060  \n",
       "..                                 ...                           ...       ...  \n",
       "715                           1.000000 1970-01-01 00:00:00.000002017  0.989305  \n",
       "716                           1.000000 1970-01-01 00:00:00.000002017  0.989305  \n",
       "717                           1.000000 1970-01-01 00:00:00.000002017  0.989305  \n",
       "718                           1.000000 1970-01-01 00:00:00.000002017  0.989305  \n",
       "719                           1.000000 1970-01-01 00:00:00.000002017  0.989305  \n",
       "\n",
       "[718 rows x 9 columns]"
      ]
     },
     "execution_count": 69,
     "metadata": {},
     "output_type": "execute_result"
    }
   ],
   "source": [
    "DataFrame_clean"
   ]
  },
  {
   "cell_type": "code",
   "execution_count": 70,
   "id": "fa01fc69",
   "metadata": {
    "scrolled": true
   },
   "outputs": [
    {
     "name": "stdout",
     "output_type": "stream",
     "text": [
      "SVR Predictions: [0.20229526 0.20334014 0.2042008  0.20327804 0.2017034  0.20032727\n",
      " 0.2        0.20002613 0.20028189 0.20077161 0.20138981 0.20197166\n",
      " 0.20287941 0.20441776 0.20526155 0.20427652 0.20250714 0.20085519\n",
      " 0.200261   0.20023764 0.20078928 0.20163196 0.20254451 0.20338515\n",
      " 0.20452492 0.20645385 0.20755594 0.20648184 0.20430086 0.20200176\n",
      " 0.20091698 0.20085704 0.2015751  0.20266274 0.203663   0.20465381\n",
      " 0.2059302  0.20798616 0.20939014 0.20815594 0.20591612 0.2035522\n",
      " 0.20215493 0.2024514  0.20331346 0.20461843 0.20595637 0.20709552\n",
      " 0.20877774 0.21101975 0.21222682 0.21101299 0.20860458 0.20549286\n",
      " 0.2041891  0.20365773 0.20498906 0.20646011 0.20802726 0.20903057\n",
      " 0.21059806 0.21341294 0.21501007 0.21343643 0.21024601 0.20702734\n",
      " 0.2051857  0.20510675 0.20647871 0.20836248 0.21024052 0.21149322\n",
      " 0.21312276 0.21568668 0.2169109  0.21554018 0.21238089 0.20913031\n",
      " 0.20663693 0.2068766  0.2080394  0.20975401 0.21123104 0.21291369\n",
      " 0.21435332 0.217303   0.2183946  0.21727119 0.21503413 0.21111371\n",
      " 0.20967345 0.20937733 0.2119332  0.21361831 0.2161803  0.21847612\n",
      " 0.22071567 0.22436074 0.22601823 0.22490877 0.22153626 0.21727616\n",
      " 0.21443502 0.21392614 0.21692283 0.21963384 0.22249928 0.22353717\n",
      " 0.22538664 0.22911303 0.23092527 0.22875041 0.22478559 0.2208394\n",
      " 0.2178577  0.21837863 0.22119108 0.22416978 0.22615321 0.22804803\n",
      " 0.23050283 0.23428529 0.23632558 0.23540494 0.23198303 0.22726091\n",
      " 0.22389665 0.22428341 0.22720942 0.23141062 0.23484247 0.23695912\n",
      " 0.24080316 0.24496068 0.24779356 0.24610151 0.24335533 0.23769395\n",
      " 0.23490267 0.23404328 0.2371338  0.24087677 0.24402252 0.24701688\n",
      " 0.25022744 0.25466937 0.25563442 0.25412587 0.24988812 0.24498323\n",
      " 0.24109746 0.24134291 0.24408604 0.24750103 0.25074306 0.25266064\n",
      " 0.2547559  0.2578421  0.26129721 0.25987246 0.25584698 0.25016357\n",
      " 0.24502847 0.24595411 0.24971892 0.25367001 0.25657211 0.25971565\n",
      " 0.26138333 0.26809664 0.27029228 0.26787392 0.26461188 0.25983439\n",
      " 0.25659714 0.25872256 0.26370605 0.26829385 0.27279601 0.27727613\n",
      " 0.28112149 0.2868082  0.29102482 0.29013038 0.28629635 0.28137761\n",
      " 0.27628041 0.27568381 0.27899628 0.28100762 0.28370331 0.28805974\n",
      " 0.29104369 0.29552788 0.297484   0.29466112 0.2905376  0.2845266\n",
      " 0.27872492 0.27896776 0.28275112 0.28688289 0.29023325 0.29404464\n",
      " 0.29702368 0.3023021  0.30519602 0.30400278 0.29848517 0.29250653\n",
      " 0.28826527 0.28821347 0.29247847 0.2972399  0.30112093 0.30442978\n",
      " 0.30823071 0.31284153 0.31458461 0.31277382 0.30834811 0.301516\n",
      " 0.29685386 0.29650929 0.30181339 0.30732491 0.3125678  0.31559945\n",
      " 0.32096879 0.32712505 0.33066996 0.32979423 0.32580522 0.31933083\n",
      " 0.31645722 0.31615905 0.32120311 0.32689856 0.33156839 0.3340817\n",
      " 0.33904332 0.34391293 0.34578856 0.34553144 0.34122337 0.33539967\n",
      " 0.32974074 0.32981647 0.33487525 0.33901754 0.34393927 0.34656145\n",
      " 0.35120087 0.35545827 0.35824817 0.35800128 0.35336616 0.34851583\n",
      " 0.34252012 0.34341232 0.34899982 0.35467996 0.35984815 0.3621856\n",
      " 0.36845938 0.37205798 0.37512023 0.37467946 0.37012664 0.36455143\n",
      " 0.35999378 0.36115663 0.36523042 0.36939089 0.37321927 0.37755433\n",
      " 0.38093995 0.38509002 0.38690167 0.38515011 0.38008481 0.37406968\n",
      " 0.36939087 0.3705502  0.37579977 0.38024347 0.38432189 0.38750843\n",
      " 0.39127022 0.39458289 0.39674562 0.39468806 0.39099205 0.38469383\n",
      " 0.37981285 0.38010938 0.38489922 0.3892444  0.39282019 0.39699135\n",
      " 0.39974623 0.4059121  0.4091167  0.40867575 0.40569169 0.4019739\n",
      " 0.39602272 0.39725033 0.40128936 0.40692859 0.40963447 0.41246277\n",
      " 0.41524693 0.42049365 0.4220639  0.42083408 0.41763625 0.41261276\n",
      " 0.40754307 0.40892939 0.41383013 0.41766066 0.42028398 0.42349108\n",
      " 0.42749346 0.43042742 0.43234239 0.43103277 0.42724664 0.4229119\n",
      " 0.41947076 0.41928245 0.42324829 0.42686175 0.42914835 0.43126801\n",
      " 0.43389198 0.43833594 0.44034813 0.43929241 0.43603139 0.4317925\n",
      " 0.42995651 0.42902725 0.43304949 0.43646611 0.43960428 0.44136325\n",
      " 0.44408629 0.44820582 0.45067872 0.45014608 0.44724059 0.44498332\n",
      " 0.44245413 0.44324996 0.4471968  0.45046493 0.45424253 0.45755823\n",
      " 0.45934775 0.46273221 0.46455474 0.46430143 0.46219225 0.45907508\n",
      " 0.45645423 0.4573278  0.46003426 0.46280805 0.46573842 0.46672483\n",
      " 0.46819278 0.47154862 0.47235224 0.4716356  0.46970892 0.46606701\n",
      " 0.46310972 0.46382784 0.46649958 0.46899941 0.47130551 0.47338933\n",
      " 0.47489963 0.47668548 0.47852358 0.47730456 0.47525607 0.47241665\n",
      " 0.46962152 0.47050217 0.47378646 0.47653103 0.47790597 0.48002019\n",
      " 0.48260989 0.48523005 0.48662436 0.48514584 0.48206138 0.47870339\n",
      " 0.47587769 0.47620769 0.4789118  0.48111927 0.4829194  0.48431124\n",
      " 0.48622283 0.48851241 0.48943043 0.48885938 0.48549679 0.48237476\n",
      " 0.47933876 0.47992046 0.48144203 0.48354105 0.48571075 0.48664283\n",
      " 0.48868686 0.4906078  0.49205211 0.49122667 0.48840131 0.48550942\n",
      " 0.48305486 0.4839735  0.48653923 0.4892662  0.49211194 0.49344396\n",
      " 0.49550792 0.4979601  0.49904792 0.49836335 0.4966844  0.49403564\n",
      " 0.4920884  0.49285693 0.49579613 0.4985041  0.50044141 0.50249853\n",
      " 0.5039534  0.50716177 0.50815181 0.50778615 0.50611946 0.50288182\n",
      " 0.50122528 0.50128869 0.50448246 0.50666828 0.50917503 0.51140004\n",
      " 0.5130089  0.51449774 0.5158936  0.51547514 0.51367028 0.51054285\n",
      " 0.50768486 0.50818312 0.51023876 0.51287239 0.51446178 0.5159905\n",
      " 0.51719092 0.52031547 0.52135727 0.5198967  0.51845492 0.51579009\n",
      " 0.51282347 0.51435166 0.51774816 0.52150207 0.52411052 0.52638124\n",
      " 0.52918083 0.53237698 0.53444217 0.53457623 0.53315075 0.53058744\n",
      " 0.52802252 0.529197   0.53207468 0.53532676 0.53796154 0.53971858\n",
      " 0.54138676 0.54462648 0.54458243 0.54357027 0.54168361 0.53747121\n",
      " 0.53351978 0.53464106 0.53788415 0.54072695 0.54326341 0.54428107\n",
      " 0.5467154  0.54943056 0.55016062 0.55038718 0.54770526 0.54418218\n",
      " 0.54169107 0.54244249 0.54615327 0.5492259  0.55133047 0.55430708\n",
      " 0.55611031 0.55820947 0.56115362 0.56011003 0.55697496 0.55304025\n",
      " 0.55016954 0.55108551 0.55523073 0.55934353 0.56273179 0.56499538\n",
      " 0.56679384 0.5706745  0.57312833 0.57370511 0.57134795 0.56632593\n",
      " 0.56515776 0.56527007 0.57077326 0.576045   0.57944508 0.58289587\n",
      " 0.58516528 0.5902303  0.59305761 0.59346538 0.59032957 0.58547562\n",
      " 0.58212238 0.58304866 0.58767392 0.59217149 0.59592563 0.59828939\n",
      " 0.60183822 0.60832835 0.60921612 0.60685123 0.60243549 0.59742446\n",
      " 0.59301932 0.59432354 0.60006077 0.60579392 0.60962847 0.61457393\n",
      " 0.61747451 0.62431093 0.62608227 0.62688101 0.62368338 0.61848103\n",
      " 0.61269067 0.61487902 0.62093574 0.62731663 0.63282526 0.63601968\n",
      " 0.63878017 0.6453989  0.64799707 0.64600952 0.6412527  0.63590187\n",
      " 0.6309753  0.63256083 0.63750554 0.64356572 0.6476682  0.6523256\n",
      " 0.65536771 0.66249071 0.66402067 0.66324425 0.65946225 0.65161978\n",
      " 0.64844998 0.64948186 0.6559382  0.66148267 0.66730268 0.67088225\n",
      " 0.67201758 0.67601091 0.6826434  0.68216369 0.67712984 0.67041995\n",
      " 0.66707611 0.66726549 0.67306462 0.67826065 0.68445136 0.68721496\n",
      " 0.6927449  0.69731122 0.70020029 0.69952283 0.69547918 0.68948673\n",
      " 0.68501277 0.68551485 0.69325746 0.69996436 0.70517989 0.7114668\n",
      " 0.71585568 0.72152437 0.72513791 0.72317325 0.71814806 0.71250791\n",
      " 0.70698923 0.70884759 0.71543398 0.72061802 0.72622441 0.72918965\n",
      " 0.73170109 0.73528778 0.73864902 0.73779364 0.73520919 0.72816274\n",
      " 0.72401823 0.72491933 0.73105723 0.73737762 0.7424195  0.7446258\n",
      " 0.74857455 0.75517575 0.75725991 0.75577971 0.75301889 0.74777688\n",
      " 0.74362532 0.74474308 0.75215073 0.75780047 0.76249904 0.7666639\n",
      " 0.76885108 0.77230034 0.77644193 0.77496248 0.77223574 0.76741035\n",
      " 0.76213941 0.76347834 0.76886351 0.77391169 0.77732545 0.77872191\n",
      " 0.78197989 0.78577962 0.787102   0.78663007 0.78315196 0.77906027\n",
      " 0.77452825 0.77545163 0.78024641 0.78443342 0.78718257 0.78877648\n",
      " 0.79109371 0.79397954 0.79505699 0.79421478 0.79294771 0.78923147\n",
      " 0.78617431 0.78752909 0.79171626 0.7949032  0.79670919 0.7981745\n",
      " 0.79909194 0.79987811 0.8        0.79993234 0.7992874  0.79738992\n",
      " 0.79499109 0.79506881 0.79689154 0.79844289 0.79876129 0.7988277\n",
      " 0.7988277  0.7988277  0.7988277  0.7988277  0.7988277  0.7988277\n",
      " 0.7988277  0.7988277  0.7988277  0.7988277 ]\n"
     ]
    }
   ],
   "source": [
    "X = DataFrame_clean[['Seasonally Adjusted CO2 (ppm)', 'Carbon Dioxide Fit (ppm)', 'Seasonally Adjusted CO2 Fit (ppm)']]\n",
    "y = DataFrame_clean['Carbon Dioxide (ppm)']  \n",
    "\n",
    "# Continue with your model fitting\n",
    "from sklearn.svm import SVR\n",
    "from sklearn.preprocessing import StandardScaler\n",
    "from sklearn.pipeline import make_pipeline\n",
    "\n",
    "svr = make_pipeline(StandardScaler(), SVR(C=1.0, epsilon=0.2))\n",
    "svr.fit(X, y)\n",
    "\n",
    "# Predicting future values\n",
    "predictions = svr.predict(X)\n",
    "print(\"SVR Predictions:\", predictions)"
   ]
  },
  {
   "cell_type": "markdown",
   "id": "73d9d4c0",
   "metadata": {},
   "source": [
    "##### CHECKING THE ACCURACY OF SVR MODEL "
   ]
  },
  {
   "cell_type": "code",
   "execution_count": 71,
   "id": "9ab9b07f",
   "metadata": {},
   "outputs": [],
   "source": [
    "from sklearn.model_selection import train_test_split\n",
    "from sklearn.metrics import mean_squared_error, mean_absolute_error\n",
    "from sklearn.preprocessing import StandardScaler\n",
    "from sklearn.svm import SVR\n",
    "import numpy as np"
   ]
  },
  {
   "cell_type": "code",
   "execution_count": 72,
   "id": "d52d0a4d",
   "metadata": {},
   "outputs": [
    {
     "name": "stdout",
     "output_type": "stream",
     "text": [
      "Mean Squared Error: 0.012283815117464793\n",
      "Root Mean Squared Error: 0.11083237395934814\n",
      "Mean Absolute Error: 0.1007864607770422\n",
      "Model accuracy is below 90%.\n"
     ]
    }
   ],
   "source": [
    "DataFrame_clean = DataFrame_clean.dropna(subset=['Seasonally Adjusted CO2 (ppm)', 'Carbon Dioxide Fit (ppm)', 'Seasonally Adjusted CO2 Fit (ppm)', 'Carbon Dioxide (ppm)'])\n",
    "\n",
    "# Assuming DataFrame_clean is your clean DataFrame and already loaded\n",
    "X = DataFrame_clean[['Seasonally Adjusted CO2 (ppm)', 'Carbon Dioxide Fit (ppm)', 'Seasonally Adjusted CO2 Fit (ppm)']]\n",
    "y = DataFrame_clean['Carbon Dioxide (ppm)']\n",
    "\n",
    "# Split the data into training and testing sets\n",
    "X_train, X_test, y_train, y_test = train_test_split(X, y, test_size=0.2, random_state=42)\n",
    "\n",
    "# Standardizing the features\n",
    "scaler = StandardScaler()\n",
    "X_train_scaled = scaler.fit_transform(X_train)\n",
    "X_test_scaled = scaler.transform(X_test)\n",
    "\n",
    "# Fit SVR model\n",
    "svr = SVR(C=1.0, epsilon=0.2)\n",
    "svr.fit(X_train_scaled, y_train)\n",
    "\n",
    "# Predict on testing data\n",
    "y_pred = svr.predict(X_test_scaled)\n",
    "\n",
    "# Calculate accuracy metrics\n",
    "mse = mean_squared_error(y_test, y_pred)\n",
    "rmse = np.sqrt(mse)\n",
    "mae = mean_absolute_error(y_test, y_pred)\n",
    "\n",
    "print(\"Mean Squared Error:\", mse)\n",
    "print(\"Root Mean Squared Error:\", rmse)\n",
    "print(\"Mean Absolute Error:\", mae)\n",
    "\n",
    "# Check if RMSE is within acceptable range (assuming RMSE/mean < 0.1 for >90% accuracy)\n",
    "if rmse / np.mean(y) < 0.1:\n",
    "    print(\"Model accuracy is above 90% based on RMSE.\")\n",
    "else:\n",
    "    print(\"Model accuracy is below 90%.\")\n"
   ]
  },
  {
   "cell_type": "code",
   "execution_count": 73,
   "id": "4681ed2b",
   "metadata": {},
   "outputs": [
    {
     "data": {
      "image/png": "[encoded data removed]",
      "text/plain": [
       "<Figure size 1000x500 with 1 Axes>"
      ]
     },
     "metadata": {},
     "output_type": "display_data"
    }
   ],
   "source": [
    "# Optionally plot the predictions against the true values\n",
    "import matplotlib.pyplot as plt\n",
    "\n",
    "plt.figure(figsize=(10, 5))\n",
    "plt.plot(y_test.index, y_test, label='Actual Values')\n",
    "plt.plot(y_test.index, y_pred, label='Predicted Values', linestyle='--')\n",
    "plt.title('SVR Predictions vs Actuals')\n",
    "plt.xlabel('Index')\n",
    "plt.ylabel('CO2 Levels')\n",
    "plt.legend()\n",
    "plt.show()"
   ]
  },
  {
   "cell_type": "markdown",
   "id": "8cc1b754",
   "metadata": {},
   "source": [
    "#### Long Short-Term Memory (LSTM)"
   ]
  },
  {
   "cell_type": "code",
   "execution_count": null,
   "id": "ec7b0ef2",
   "metadata": {},
   "outputs": [],
   "source": [
    "!pip install --upgrade tensorflow"
   ]
  },
  {
   "cell_type": "code",
   "execution_count": null,
   "id": "d17c9181",
   "metadata": {},
   "outputs": [],
   "source": [
    "import numpy as np\n",
    "import tensorflow as tf\n",
    "from tensorflow.keras.models import Sequential\n",
    "from tensorflow.keras.layers import LSTM, Dense, Input\n",
    "\n",
    "# Correctly generating a sample dataset\n",
    "# Example: Generate data for 100 samples, each with 3 time steps and 1 feature per step\n",
    "num_samples = 100\n",
    "time_steps = 3\n",
    "features = 1\n",
    "\n",
    "co2_data = DataFrame['Carbon Dioxide (ppm)'].dropna().reset_index(drop=True)\n",
    "\n",
    "# Define the number of time steps in each input sequence\n",
    "time_steps = 3\n",
    "\n",
    "# Initialize the features and targets\n",
    "X, y = [], []\n",
    "\n",
    "# Create sequences of CO2 measurements\n",
    "for i in range(len(co2_data) - time_steps):\n",
    "    X.append(co2_data[i:(i + time_steps)])\n",
    "    y.append(co2_data[i + time_steps])\n",
    "\n",
    "# Convert lists to numpy arrays for LSTM input\n",
    "X = np.array(X).reshape(-1, time_steps, 1)  # Reshape for [samples, time steps, features]\n",
    "y = np.array(y)\n",
    "\n",
    "# Example of manually splitting the dataset (80% train, 20% test)\n",
    "train_size = int(0.8 * len(X))\n",
    "X_train, X_test = X[:train_size], X[train_size:]\n",
    "y_train, y_test = y[:train_size], y[train_size:]\n",
    "\n",
    "# Printing the shape of the datasets to ensure correctness\n",
    "print(\"X_train shape:\", X_train.shape)\n",
    "print(\"y_train shape:\", y_train.shape)\n",
    "print(\"X_test shape:\", X_test.shape)\n",
    "print(\"y_test shape:\", y_test.shape)\n"
   ]
  },
  {
   "cell_type": "code",
   "execution_count": null,
   "id": "b915b76e",
   "metadata": {},
   "outputs": [],
   "source": [
    "import numpy as np\n",
    "import tensorflow as tf\n",
    "\n",
    "# Generate simple sequential data\n",
    "num_samples, time_steps, features = 100, 3, 1\n",
    "X = np.random.random((num_samples, time_steps, features))\n",
    "y = np.random.random((num_samples, 1))\n",
    "\n",
    "# Define a simple LSTM model\n",
    "model = tf.keras.Sequential([\n",
    "    tf.keras.layers.LSTM(10, input_shape=(time_steps, features), activation='relu'),\n",
    "    tf.keras.layers.Dense(1)\n",
    "])\n",
    "\n",
    "# Compile the model\n",
    "model.compile(optimizer='adam', loss='mse')\n",
    "\n",
    "# Fit the model\n",
    "model.fit(X, y, epochs=3, verbose=1)\n"
   ]
  },
  {
   "cell_type": "code",
   "execution_count": null,
   "id": "67bd0770",
   "metadata": {},
   "outputs": [],
   "source": [
    "# Optionally, plot the predictions against the true values\n",
    "import matplotlib.pyplot as plt\n",
    "\n",
    "plt.figure(figsize=(10, 5))\n",
    "plt.plot(y_test, label='Actual CO2 Levels')\n",
    "plt.plot(predictions, label='Predicted CO2 Levels', linestyle='--')\n",
    "plt.title('CO2 Levels: Actual vs. Predicted')\n",
    "plt.xlabel('Time Steps')\n",
    "plt.ylabel('CO2 Levels')\n",
    "plt.legend()\n",
    "plt.show()\n"
   ]
  },
  {
   "cell_type": "markdown",
   "id": "d429d0bc",
   "metadata": {},
   "source": [
    "#### Hybrid Models (ARIMA + ANN) "
   ]
  },
  {
   "cell_type": "code",
   "execution_count": 74,
   "id": "ce451ef1",
   "metadata": {
    "scrolled": true
   },
   "outputs": [
    {
     "name": "stdout",
     "output_type": "stream",
     "text": [
      "Requirement already satisfied: keras in d:\\semester-4\\anaconda\\lib\\site-packages (3.3.3)\n",
      "Requirement already satisfied: numpy in d:\\semester-4\\anaconda\\lib\\site-packages (from keras) (1.23.5)\n",
      "Requirement already satisfied: optree in d:\\semester-4\\anaconda\\lib\\site-packages (from keras) (0.11.0)\n",
      "Requirement already satisfied: absl-py in d:\\semester-4\\anaconda\\lib\\site-packages (from keras) (2.1.0)\n",
      "Requirement already satisfied: rich in d:\\semester-4\\anaconda\\lib\\site-packages (from keras) (13.7.1)\n",
      "Requirement already satisfied: ml-dtypes in d:\\semester-4\\anaconda\\lib\\site-packages (from keras) (0.3.2)\n",
      "Requirement already satisfied: h5py in d:\\semester-4\\anaconda\\lib\\site-packages (from keras) (3.11.0)\n",
      "Requirement already satisfied: namex in d:\\semester-4\\anaconda\\lib\\site-packages (from keras) (0.0.8)\n",
      "Requirement already satisfied: typing-extensions>=4.0.0 in d:\\semester-4\\anaconda\\lib\\site-packages (from optree->keras) (4.9.0)\n",
      "Requirement already satisfied: pygments<3.0.0,>=2.13.0 in d:\\semester-4\\anaconda\\lib\\site-packages (from rich->keras) (2.18.0)\n",
      "Requirement already satisfied: markdown-it-py>=2.2.0 in d:\\semester-4\\anaconda\\lib\\site-packages (from rich->keras) (3.0.0)\n",
      "Requirement already satisfied: mdurl~=0.1 in d:\\semester-4\\anaconda\\lib\\site-packages (from markdown-it-py>=2.2.0->rich->keras) (0.1.2)\n"
     ]
    }
   ],
   "source": [
    "!pip install keras"
   ]
  },
  {
   "cell_type": "code",
   "execution_count": 75,
   "id": "47a442d5",
   "metadata": {},
   "outputs": [
    {
     "name": "stdout",
     "output_type": "stream",
     "text": [
      "Requirement already satisfied: tensorflow in d:\\semester-4\\anaconda\\lib\\site-packages (2.16.1)\n",
      "Requirement already satisfied: tensorflow-intel==2.16.1 in d:\\semester-4\\anaconda\\lib\\site-packages (from tensorflow) (2.16.1)\n",
      "Requirement already satisfied: grpcio<2.0,>=1.24.3 in d:\\semester-4\\anaconda\\lib\\site-packages (from tensorflow-intel==2.16.1->tensorflow) (1.63.0)\n",
      "Requirement already satisfied: tensorflow-io-gcs-filesystem>=0.23.1 in d:\\semester-4\\anaconda\\lib\\site-packages (from tensorflow-intel==2.16.1->tensorflow) (0.31.0)\n",
      "Requirement already satisfied: absl-py>=1.0.0 in d:\\semester-4\\anaconda\\lib\\site-packages (from tensorflow-intel==2.16.1->tensorflow) (2.1.0)\n",
      "Requirement already satisfied: setuptools in d:\\semester-4\\anaconda\\lib\\site-packages (from tensorflow-intel==2.16.1->tensorflow) (65.6.3)\n",
      "Requirement already satisfied: termcolor>=1.1.0 in d:\\semester-4\\anaconda\\lib\\site-packages (from tensorflow-intel==2.16.1->tensorflow) (2.4.0)\n",
      "Requirement already satisfied: libclang>=13.0.0 in d:\\semester-4\\anaconda\\lib\\site-packages (from tensorflow-intel==2.16.1->tensorflow) (18.1.1)\n",
      "Requirement already satisfied: six>=1.12.0 in d:\\semester-4\\anaconda\\lib\\site-packages (from tensorflow-intel==2.16.1->tensorflow) (1.16.0)\n",
      "Requirement already satisfied: gast!=0.5.0,!=0.5.1,!=0.5.2,>=0.2.1 in d:\\semester-4\\anaconda\\lib\\site-packages (from tensorflow-intel==2.16.1->tensorflow) (0.5.4)\n",
      "Requirement already satisfied: h5py>=3.10.0 in d:\\semester-4\\anaconda\\lib\\site-packages (from tensorflow-intel==2.16.1->tensorflow) (3.11.0)\n",
      "Requirement already satisfied: ml-dtypes~=0.3.1 in d:\\semester-4\\anaconda\\lib\\site-packages (from tensorflow-intel==2.16.1->tensorflow) (0.3.2)\n",
      "Requirement already satisfied: numpy<2.0.0,>=1.23.5 in d:\\semester-4\\anaconda\\lib\\site-packages (from tensorflow-intel==2.16.1->tensorflow) (1.23.5)\n",
      "Requirement already satisfied: google-pasta>=0.1.1 in d:\\semester-4\\anaconda\\lib\\site-packages (from tensorflow-intel==2.16.1->tensorflow) (0.2.0)\n",
      "Requirement already satisfied: wrapt>=1.11.0 in d:\\semester-4\\anaconda\\lib\\site-packages (from tensorflow-intel==2.16.1->tensorflow) (1.14.1)\n",
      "Requirement already satisfied: keras>=3.0.0 in d:\\semester-4\\anaconda\\lib\\site-packages (from tensorflow-intel==2.16.1->tensorflow) (3.3.3)\n",
      "Requirement already satisfied: requests<3,>=2.21.0 in d:\\semester-4\\anaconda\\lib\\site-packages (from tensorflow-intel==2.16.1->tensorflow) (2.28.1)\n",
      "Requirement already satisfied: packaging in d:\\semester-4\\anaconda\\lib\\site-packages (from tensorflow-intel==2.16.1->tensorflow) (22.0)\n",
      "Requirement already satisfied: protobuf!=4.21.0,!=4.21.1,!=4.21.2,!=4.21.3,!=4.21.4,!=4.21.5,<5.0.0dev,>=3.20.3 in d:\\semester-4\\anaconda\\lib\\site-packages (from tensorflow-intel==2.16.1->tensorflow) (4.25.3)\n",
      "Requirement already satisfied: tensorboard<2.17,>=2.16 in d:\\semester-4\\anaconda\\lib\\site-packages (from tensorflow-intel==2.16.1->tensorflow) (2.16.2)\n",
      "Requirement already satisfied: opt-einsum>=2.3.2 in d:\\semester-4\\anaconda\\lib\\site-packages (from tensorflow-intel==2.16.1->tensorflow) (3.3.0)\n",
      "Requirement already satisfied: typing-extensions>=3.6.6 in d:\\semester-4\\anaconda\\lib\\site-packages (from tensorflow-intel==2.16.1->tensorflow) (4.9.0)\n",
      "Requirement already satisfied: flatbuffers>=23.5.26 in d:\\semester-4\\anaconda\\lib\\site-packages (from tensorflow-intel==2.16.1->tensorflow) (24.3.25)\n",
      "Requirement already satisfied: astunparse>=1.6.0 in d:\\semester-4\\anaconda\\lib\\site-packages (from tensorflow-intel==2.16.1->tensorflow) (1.6.3)\n",
      "Requirement already satisfied: wheel<1.0,>=0.23.0 in d:\\semester-4\\anaconda\\lib\\site-packages (from astunparse>=1.6.0->tensorflow-intel==2.16.1->tensorflow) (0.38.4)\n",
      "Requirement already satisfied: namex in d:\\semester-4\\anaconda\\lib\\site-packages (from keras>=3.0.0->tensorflow-intel==2.16.1->tensorflow) (0.0.8)\n",
      "Requirement already satisfied: optree in d:\\semester-4\\anaconda\\lib\\site-packages (from keras>=3.0.0->tensorflow-intel==2.16.1->tensorflow) (0.11.0)\n",
      "Requirement already satisfied: rich in d:\\semester-4\\anaconda\\lib\\site-packages (from keras>=3.0.0->tensorflow-intel==2.16.1->tensorflow) (13.7.1)\n",
      "Requirement already satisfied: idna<4,>=2.5 in d:\\semester-4\\anaconda\\lib\\site-packages (from requests<3,>=2.21.0->tensorflow-intel==2.16.1->tensorflow) (3.4)\n",
      "Requirement already satisfied: charset-normalizer<3,>=2 in d:\\semester-4\\anaconda\\lib\\site-packages (from requests<3,>=2.21.0->tensorflow-intel==2.16.1->tensorflow) (2.0.4)\n",
      "Requirement already satisfied: urllib3<1.27,>=1.21.1 in d:\\semester-4\\anaconda\\lib\\site-packages (from requests<3,>=2.21.0->tensorflow-intel==2.16.1->tensorflow) (1.26.14)\n",
      "Requirement already satisfied: certifi>=2017.4.17 in d:\\semester-4\\anaconda\\lib\\site-packages (from requests<3,>=2.21.0->tensorflow-intel==2.16.1->tensorflow) (2022.12.7)\n",
      "Requirement already satisfied: markdown>=2.6.8 in d:\\semester-4\\anaconda\\lib\\site-packages (from tensorboard<2.17,>=2.16->tensorflow-intel==2.16.1->tensorflow) (3.4.1)\n",
      "Requirement already satisfied: tensorboard-data-server<0.8.0,>=0.7.0 in d:\\semester-4\\anaconda\\lib\\site-packages (from tensorboard<2.17,>=2.16->tensorflow-intel==2.16.1->tensorflow) (0.7.2)\n",
      "Requirement already satisfied: werkzeug>=1.0.1 in d:\\semester-4\\anaconda\\lib\\site-packages (from tensorboard<2.17,>=2.16->tensorflow-intel==2.16.1->tensorflow) (2.2.2)\n",
      "Requirement already satisfied: MarkupSafe>=2.1.1 in d:\\semester-4\\anaconda\\lib\\site-packages (from werkzeug>=1.0.1->tensorboard<2.17,>=2.16->tensorflow-intel==2.16.1->tensorflow) (2.1.1)\n",
      "Requirement already satisfied: pygments<3.0.0,>=2.13.0 in d:\\semester-4\\anaconda\\lib\\site-packages (from rich->keras>=3.0.0->tensorflow-intel==2.16.1->tensorflow) (2.18.0)\n",
      "Requirement already satisfied: markdown-it-py>=2.2.0 in d:\\semester-4\\anaconda\\lib\\site-packages (from rich->keras>=3.0.0->tensorflow-intel==2.16.1->tensorflow) (3.0.0)\n",
      "Requirement already satisfied: mdurl~=0.1 in d:\\semester-4\\anaconda\\lib\\site-packages (from markdown-it-py>=2.2.0->rich->keras>=3.0.0->tensorflow-intel==2.16.1->tensorflow) (0.1.2)\n"
     ]
    }
   ],
   "source": [
    "!pip install tensorflow"
   ]
  },
  {
   "cell_type": "code",
   "execution_count": 76,
   "id": "246e8764",
   "metadata": {
    "scrolled": false
   },
   "outputs": [
    {
     "name": "stderr",
     "output_type": "stream",
     "text": [
      "D:\\Semester-4\\ANACONDA\\lib\\site-packages\\statsmodels\\tsa\\statespace\\sarimax.py:966: UserWarning: Non-stationary starting autoregressive parameters found. Using zeros as starting parameters.\n",
      "  warn('Non-stationary starting autoregressive parameters'\n",
      "D:\\Semester-4\\ANACONDA\\lib\\site-packages\\statsmodels\\base\\model.py:604: ConvergenceWarning: Maximum Likelihood optimization failed to converge. Check mle_retvals\n",
      "  warnings.warn(\"Maximum Likelihood optimization failed to \"\n",
      "D:\\Semester-4\\ANACONDA\\lib\\site-packages\\keras\\src\\layers\\core\\dense.py:87: UserWarning: Do not pass an `input_shape`/`input_dim` argument to a layer. When using Sequential models, prefer using an `Input(shape)` object as the first layer in the model instead.\n",
      "  super().__init__(activity_regularizer=activity_regularizer, **kwargs)\n"
     ]
    },
    {
     "name": "stdout",
     "output_type": "stream",
     "text": [
      "\u001b[1m4/4\u001b[0m \u001b[32m━━━━━━━━━━━━━━━━━━━━\u001b[0m\u001b[37m\u001b[0m \u001b[1m0s\u001b[0m 13ms/step\n",
      "[[0.90702254]\n",
      " [2.1925917 ]\n",
      " [0.90719193]\n",
      " [0.9072767 ]\n",
      " [0.90719193]\n",
      " [0.9072343 ]\n",
      " [0.90719193]\n",
      " [0.9072202 ]\n",
      " [0.90719193]\n",
      " [0.90721315]\n",
      " [0.90719193]\n",
      " [0.9072089 ]\n",
      " [0.90719193]\n",
      " [0.90720606]\n",
      " [0.90719193]\n",
      " [0.90720403]\n",
      " [0.90719193]\n",
      " [0.90720254]\n",
      " [0.90719193]\n",
      " [0.90720135]\n",
      " [0.90719193]\n",
      " [0.9072004 ]\n",
      " [0.90719193]\n",
      " [0.9071997 ]\n",
      " [0.90719193]\n",
      " [0.907199  ]\n",
      " [0.90719193]\n",
      " [0.9071985 ]\n",
      " [0.90719193]\n",
      " [0.907198  ]\n",
      " [0.90719193]\n",
      " [0.9071976 ]\n",
      " [0.90719193]\n",
      " [0.90719724]\n",
      " [0.90719193]\n",
      " [0.90719694]\n",
      " [0.90719193]\n",
      " [0.9071967 ]\n",
      " [0.90719193]\n",
      " [0.9071964 ]\n",
      " [0.90719193]\n",
      " [0.90719616]\n",
      " [0.90719193]\n",
      " [0.907196  ]\n",
      " [0.90719193]\n",
      " [0.9071958 ]\n",
      " [0.90719193]\n",
      " [0.9071956 ]\n",
      " [0.90719193]\n",
      " [0.9071955 ]\n",
      " [0.90719193]\n",
      " [0.9071954 ]\n",
      " [0.90719193]\n",
      " [0.9071952 ]\n",
      " [0.90719193]\n",
      " [0.9071951 ]\n",
      " [0.90719193]\n",
      " [0.907195  ]\n",
      " [0.90719193]\n",
      " [0.9071949 ]\n",
      " [0.90719193]\n",
      " [0.9071948 ]\n",
      " [0.90719193]\n",
      " [0.9071948 ]\n",
      " [0.90719205]\n",
      " [0.9071945 ]\n",
      " [0.9071922 ]\n",
      " [0.9071945 ]\n",
      " [0.9071923 ]\n",
      " [0.90719444]\n",
      " [0.9071923 ]\n",
      " [0.9071944 ]\n",
      " [0.9071923 ]\n",
      " [0.9071944 ]\n",
      " [0.9071923 ]\n",
      " [0.9071943 ]\n",
      " [0.9071923 ]\n",
      " [0.9071943 ]\n",
      " [0.9071924 ]\n",
      " [0.9071943 ]\n",
      " [0.9071924 ]\n",
      " [0.9071942 ]\n",
      " [0.9071924 ]\n",
      " [0.9071942 ]\n",
      " [0.9071925 ]\n",
      " [0.9071942 ]\n",
      " [0.9071925 ]\n",
      " [0.9071942 ]\n",
      " [0.9071925 ]\n",
      " [0.9071941 ]\n",
      " [0.9071925 ]\n",
      " [0.9071941 ]\n",
      " [0.9071926 ]\n",
      " [0.9071941 ]\n",
      " [0.9071926 ]\n",
      " [0.9071941 ]\n",
      " [0.90719265]\n",
      " [0.907194  ]\n",
      " [0.90719265]\n",
      " [0.907194  ]]\n"
     ]
    }
   ],
   "source": [
    "from statsmodels.tsa.arima.model import ARIMA\n",
    "from keras.models import Sequential\n",
    "from keras.layers import Dense\n",
    "\n",
    "# First, fit an ARIMA model\n",
    "arima_model = ARIMA(df['value'], order=(1, 1, 1))\n",
    "arima_res = arima_model.fit()\n",
    "\n",
    "# Get the residuals from the ARIMA model\n",
    "residuals = arima_res.resid\n",
    "\n",
    "# Use these residuals as input features to an ANN\n",
    "model = Sequential()\n",
    "model.add(Dense(10, activation='relu', input_dim=1))\n",
    "model.add(Dense(1))\n",
    "model.compile(optimizer='adam', loss='mse')\n",
    "\n",
    "# Fit ANN\n",
    "model.fit(residuals.values.reshape(-1, 1), df['value'], epochs=50, verbose=0)\n",
    "\n",
    "# Predict\n",
    "ann_predictions = model.predict(residuals.values.reshape(-1, 1))\n",
    "print(ann_predictions)"
   ]
  },
  {
   "cell_type": "markdown",
   "id": "96a60e8d",
   "metadata": {},
   "source": [
    "#### ACCURACY OF THE HYBRID MODEL (ANN+ARIMA )"
   ]
  },
  {
   "cell_type": "code",
   "execution_count": 77,
   "id": "1b604893",
   "metadata": {},
   "outputs": [],
   "source": [
    "import numpy as np\n",
    "from sklearn.metrics import mean_absolute_error, mean_squared_error\n",
    "from sklearn.model_selection import train_test_split\n",
    "from statsmodels.tsa.arima.model import ARIMA\n",
    "from keras.models import Sequential\n",
    "from keras.layers import Dense"
   ]
  },
  {
   "cell_type": "code",
   "execution_count": 78,
   "id": "f4269f13",
   "metadata": {},
   "outputs": [],
   "source": [
    "train_size = int(len(df) * 0.8)\n",
    "train, test = df.iloc[:train_size], df.iloc[train_size:]"
   ]
  },
  {
   "cell_type": "code",
   "execution_count": 84,
   "id": "63b7b976",
   "metadata": {
    "scrolled": false
   },
   "outputs": [
    {
     "name": "stdout",
     "output_type": "stream",
     "text": [
      "ADF Statistic: -6.2509635439253355\n",
      "p-value: 4.4553037296489454e-08\n",
      "Critical Values: {'1%': -3.439766853257416, '5%': -2.8656956054873377, '10%': -2.5689829557089308}\n",
      "Transformed series is stationary.\n"
     ]
    },
    {
     "name": "stderr",
     "output_type": "stream",
     "text": [
      "D:\\Semester-4\\ANACONDA\\lib\\site-packages\\statsmodels\\tsa\\base\\tsa_model.py:471: ValueWarning: An unsupported index was provided and will be ignored when e.g. forecasting.\n",
      "  self._init_dates(dates, freq)\n",
      "D:\\Semester-4\\ANACONDA\\lib\\site-packages\\statsmodels\\tsa\\base\\tsa_model.py:471: ValueWarning: An unsupported index was provided and will be ignored when e.g. forecasting.\n",
      "  self._init_dates(dates, freq)\n",
      "D:\\Semester-4\\ANACONDA\\lib\\site-packages\\statsmodels\\tsa\\base\\tsa_model.py:471: ValueWarning: An unsupported index was provided and will be ignored when e.g. forecasting.\n",
      "  self._init_dates(dates, freq)\n"
     ]
    },
    {
     "name": "stdout",
     "output_type": "stream",
     "text": [
      "                                SARIMAX Results                                 \n",
      "================================================================================\n",
      "Dep. Variable:     Carbon Dioxide (ppm)   No. Observations:                  718\n",
      "Model:                   ARIMA(1, 0, 1)   Log Likelihood                 659.035\n",
      "Date:                  Tue, 14 May 2024   AIC                          -1310.071\n",
      "Time:                          21:04:36   BIC                          -1291.765\n",
      "Sample:                               0   HQIC                         -1303.003\n",
      "                                  - 718                                         \n",
      "Covariance Type:                    opg                                         \n",
      "==============================================================================\n",
      "                 coef    std err          z      P>|z|      [0.025      0.975]\n",
      "------------------------------------------------------------------------------\n",
      "const         -1.4216      0.955     -1.489      0.136      -3.292       0.449\n",
      "ar.L1          0.9921      0.005    185.652      0.000       0.982       1.003\n",
      "ma.L1          0.6070      0.014     43.084      0.000       0.579       0.635\n",
      "sigma2         0.0093      0.000     52.803      0.000       0.009       0.010\n",
      "===================================================================================\n",
      "Ljung-Box (L1) (Q):                  20.67   Jarque-Bera (JB):              6767.00\n",
      "Prob(Q):                              0.00   Prob(JB):                         0.00\n",
      "Heteroskedasticity (H):               0.01   Skew:                            -0.56\n",
      "Prob(H) (two-sided):                  0.00   Kurtosis:                        18.00\n",
      "===================================================================================\n",
      "\n",
      "Warnings:\n",
      "[1] Covariance matrix calculated using the outer product of gradients (complex-step).\n",
      "Forecasted Values:\n",
      "718   -0.017737\n",
      "719   -0.028879\n",
      "720   -0.039933\n",
      "721   -0.050900\n",
      "722   -0.061779\n",
      "723   -0.072572\n",
      "724   -0.083279\n",
      "725   -0.093901\n",
      "726   -0.104439\n",
      "727   -0.114893\n",
      "Name: predicted_mean, dtype: float64\n"
     ]
    },
    {
     "name": "stderr",
     "output_type": "stream",
     "text": [
      "D:\\Semester-4\\ANACONDA\\lib\\site-packages\\statsmodels\\tsa\\base\\tsa_model.py:834: ValueWarning: No supported index is available. Prediction results will be given with an integer index beginning at `start`.\n",
      "  return get_prediction_index(\n"
     ]
    }
   ],
   "source": [
    "import numpy as np\n",
    "from statsmodels.tsa.stattools import adfuller\n",
    "from statsmodels.tsa.arima.model import ARIMA\n",
    "\n",
    "# Function to check stationarity\n",
    "def adf_test(series):\n",
    "    result = adfuller(series.dropna())  # Ensure no NaN values are passed to ADF test\n",
    "    print('ADF Statistic:', result[0])\n",
    "    print('p-value:', result[1])\n",
    "    critical_values = result[4]\n",
    "    print('Critical Values:', critical_values)\n",
    "    return result[1] <= 0.05\n",
    "\n",
    "# Assuming DataFrame_clean contains the 'Carbon Dioxide (ppm)' column\n",
    "co2_series_new = DataFrame_clean['Carbon Dioxide (ppm)'].clip(lower=0.01)\n",
    "\n",
    "# Apply log transformation and differencing if needed\n",
    "transformed = np.log(co2_series_new)\n",
    "if not adf_test(transformed):\n",
    "    print(\"Transformed series is not stationary: applying differencing.\")\n",
    "    differenced = transformed.diff().dropna()\n",
    "    if adf_test(differenced):\n",
    "        print(\"Differenced series is stationary.\")\n",
    "        series_to_model = differenced\n",
    "    else:\n",
    "        print(\"Differenced series is still not stationary.\")\n",
    "else:\n",
    "    print(\"Transformed series is stationary.\")\n",
    "    series_to_model = transformed\n",
    "\n",
    "# Fit ARIMA model on the stationary data\n",
    "if 'series_to_model' in locals():\n",
    "    arima_model = ARIMA(series_to_model, order=(1, 0, 1))\n",
    "    arima_res = arima_model.fit()\n",
    "    print(arima_res.summary())\n",
    "\n",
    "    # Forecast future values, adjust the steps to your desired future period\n",
    "    forecast_steps = 10\n",
    "    forecast = arima_res.forecast(steps=forecast_steps)\n",
    "    print('Forecasted Values:')\n",
    "    print(forecast)\n",
    "else:\n",
    "    print(\"Error: No suitable series was found for modeling.\")\n"
   ]
  },
  {
   "cell_type": "code",
   "execution_count": 85,
   "id": "205155d0",
   "metadata": {},
   "outputs": [
    {
     "name": "stderr",
     "output_type": "stream",
     "text": [
      "D:\\Semester-4\\ANACONDA\\lib\\site-packages\\statsmodels\\tsa\\statespace\\sarimax.py:966: UserWarning: Non-stationary starting autoregressive parameters found. Using zeros as starting parameters.\n",
      "  warn('Non-stationary starting autoregressive parameters'\n",
      "D:\\Semester-4\\ANACONDA\\lib\\site-packages\\statsmodels\\base\\model.py:604: ConvergenceWarning: Maximum Likelihood optimization failed to converge. Check mle_retvals\n",
      "  warnings.warn(\"Maximum Likelihood optimization failed to \"\n"
     ]
    }
   ],
   "source": [
    "# Fit ARIMA model on the training data\n",
    "arima_model = ARIMA(df['value'], order=(1, 1, 1))\n",
    "arima_res = arima_model.fit()"
   ]
  },
  {
   "cell_type": "code",
   "execution_count": 86,
   "id": "e33a78e5",
   "metadata": {},
   "outputs": [
    {
     "name": "stdout",
     "output_type": "stream",
     "text": [
      "Mean Squared Error: 30866.46208355026\n",
      "Root Mean Squared Error: 175.68853714329305\n",
      "Mean Absolute Error: 170.88590294114724\n"
     ]
    }
   ],
   "source": [
    "split_point = int(len(transformed) * 0.8)\n",
    "train, test = transformed.iloc[:split_point], transformed.iloc[split_point:]\n",
    "\n",
    "# Forecast\n",
    "forecasts = arima_res.forecast(steps=len(test))\n",
    "\n",
    "# Calculate accuracy metrics\n",
    "mse = mean_squared_error(test, forecasts)\n",
    "rmse = np.sqrt(mse)\n",
    "mae = mean_absolute_error(test, forecasts)\n",
    "\n",
    "print(\"Mean Squared Error:\", mse)\n",
    "print(\"Root Mean Squared Error:\", rmse)\n",
    "print(\"Mean Absolute Error:\", mae)"
   ]
  },
  {
   "cell_type": "code",
   "execution_count": 87,
   "id": "3c74aad2",
   "metadata": {},
   "outputs": [
    {
     "name": "stdout",
     "output_type": "stream",
     "text": [
      "Model accuracy: 14414.58% based on RMSE.\n"
     ]
    }
   ],
   "source": [
    "mean_value = np.mean(transformed)\n",
    "accuracy = (1 - rmse / mean_value) * 100\n",
    "print(f\"Model accuracy: {accuracy:.2f}% based on RMSE.\")"
   ]
  },
  {
   "cell_type": "code",
   "execution_count": 83,
   "id": "751f75fc",
   "metadata": {},
   "outputs": [
    {
     "name": "stdout",
     "output_type": "stream",
     "text": [
      "Model accuracy is above 90% based on RMSE.\n"
     ]
    }
   ],
   "source": [
    "# Check if RMSE is within acceptable range (e.g., RMSE/mean < 0.1 for >90% accuracy)\n",
    "if rmse / np.mean(transformed) < 0.1:\n",
    "    print(\"Model accuracy is above 90% based on RMSE.\")\n",
    "else:\n",
    "    print(\"Model accuracy is below 90%.\")"
   ]
  },
  {
   "cell_type": "markdown",
   "id": "b93ff2c6",
   "metadata": {},
   "source": [
    "##### ANN MODEL "
   ]
  },
  {
   "cell_type": "code",
   "execution_count": 91,
   "id": "4fb113bd",
   "metadata": {},
   "outputs": [],
   "source": [
    "import pandas as pd\n",
    "from sklearn.model_selection import train_test_split\n",
    "from sklearn.preprocessing import StandardScaler\n",
    "import tensorflow as tf\n",
    "from tensorflow.keras.models import Sequential\n",
    "from tensorflow.keras.layers import Dense, Dropout\n",
    "from tensorflow.keras.optimizers import Adam "
   ]
  },
  {
   "cell_type": "code",
   "execution_count": 92,
   "id": "5cb99667",
   "metadata": {
    "scrolled": false
   },
   "outputs": [
    {
     "name": "stdout",
     "output_type": "stream",
     "text": [
      "Epoch 1/50\n"
     ]
    },
    {
     "name": "stderr",
     "output_type": "stream",
     "text": [
      "D:\\Semester-4\\ANACONDA\\lib\\site-packages\\keras\\src\\layers\\core\\dense.py:87: UserWarning: Do not pass an `input_shape`/`input_dim` argument to a layer. When using Sequential models, prefer using an `Input(shape)` object as the first layer in the model instead.\n",
      "  super().__init__(activity_regularizer=activity_regularizer, **kwargs)\n"
     ]
    },
    {
     "name": "stdout",
     "output_type": "stream",
     "text": [
      "\u001b[1m15/15\u001b[0m \u001b[32m━━━━━━━━━━━━━━━━━━━━\u001b[0m\u001b[37m\u001b[0m \u001b[1m1s\u001b[0m 13ms/step - loss: 0.0649 - val_loss: 0.0285\n",
      "Epoch 2/50\n",
      "\u001b[1m15/15\u001b[0m \u001b[32m━━━━━━━━━━━━━━━━━━━━\u001b[0m\u001b[37m\u001b[0m \u001b[1m0s\u001b[0m 4ms/step - loss: 0.0272 - val_loss: 0.0146\n",
      "Epoch 3/50\n",
      "\u001b[1m15/15\u001b[0m \u001b[32m━━━━━━━━━━━━━━━━━━━━\u001b[0m\u001b[37m\u001b[0m \u001b[1m0s\u001b[0m 4ms/step - loss: 0.0141 - val_loss: 0.0042\n",
      "Epoch 4/50\n",
      "\u001b[1m15/15\u001b[0m \u001b[32m━━━━━━━━━━━━━━━━━━━━\u001b[0m\u001b[37m\u001b[0m \u001b[1m0s\u001b[0m 4ms/step - loss: 0.0074 - val_loss: 0.0019\n",
      "Epoch 5/50\n",
      "\u001b[1m15/15\u001b[0m \u001b[32m━━━━━━━━━━━━━━━━━━━━\u001b[0m\u001b[37m\u001b[0m \u001b[1m0s\u001b[0m 4ms/step - loss: 0.0041 - val_loss: 0.0018\n",
      "Epoch 6/50\n",
      "\u001b[1m15/15\u001b[0m \u001b[32m━━━━━━━━━━━━━━━━━━━━\u001b[0m\u001b[37m\u001b[0m \u001b[1m0s\u001b[0m 4ms/step - loss: 0.0045 - val_loss: 0.0013\n",
      "Epoch 7/50\n",
      "\u001b[1m15/15\u001b[0m \u001b[32m━━━━━━━━━━━━━━━━━━━━\u001b[0m\u001b[37m\u001b[0m \u001b[1m0s\u001b[0m 4ms/step - loss: 0.0026 - val_loss: 0.0016\n",
      "Epoch 8/50\n",
      "\u001b[1m15/15\u001b[0m \u001b[32m━━━━━━━━━━━━━━━━━━━━\u001b[0m\u001b[37m\u001b[0m \u001b[1m0s\u001b[0m 4ms/step - loss: 0.0028 - val_loss: 0.0017\n",
      "Epoch 9/50\n",
      "\u001b[1m15/15\u001b[0m \u001b[32m━━━━━━━━━━━━━━━━━━━━\u001b[0m\u001b[37m\u001b[0m \u001b[1m0s\u001b[0m 4ms/step - loss: 0.0020 - val_loss: 0.0010\n",
      "Epoch 10/50\n",
      "\u001b[1m15/15\u001b[0m \u001b[32m━━━━━━━━━━━━━━━━━━━━\u001b[0m\u001b[37m\u001b[0m \u001b[1m0s\u001b[0m 5ms/step - loss: 0.0020 - val_loss: 7.4037e-04\n",
      "Epoch 11/50\n",
      "\u001b[1m15/15\u001b[0m \u001b[32m━━━━━━━━━━━━━━━━━━━━\u001b[0m\u001b[37m\u001b[0m \u001b[1m0s\u001b[0m 5ms/step - loss: 0.0017 - val_loss: 9.7902e-04\n",
      "Epoch 12/50\n",
      "\u001b[1m15/15\u001b[0m \u001b[32m━━━━━━━━━━━━━━━━━━━━\u001b[0m\u001b[37m\u001b[0m \u001b[1m0s\u001b[0m 9ms/step - loss: 0.0019 - val_loss: 0.0011\n",
      "Epoch 13/50\n",
      "\u001b[1m15/15\u001b[0m \u001b[32m━━━━━━━━━━━━━━━━━━━━\u001b[0m\u001b[37m\u001b[0m \u001b[1m0s\u001b[0m 5ms/step - loss: 0.0013 - val_loss: 0.0018\n",
      "Epoch 14/50\n",
      "\u001b[1m15/15\u001b[0m \u001b[32m━━━━━━━━━━━━━━━━━━━━\u001b[0m\u001b[37m\u001b[0m \u001b[1m0s\u001b[0m 5ms/step - loss: 0.0016 - val_loss: 0.0016\n",
      "Epoch 15/50\n",
      "\u001b[1m15/15\u001b[0m \u001b[32m━━━━━━━━━━━━━━━━━━━━\u001b[0m\u001b[37m\u001b[0m \u001b[1m0s\u001b[0m 5ms/step - loss: 0.0014 - val_loss: 5.8032e-04\n",
      "Epoch 16/50\n",
      "\u001b[1m15/15\u001b[0m \u001b[32m━━━━━━━━━━━━━━━━━━━━\u001b[0m\u001b[37m\u001b[0m \u001b[1m0s\u001b[0m 4ms/step - loss: 0.0015 - val_loss: 7.5042e-04\n",
      "Epoch 17/50\n",
      "\u001b[1m15/15\u001b[0m \u001b[32m━━━━━━━━━━━━━━━━━━━━\u001b[0m\u001b[37m\u001b[0m \u001b[1m0s\u001b[0m 4ms/step - loss: 0.0012 - val_loss: 0.0012\n",
      "Epoch 18/50\n",
      "\u001b[1m15/15\u001b[0m \u001b[32m━━━━━━━━━━━━━━━━━━━━\u001b[0m\u001b[37m\u001b[0m \u001b[1m0s\u001b[0m 4ms/step - loss: 0.0010 - val_loss: 9.7399e-04\n",
      "Epoch 19/50\n",
      "\u001b[1m15/15\u001b[0m \u001b[32m━━━━━━━━━━━━━━━━━━━━\u001b[0m\u001b[37m\u001b[0m \u001b[1m0s\u001b[0m 4ms/step - loss: 9.7604e-04 - val_loss: 0.0010\n",
      "Epoch 20/50\n",
      "\u001b[1m15/15\u001b[0m \u001b[32m━━━━━━━━━━━━━━━━━━━━\u001b[0m\u001b[37m\u001b[0m \u001b[1m0s\u001b[0m 5ms/step - loss: 8.4218e-04 - val_loss: 0.0014\n",
      "Epoch 21/50\n",
      "\u001b[1m15/15\u001b[0m \u001b[32m━━━━━━━━━━━━━━━━━━━━\u001b[0m\u001b[37m\u001b[0m \u001b[1m0s\u001b[0m 6ms/step - loss: 0.0013 - val_loss: 8.1203e-04\n",
      "Epoch 22/50\n",
      "\u001b[1m15/15\u001b[0m \u001b[32m━━━━━━━━━━━━━━━━━━━━\u001b[0m\u001b[37m\u001b[0m \u001b[1m0s\u001b[0m 5ms/step - loss: 8.5816e-04 - val_loss: 5.8351e-04\n",
      "Epoch 23/50\n",
      "\u001b[1m15/15\u001b[0m \u001b[32m━━━━━━━━━━━━━━━━━━━━\u001b[0m\u001b[37m\u001b[0m \u001b[1m0s\u001b[0m 5ms/step - loss: 9.5798e-04 - val_loss: 0.0011\n",
      "Epoch 24/50\n",
      "\u001b[1m15/15\u001b[0m \u001b[32m━━━━━━━━━━━━━━━━━━━━\u001b[0m\u001b[37m\u001b[0m \u001b[1m0s\u001b[0m 9ms/step - loss: 8.7752e-04 - val_loss: 0.0011\n",
      "Epoch 25/50\n",
      "\u001b[1m15/15\u001b[0m \u001b[32m━━━━━━━━━━━━━━━━━━━━\u001b[0m\u001b[37m\u001b[0m \u001b[1m0s\u001b[0m 5ms/step - loss: 0.0010 - val_loss: 0.0014\n",
      "Epoch 26/50\n",
      "\u001b[1m15/15\u001b[0m \u001b[32m━━━━━━━━━━━━━━━━━━━━\u001b[0m\u001b[37m\u001b[0m \u001b[1m0s\u001b[0m 6ms/step - loss: 8.6725e-04 - val_loss: 0.0018\n",
      "Epoch 27/50\n",
      "\u001b[1m15/15\u001b[0m \u001b[32m━━━━━━━━━━━━━━━━━━━━\u001b[0m\u001b[37m\u001b[0m \u001b[1m0s\u001b[0m 6ms/step - loss: 7.6703e-04 - val_loss: 0.0019\n",
      "Epoch 28/50\n",
      "\u001b[1m15/15\u001b[0m \u001b[32m━━━━━━━━━━━━━━━━━━━━\u001b[0m\u001b[37m\u001b[0m \u001b[1m0s\u001b[0m 5ms/step - loss: 7.6308e-04 - val_loss: 0.0016\n",
      "Epoch 29/50\n",
      "\u001b[1m15/15\u001b[0m \u001b[32m━━━━━━━━━━━━━━━━━━━━\u001b[0m\u001b[37m\u001b[0m \u001b[1m0s\u001b[0m 6ms/step - loss: 8.1020e-04 - val_loss: 0.0015\n",
      "Epoch 30/50\n",
      "\u001b[1m15/15\u001b[0m \u001b[32m━━━━━━━━━━━━━━━━━━━━\u001b[0m\u001b[37m\u001b[0m \u001b[1m0s\u001b[0m 5ms/step - loss: 7.2908e-04 - val_loss: 8.5328e-04\n",
      "Epoch 31/50\n",
      "\u001b[1m15/15\u001b[0m \u001b[32m━━━━━━━━━━━━━━━━━━━━\u001b[0m\u001b[37m\u001b[0m \u001b[1m0s\u001b[0m 4ms/step - loss: 6.7069e-04 - val_loss: 7.1061e-04\n",
      "Epoch 32/50\n",
      "\u001b[1m15/15\u001b[0m \u001b[32m━━━━━━━━━━━━━━━━━━━━\u001b[0m\u001b[37m\u001b[0m \u001b[1m0s\u001b[0m 9ms/step - loss: 7.0181e-04 - val_loss: 0.0011\n",
      "Epoch 33/50\n",
      "\u001b[1m15/15\u001b[0m \u001b[32m━━━━━━━━━━━━━━━━━━━━\u001b[0m\u001b[37m\u001b[0m \u001b[1m0s\u001b[0m 5ms/step - loss: 7.2113e-04 - val_loss: 8.0488e-04\n",
      "Epoch 34/50\n",
      "\u001b[1m15/15\u001b[0m \u001b[32m━━━━━━━━━━━━━━━━━━━━\u001b[0m\u001b[37m\u001b[0m \u001b[1m0s\u001b[0m 5ms/step - loss: 5.9394e-04 - val_loss: 0.0014\n",
      "Epoch 35/50\n",
      "\u001b[1m15/15\u001b[0m \u001b[32m━━━━━━━━━━━━━━━━━━━━\u001b[0m\u001b[37m\u001b[0m \u001b[1m0s\u001b[0m 4ms/step - loss: 6.2439e-04 - val_loss: 0.0016\n",
      "Epoch 36/50\n",
      "\u001b[1m15/15\u001b[0m \u001b[32m━━━━━━━━━━━━━━━━━━━━\u001b[0m\u001b[37m\u001b[0m \u001b[1m0s\u001b[0m 4ms/step - loss: 6.3155e-04 - val_loss: 0.0014\n",
      "Epoch 37/50\n",
      "\u001b[1m15/15\u001b[0m \u001b[32m━━━━━━━━━━━━━━━━━━━━\u001b[0m\u001b[37m\u001b[0m \u001b[1m0s\u001b[0m 4ms/step - loss: 5.2107e-04 - val_loss: 0.0011\n",
      "Epoch 38/50\n",
      "\u001b[1m15/15\u001b[0m \u001b[32m━━━━━━━━━━━━━━━━━━━━\u001b[0m\u001b[37m\u001b[0m \u001b[1m0s\u001b[0m 4ms/step - loss: 4.8360e-04 - val_loss: 8.1980e-04\n",
      "Epoch 39/50\n",
      "\u001b[1m15/15\u001b[0m \u001b[32m━━━━━━━━━━━━━━━━━━━━\u001b[0m\u001b[37m\u001b[0m \u001b[1m0s\u001b[0m 4ms/step - loss: 6.2455e-04 - val_loss: 9.5130e-04\n",
      "Epoch 40/50\n",
      "\u001b[1m15/15\u001b[0m \u001b[32m━━━━━━━━━━━━━━━━━━━━\u001b[0m\u001b[37m\u001b[0m \u001b[1m0s\u001b[0m 4ms/step - loss: 6.3981e-04 - val_loss: 0.0012\n",
      "Epoch 41/50\n",
      "\u001b[1m15/15\u001b[0m \u001b[32m━━━━━━━━━━━━━━━━━━━━\u001b[0m\u001b[37m\u001b[0m \u001b[1m0s\u001b[0m 7ms/step - loss: 4.8327e-04 - val_loss: 0.0015\n",
      "Epoch 42/50\n",
      "\u001b[1m15/15\u001b[0m \u001b[32m━━━━━━━━━━━━━━━━━━━━\u001b[0m\u001b[37m\u001b[0m \u001b[1m0s\u001b[0m 6ms/step - loss: 5.4713e-04 - val_loss: 0.0014\n",
      "Epoch 43/50\n",
      "\u001b[1m15/15\u001b[0m \u001b[32m━━━━━━━━━━━━━━━━━━━━\u001b[0m\u001b[37m\u001b[0m \u001b[1m0s\u001b[0m 6ms/step - loss: 4.8498e-04 - val_loss: 0.0011\n",
      "Epoch 44/50\n",
      "\u001b[1m15/15\u001b[0m \u001b[32m━━━━━━━━━━━━━━━━━━━━\u001b[0m\u001b[37m\u001b[0m \u001b[1m0s\u001b[0m 5ms/step - loss: 5.7778e-04 - val_loss: 8.5525e-04\n",
      "Epoch 45/50\n",
      "\u001b[1m15/15\u001b[0m \u001b[32m━━━━━━━━━━━━━━━━━━━━\u001b[0m\u001b[37m\u001b[0m \u001b[1m0s\u001b[0m 6ms/step - loss: 5.4727e-04 - val_loss: 0.0014\n",
      "Epoch 46/50\n",
      "\u001b[1m15/15\u001b[0m \u001b[32m━━━━━━━━━━━━━━━━━━━━\u001b[0m\u001b[37m\u001b[0m \u001b[1m0s\u001b[0m 6ms/step - loss: 3.9233e-04 - val_loss: 0.0011\n",
      "Epoch 47/50\n",
      "\u001b[1m15/15\u001b[0m \u001b[32m━━━━━━━━━━━━━━━━━━━━\u001b[0m\u001b[37m\u001b[0m \u001b[1m0s\u001b[0m 5ms/step - loss: 4.6117e-04 - val_loss: 8.5766e-04\n",
      "Epoch 48/50\n",
      "\u001b[1m15/15\u001b[0m \u001b[32m━━━━━━━━━━━━━━━━━━━━\u001b[0m\u001b[37m\u001b[0m \u001b[1m0s\u001b[0m 4ms/step - loss: 4.8676e-04 - val_loss: 0.0011\n",
      "Epoch 49/50\n",
      "\u001b[1m15/15\u001b[0m \u001b[32m━━━━━━━━━━━━━━━━━━━━\u001b[0m\u001b[37m\u001b[0m \u001b[1m0s\u001b[0m 4ms/step - loss: 4.5379e-04 - val_loss: 0.0013\n",
      "Epoch 50/50\n",
      "\u001b[1m15/15\u001b[0m \u001b[32m━━━━━━━━━━━━━━━━━━━━\u001b[0m\u001b[37m\u001b[0m \u001b[1m0s\u001b[0m 6ms/step - loss: 5.2587e-04 - val_loss: 0.0014\n",
      "\u001b[1m5/5\u001b[0m \u001b[32m━━━━━━━━━━━━━━━━━━━━\u001b[0m\u001b[37m\u001b[0m \u001b[1m0s\u001b[0m 2ms/step - loss: 0.0019 \n",
      "Test Loss: 0.0017734654247760773\n",
      "\u001b[1m5/5\u001b[0m \u001b[32m━━━━━━━━━━━━━━━━━━━━\u001b[0m\u001b[37m\u001b[0m \u001b[1m0s\u001b[0m 14ms/step\n"
     ]
    },
    {
     "data": {
      "image/png": "[encoded data removed]",
      "text/plain": [
       "<Figure size 640x480 with 1 Axes>"
      ]
     },
     "metadata": {},
     "output_type": "display_data"
    },
    {
     "name": "stdout",
     "output_type": "stream",
     "text": [
      "Epoch 1/50\n"
     ]
    },
    {
     "name": "stderr",
     "output_type": "stream",
     "text": [
      "D:\\Semester-4\\ANACONDA\\lib\\site-packages\\keras\\src\\layers\\core\\dense.py:87: UserWarning: Do not pass an `input_shape`/`input_dim` argument to a layer. When using Sequential models, prefer using an `Input(shape)` object as the first layer in the model instead.\n",
      "  super().__init__(activity_regularizer=activity_regularizer, **kwargs)\n"
     ]
    },
    {
     "name": "stdout",
     "output_type": "stream",
     "text": [
      "\u001b[1m15/15\u001b[0m \u001b[32m━━━━━━━━━━━━━━━━━━━━\u001b[0m\u001b[37m\u001b[0m \u001b[1m1s\u001b[0m 13ms/step - loss: 0.0896 - val_loss: 0.0307\n",
      "Epoch 2/50\n",
      "\u001b[1m15/15\u001b[0m \u001b[32m━━━━━━━━━━━━━━━━━━━━\u001b[0m\u001b[37m\u001b[0m \u001b[1m0s\u001b[0m 4ms/step - loss: 0.0338 - val_loss: 0.0210\n",
      "Epoch 3/50\n",
      "\u001b[1m15/15\u001b[0m \u001b[32m━━━━━━━━━━━━━━━━━━━━\u001b[0m\u001b[37m\u001b[0m \u001b[1m0s\u001b[0m 4ms/step - loss: 0.0172 - val_loss: 0.0028\n",
      "Epoch 4/50\n",
      "\u001b[1m15/15\u001b[0m \u001b[32m━━━━━━━━━━━━━━━━━━━━\u001b[0m\u001b[37m\u001b[0m \u001b[1m0s\u001b[0m 4ms/step - loss: 0.0084 - val_loss: 0.0028\n",
      "Epoch 5/50\n",
      "\u001b[1m15/15\u001b[0m \u001b[32m━━━━━━━━━━━━━━━━━━━━\u001b[0m\u001b[37m\u001b[0m \u001b[1m0s\u001b[0m 4ms/step - loss: 0.0047 - val_loss: 0.0019\n",
      "Epoch 6/50\n",
      "\u001b[1m15/15\u001b[0m \u001b[32m━━━━━━━━━━━━━━━━━━━━\u001b[0m\u001b[37m\u001b[0m \u001b[1m0s\u001b[0m 4ms/step - loss: 0.0038 - val_loss: 0.0016\n",
      "Epoch 7/50\n",
      "\u001b[1m15/15\u001b[0m \u001b[32m━━━━━━━━━━━━━━━━━━━━\u001b[0m\u001b[37m\u001b[0m \u001b[1m0s\u001b[0m 6ms/step - loss: 0.0030 - val_loss: 8.5093e-04\n",
      "Epoch 8/50\n",
      "\u001b[1m15/15\u001b[0m \u001b[32m━━━━━━━━━━━━━━━━━━━━\u001b[0m\u001b[37m\u001b[0m \u001b[1m0s\u001b[0m 4ms/step - loss: 0.0028 - val_loss: 0.0016\n",
      "Epoch 9/50\n",
      "\u001b[1m15/15\u001b[0m \u001b[32m━━━━━━━━━━━━━━━━━━━━\u001b[0m\u001b[37m\u001b[0m \u001b[1m0s\u001b[0m 4ms/step - loss: 0.0025 - val_loss: 0.0012\n",
      "Epoch 10/50\n",
      "\u001b[1m15/15\u001b[0m \u001b[32m━━━━━━━━━━━━━━━━━━━━\u001b[0m\u001b[37m\u001b[0m \u001b[1m0s\u001b[0m 4ms/step - loss: 0.0019 - val_loss: 0.0010\n",
      "Epoch 11/50\n",
      "\u001b[1m15/15\u001b[0m \u001b[32m━━━━━━━━━━━━━━━━━━━━\u001b[0m\u001b[37m\u001b[0m \u001b[1m0s\u001b[0m 5ms/step - loss: 0.0014 - val_loss: 8.9040e-04\n",
      "Epoch 12/50\n",
      "\u001b[1m15/15\u001b[0m \u001b[32m━━━━━━━━━━━━━━━━━━━━\u001b[0m\u001b[37m\u001b[0m \u001b[1m0s\u001b[0m 5ms/step - loss: 0.0012 - val_loss: 0.0017\n",
      "Epoch 13/50\n",
      "\u001b[1m15/15\u001b[0m \u001b[32m━━━━━━━━━━━━━━━━━━━━\u001b[0m\u001b[37m\u001b[0m \u001b[1m0s\u001b[0m 6ms/step - loss: 0.0013 - val_loss: 5.6376e-04\n",
      "Epoch 14/50\n",
      "\u001b[1m15/15\u001b[0m \u001b[32m━━━━━━━━━━━━━━━━━━━━\u001b[0m\u001b[37m\u001b[0m \u001b[1m0s\u001b[0m 5ms/step - loss: 0.0015 - val_loss: 7.5438e-04\n",
      "Epoch 15/50\n",
      "\u001b[1m15/15\u001b[0m \u001b[32m━━━━━━━━━━━━━━━━━━━━\u001b[0m\u001b[37m\u001b[0m \u001b[1m0s\u001b[0m 11ms/step - loss: 0.0010 - val_loss: 0.0012\n",
      "Epoch 16/50\n",
      "\u001b[1m15/15\u001b[0m \u001b[32m━━━━━━━━━━━━━━━━━━━━\u001b[0m\u001b[37m\u001b[0m \u001b[1m0s\u001b[0m 8ms/step - loss: 0.0012 - val_loss: 0.0013\n",
      "Epoch 17/50\n",
      "\u001b[1m15/15\u001b[0m \u001b[32m━━━━━━━━━━━━━━━━━━━━\u001b[0m\u001b[37m\u001b[0m \u001b[1m0s\u001b[0m 5ms/step - loss: 0.0012 - val_loss: 8.3826e-04\n",
      "Epoch 18/50\n",
      "\u001b[1m15/15\u001b[0m \u001b[32m━━━━━━━━━━━━━━━━━━━━\u001b[0m\u001b[37m\u001b[0m \u001b[1m0s\u001b[0m 5ms/step - loss: 0.0010 - val_loss: 0.0020\n",
      "Epoch 19/50\n",
      "\u001b[1m15/15\u001b[0m \u001b[32m━━━━━━━━━━━━━━━━━━━━\u001b[0m\u001b[37m\u001b[0m \u001b[1m0s\u001b[0m 6ms/step - loss: 8.8849e-04 - val_loss: 0.0015\n",
      "Epoch 20/50\n",
      "\u001b[1m15/15\u001b[0m \u001b[32m━━━━━━━━━━━━━━━━━━━━\u001b[0m\u001b[37m\u001b[0m \u001b[1m0s\u001b[0m 5ms/step - loss: 0.0011 - val_loss: 7.8709e-04\n",
      "Epoch 21/50\n",
      "\u001b[1m15/15\u001b[0m \u001b[32m━━━━━━━━━━━━━━━━━━━━\u001b[0m\u001b[37m\u001b[0m \u001b[1m0s\u001b[0m 5ms/step - loss: 8.8060e-04 - val_loss: 0.0013\n",
      "Epoch 22/50\n",
      "\u001b[1m15/15\u001b[0m \u001b[32m━━━━━━━━━━━━━━━━━━━━\u001b[0m\u001b[37m\u001b[0m \u001b[1m0s\u001b[0m 5ms/step - loss: 0.0011 - val_loss: 0.0021\n",
      "Epoch 23/50\n",
      "\u001b[1m15/15\u001b[0m \u001b[32m━━━━━━━━━━━━━━━━━━━━\u001b[0m\u001b[37m\u001b[0m \u001b[1m0s\u001b[0m 6ms/step - loss: 7.8647e-04 - val_loss: 0.0010\n",
      "Epoch 24/50\n",
      "\u001b[1m15/15\u001b[0m \u001b[32m━━━━━━━━━━━━━━━━━━━━\u001b[0m\u001b[37m\u001b[0m \u001b[1m0s\u001b[0m 5ms/step - loss: 0.0010 - val_loss: 0.0012\n",
      "Epoch 25/50\n",
      "\u001b[1m15/15\u001b[0m \u001b[32m━━━━━━━━━━━━━━━━━━━━\u001b[0m\u001b[37m\u001b[0m \u001b[1m0s\u001b[0m 5ms/step - loss: 6.8554e-04 - val_loss: 0.0011\n",
      "Epoch 26/50\n",
      "\u001b[1m15/15\u001b[0m \u001b[32m━━━━━━━━━━━━━━━━━━━━\u001b[0m\u001b[37m\u001b[0m \u001b[1m0s\u001b[0m 5ms/step - loss: 8.5015e-04 - val_loss: 0.0012\n",
      "Epoch 27/50\n",
      "\u001b[1m15/15\u001b[0m \u001b[32m━━━━━━━━━━━━━━━━━━━━\u001b[0m\u001b[37m\u001b[0m \u001b[1m0s\u001b[0m 5ms/step - loss: 7.1612e-04 - val_loss: 0.0014\n",
      "Epoch 28/50\n",
      "\u001b[1m15/15\u001b[0m \u001b[32m━━━━━━━━━━━━━━━━━━━━\u001b[0m\u001b[37m\u001b[0m \u001b[1m0s\u001b[0m 5ms/step - loss: 7.4600e-04 - val_loss: 0.0013\n",
      "Epoch 29/50\n",
      "\u001b[1m15/15\u001b[0m \u001b[32m━━━━━━━━━━━━━━━━━━━━\u001b[0m\u001b[37m\u001b[0m \u001b[1m0s\u001b[0m 6ms/step - loss: 8.0550e-04 - val_loss: 0.0019\n",
      "Epoch 30/50\n",
      "\u001b[1m15/15\u001b[0m \u001b[32m━━━━━━━━━━━━━━━━━━━━\u001b[0m\u001b[37m\u001b[0m \u001b[1m0s\u001b[0m 6ms/step - loss: 7.3704e-04 - val_loss: 0.0014\n",
      "Epoch 31/50\n",
      "\u001b[1m15/15\u001b[0m \u001b[32m━━━━━━━━━━━━━━━━━━━━\u001b[0m\u001b[37m\u001b[0m \u001b[1m0s\u001b[0m 5ms/step - loss: 6.0823e-04 - val_loss: 0.0017\n",
      "Epoch 32/50\n",
      "\u001b[1m15/15\u001b[0m \u001b[32m━━━━━━━━━━━━━━━━━━━━\u001b[0m\u001b[37m\u001b[0m \u001b[1m0s\u001b[0m 4ms/step - loss: 6.5664e-04 - val_loss: 0.0023\n",
      "Epoch 33/50\n",
      "\u001b[1m15/15\u001b[0m \u001b[32m━━━━━━━━━━━━━━━━━━━━\u001b[0m\u001b[37m\u001b[0m \u001b[1m0s\u001b[0m 6ms/step - loss: 7.9551e-04 - val_loss: 0.0015\n",
      "Epoch 34/50\n",
      "\u001b[1m15/15\u001b[0m \u001b[32m━━━━━━━━━━━━━━━━━━━━\u001b[0m\u001b[37m\u001b[0m \u001b[1m0s\u001b[0m 4ms/step - loss: 6.3129e-04 - val_loss: 0.0012\n",
      "Epoch 35/50\n",
      "\u001b[1m15/15\u001b[0m \u001b[32m━━━━━━━━━━━━━━━━━━━━\u001b[0m\u001b[37m\u001b[0m \u001b[1m0s\u001b[0m 5ms/step - loss: 5.7367e-04 - val_loss: 0.0011\n",
      "Epoch 36/50\n",
      "\u001b[1m15/15\u001b[0m \u001b[32m━━━━━━━━━━━━━━━━━━━━\u001b[0m\u001b[37m\u001b[0m \u001b[1m0s\u001b[0m 5ms/step - loss: 5.4552e-04 - val_loss: 0.0017\n",
      "Epoch 37/50\n",
      "\u001b[1m15/15\u001b[0m \u001b[32m━━━━━━━━━━━━━━━━━━━━\u001b[0m\u001b[37m\u001b[0m \u001b[1m0s\u001b[0m 5ms/step - loss: 5.5315e-04 - val_loss: 0.0014\n",
      "Epoch 38/50\n",
      "\u001b[1m15/15\u001b[0m \u001b[32m━━━━━━━━━━━━━━━━━━━━\u001b[0m\u001b[37m\u001b[0m \u001b[1m0s\u001b[0m 4ms/step - loss: 3.9603e-04 - val_loss: 0.0013\n",
      "Epoch 39/50\n",
      "\u001b[1m15/15\u001b[0m \u001b[32m━━━━━━━━━━━━━━━━━━━━\u001b[0m\u001b[37m\u001b[0m \u001b[1m0s\u001b[0m 5ms/step - loss: 5.6873e-04 - val_loss: 0.0016\n",
      "Epoch 40/50\n",
      "\u001b[1m15/15\u001b[0m \u001b[32m━━━━━━━━━━━━━━━━━━━━\u001b[0m\u001b[37m\u001b[0m \u001b[1m0s\u001b[0m 5ms/step - loss: 6.0220e-04 - val_loss: 0.0012\n",
      "Epoch 41/50\n",
      "\u001b[1m15/15\u001b[0m \u001b[32m━━━━━━━━━━━━━━━━━━━━\u001b[0m\u001b[37m\u001b[0m \u001b[1m0s\u001b[0m 6ms/step - loss: 4.8896e-04 - val_loss: 0.0014\n",
      "Epoch 42/50\n",
      "\u001b[1m15/15\u001b[0m \u001b[32m━━━━━━━━━━━━━━━━━━━━\u001b[0m\u001b[37m\u001b[0m \u001b[1m0s\u001b[0m 5ms/step - loss: 6.4432e-04 - val_loss: 0.0015\n",
      "Epoch 43/50\n",
      "\u001b[1m15/15\u001b[0m \u001b[32m━━━━━━━━━━━━━━━━━━━━\u001b[0m\u001b[37m\u001b[0m \u001b[1m0s\u001b[0m 7ms/step - loss: 7.3686e-04 - val_loss: 0.0014\n",
      "Epoch 44/50\n",
      "\u001b[1m15/15\u001b[0m \u001b[32m━━━━━━━━━━━━━━━━━━━━\u001b[0m\u001b[37m\u001b[0m \u001b[1m0s\u001b[0m 4ms/step - loss: 8.7729e-04 - val_loss: 0.0014\n",
      "Epoch 45/50\n",
      "\u001b[1m15/15\u001b[0m \u001b[32m━━━━━━━━━━━━━━━━━━━━\u001b[0m\u001b[37m\u001b[0m \u001b[1m0s\u001b[0m 5ms/step - loss: 4.4680e-04 - val_loss: 0.0012\n",
      "Epoch 46/50\n",
      "\u001b[1m15/15\u001b[0m \u001b[32m━━━━━━━━━━━━━━━━━━━━\u001b[0m\u001b[37m\u001b[0m \u001b[1m0s\u001b[0m 5ms/step - loss: 6.6374e-04 - val_loss: 8.7847e-04\n",
      "Epoch 47/50\n",
      "\u001b[1m15/15\u001b[0m \u001b[32m━━━━━━━━━━━━━━━━━━━━\u001b[0m\u001b[37m\u001b[0m \u001b[1m0s\u001b[0m 6ms/step - loss: 4.2307e-04 - val_loss: 0.0012\n",
      "Epoch 48/50\n",
      "\u001b[1m15/15\u001b[0m \u001b[32m━━━━━━━━━━━━━━━━━━━━\u001b[0m\u001b[37m\u001b[0m \u001b[1m0s\u001b[0m 6ms/step - loss: 5.2674e-04 - val_loss: 0.0012\n",
      "Epoch 49/50\n",
      "\u001b[1m15/15\u001b[0m \u001b[32m━━━━━━━━━━━━━━━━━━━━\u001b[0m\u001b[37m\u001b[0m \u001b[1m0s\u001b[0m 5ms/step - loss: 6.7110e-04 - val_loss: 0.0013\n",
      "Epoch 50/50\n",
      "\u001b[1m15/15\u001b[0m \u001b[32m━━━━━━━━━━━━━━━━━━━━\u001b[0m\u001b[37m\u001b[0m \u001b[1m0s\u001b[0m 6ms/step - loss: 5.1211e-04 - val_loss: 0.0015\n",
      "\u001b[1m5/5\u001b[0m \u001b[32m━━━━━━━━━━━━━━━━━━━━\u001b[0m\u001b[37m\u001b[0m \u001b[1m0s\u001b[0m 3ms/step - loss: 0.0019 \n",
      "Test Loss: 0.0017353070434182882\n",
      "WARNING:tensorflow:5 out of the last 10 calls to <function TensorFlowTrainer.make_predict_function.<locals>.one_step_on_data_distributed at 0x0000020EEA387B50> triggered tf.function retracing. Tracing is expensive and the excessive number of tracings could be due to (1) creating @tf.function repeatedly in a loop, (2) passing tensors with different shapes, (3) passing Python objects instead of tensors. For (1), please define your @tf.function outside of the loop. For (2), @tf.function has reduce_retracing=True option that can avoid unnecessary retracing. For (3), please refer to https://www.tensorflow.org/guide/function#controlling_retracing and https://www.tensorflow.org/api_docs/python/tf/function for  more details.\n",
      "\u001b[1m1/5\u001b[0m \u001b[32m━━━━\u001b[0m\u001b[37m━━━━━━━━━━━━━━━━\u001b[0m \u001b[1m0s\u001b[0m 150ms/stepWARNING:tensorflow:5 out of the last 11 calls to <function TensorFlowTrainer.make_predict_function.<locals>.one_step_on_data_distributed at 0x0000020EEA387B50> triggered tf.function retracing. Tracing is expensive and the excessive number of tracings could be due to (1) creating @tf.function repeatedly in a loop, (2) passing tensors with different shapes, (3) passing Python objects instead of tensors. For (1), please define your @tf.function outside of the loop. For (2), @tf.function has reduce_retracing=True option that can avoid unnecessary retracing. For (3), please refer to https://www.tensorflow.org/guide/function#controlling_retracing and https://www.tensorflow.org/api_docs/python/tf/function for  more details.\n",
      "\u001b[1m5/5\u001b[0m \u001b[32m━━━━━━━━━━━━━━━━━━━━\u001b[0m\u001b[37m\u001b[0m \u001b[1m0s\u001b[0m 20ms/step\n"
     ]
    },
    {
     "data": {
      "image/png": "[encoded data removed]",
      "text/plain": [
       "<Figure size 640x480 with 1 Axes>"
      ]
     },
     "metadata": {},
     "output_type": "display_data"
    }
   ],
   "source": [
    "\n",
    "# Sample DataFrame loading (Assuming DataFrame_clean is already defined)\n",
    "df = DataFrame_clean.copy()\n",
    "\n",
    "# Creating lagged features for CO2 data\n",
    "df['Lag_1'] = df['Carbon Dioxide (ppm)'].shift(1)\n",
    "df['Lag_2'] = df['Carbon Dioxide (ppm)'].shift(2)\n",
    "df.dropna(inplace=True)  # Dropping NaN values that arise due to shifting\n",
    "\n",
    "# Split data into features (X) and target variable (y)\n",
    "X = df[['Lag_1', 'Lag_2']]  # Features\n",
    "y = df['Carbon Dioxide (ppm)']  # Target variable\n",
    "\n",
    "# Scaling the features\n",
    "scaler = StandardScaler()\n",
    "X_scaled = scaler.fit_transform(X)\n",
    "\n",
    "# Split the data into training and testing sets\n",
    "X_train, X_test, y_train, y_test = train_test_split(X_scaled, y, test_size=0.2, random_state=42)\n",
    "\n",
    "# Define the neural network architecture\n",
    "model = Sequential([\n",
    "    Dense(64, activation='relu', input_dim=X_train.shape[1]),\n",
    "    Dropout(0.2),\n",
    "    Dense(64, activation='relu'),\n",
    "    Dense(1)  # Output layer with one neuron for regression task\n",
    "])\n",
    "\n",
    "# Compile the model\n",
    "model.compile(optimizer=Adam(), loss='mean_squared_error')\n",
    "\n",
    "# Train the model\n",
    "history = model.fit(X_train, y_train, epochs=50, batch_size=32, validation_split=0.2)\n",
    "\n",
    "# Evaluate the model on the test set\n",
    "loss = model.evaluate(X_test, y_test)\n",
    "print(\"Test Loss:\", loss)\n",
    "\n",
    "# Make predictions\n",
    "predictions = model.predict(X_test)\n",
    "\n",
    "# Visualize training history\n",
    "import matplotlib.pyplot as plt\n",
    "\n",
    "plt.plot(history.history['loss'], label='Training Loss')\n",
    "plt.plot(history.history['val_loss'], label='Validation Loss')\n",
    "plt.xlabel('Epoch')\n",
    "plt.ylabel('Loss')\n",
    "plt.legend()\n",
    "plt.show()\n",
    "\n",
    "df['Lag_1'] = df['Carbon Dioxide (ppm)'].shift(1)\n",
    "df['Lag_2'] = df['Carbon Dioxide (ppm)'].shift(2)\n",
    "df.dropna(inplace=True)  # Dropping NaN values that arise due to shifting\n",
    "\n",
    "# Split data into features (X) and target variable (y)\n",
    "X = df[['Lag_1', 'Lag_2']]  # Features\n",
    "y = df['Carbon Dioxide (ppm)']  # Target variable\n",
    "\n",
    "# Scaling the features\n",
    "scaler = StandardScaler()\n",
    "X_scaled = scaler.fit_transform(X)\n",
    "\n",
    "# Split the data into training and testing sets\n",
    "X_train, X_test, y_train, y_test = train_test_split(X_scaled, y, test_size=0.2, random_state=42)\n",
    "\n",
    "# Define the neural network architecture\n",
    "model = Sequential([\n",
    "    Dense(64, activation='relu', input_dim=X_train.shape[1]),\n",
    "    Dropout(0.2),\n",
    "    Dense(64, activation='relu'),\n",
    "    Dense(1)  # Output layer with one neuron for regression task\n",
    "])\n",
    "\n",
    "# Compile the model\n",
    "model.compile(optimizer=Adam(), loss='mean_squared_error')\n",
    "\n",
    "# Train the model\n",
    "history = model.fit(X_train, y_train, epochs=50, batch_size=32, validation_split=0.2)\n",
    "\n",
    "# Evaluate the model on the test set\n",
    "loss = model.evaluate(X_test, y_test)\n",
    "print(\"Test Loss:\", loss)\n",
    "\n",
    "# Make predictions\n",
    "predictions = model.predict(X_test)\n",
    "\n",
    "# Optionally, you can visualize training history\n",
    "import matplotlib.pyplot as plt\n",
    "\n",
    "plt.plot(history.history['loss'], label='Training Loss')\n",
    "plt.plot(history.history['val_loss'], label='Validation Loss')\n",
    "plt.xlabel('Epoch')\n",
    "plt.ylabel('Loss')\n",
    "plt.legend()\n",
    "plt.show()\n"
   ]
  },
  {
   "cell_type": "markdown",
   "id": "32a4eed5",
   "metadata": {},
   "source": [
    "##### ACCURACY FOR THE ANN MODEL "
   ]
  },
  {
   "cell_type": "code",
   "execution_count": 93,
   "id": "c4e7a55a",
   "metadata": {},
   "outputs": [
    {
     "name": "stdout",
     "output_type": "stream",
     "text": [
      "Mean Squared Error: 0.001735307034808863\n",
      "Root Mean Squared Error: 0.04165701663356202\n",
      "Mean Absolute Error: 0.03520076528454124\n",
      "Model accuracy is below 90%.\n"
     ]
    }
   ],
   "source": [
    "from sklearn.metrics import mean_squared_error, mean_absolute_error\n",
    "import numpy as np\n",
    "\n",
    "# Calculate Mean Squared Error\n",
    "mse = mean_squared_error(y_test, predictions.flatten())\n",
    "\n",
    "# Calculate Root Mean Squared Error\n",
    "rmse = np.sqrt(mse)\n",
    "\n",
    "# Calculate Mean Absolute Error\n",
    "mae = mean_absolute_error(y_test, predictions.flatten())\n",
    "\n",
    "print(\"Mean Squared Error:\", mse)\n",
    "print(\"Root Mean Squared Error:\", rmse)\n",
    "print(\"Mean Absolute Error:\", mae)\n",
    "\n",
    "# Assess if the RMSE is within an acceptable range\n",
    "# Assuming you consider RMSE/mean < 0.1 as above 90% accuracy\n",
    "if rmse / np.mean(y_test) < 0.1:\n",
    "    print(\"Model accuracy is above 90% based on RMSE.\")\n",
    "else:\n",
    "    print(\"Model accuracy is below 90%.\")\n"
   ]
  },
  {
   "cell_type": "code",
   "execution_count": 94,
   "id": "955edc95",
   "metadata": {},
   "outputs": [
    {
     "name": "stdout",
     "output_type": "stream",
     "text": [
      "Model accuracy: 89.58% based on RMSE.\n"
     ]
    }
   ],
   "source": [
    "import numpy as np\n",
    "\n",
    "# Calculate the mean of the test target values\n",
    "mean_y_test = np.mean(y_test)\n",
    "\n",
    "# Calculate the accuracy based on RMSE\n",
    "accuracy = (1 - rmse / mean_y_test) * 100\n",
    "\n",
    "print(f\"Model accuracy: {accuracy:.2f}% based on RMSE.\")"
   ]
  },
  {
   "cell_type": "code",
   "execution_count": null,
   "id": "ab4b1d79",
   "metadata": {},
   "outputs": [],
   "source": []
  }
 ],
 "metadata": {
  "kernelspec": {
   "display_name": "Python 3 (ipykernel)",
   "language": "python",
   "name": "python3"
  },
  "language_info": {
   "codemirror_mode": {
    "name": "ipython",
    "version": 3
   },
   "file_extension": ".py",
   "mimetype": "text/x-python",
   "name": "python",
   "nbconvert_exporter": "python",
   "pygments_lexer": "ipython3",
   "version": "3.10.9"
  }
 },
 "nbformat": 4,
 "nbformat_minor": 5
}
